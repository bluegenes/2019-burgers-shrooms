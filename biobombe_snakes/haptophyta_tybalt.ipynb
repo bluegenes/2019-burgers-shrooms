{
  "nbformat": 4,
  "nbformat_minor": 0,
  "metadata": {
    "colab": {
      "name": "haptophyta_tybalt.ipynb",
      "provenance": [],
      "collapsed_sections": [],
      "include_colab_link": true
    },
    "kernelspec": {
      "name": "python3",
      "display_name": "Python 3"
    }
  },
  "cells": [
    {
      "cell_type": "markdown",
      "metadata": {
        "id": "view-in-github",
        "colab_type": "text"
      },
      "source": [
        "<a href=\"https://colab.research.google.com/github/bluegenes/2019-burgers-shrooms/blob/master/biobombe_snakes/haptophyta_tybalt.ipynb\" target=\"_parent\"><img src=\"https://colab.research.google.com/assets/colab-badge.svg\" alt=\"Open In Colab\"/></a>"
      ]
    },
    {
      "cell_type": "markdown",
      "metadata": {
        "id": "SQV7nBiSqOzO",
        "colab_type": "text"
      },
      "source": [
        "# Run a Variational Autoencoder on MMETSP gene expression data"
      ]
    },
    {
      "cell_type": "code",
      "metadata": {
        "id": "_-noqMmovFbO",
        "colab_type": "code",
        "colab": {}
      },
      "source": [
        "#colab setup: enable file downloads\n",
        "from google.colab import files"
      ],
      "execution_count": 0,
      "outputs": []
    },
    {
      "cell_type": "markdown",
      "metadata": {
        "id": "b5ulyLukqIgY",
        "colab_type": "text"
      },
      "source": [
        "## Download and Preprocess Haptophyta Data"
      ]
    },
    {
      "cell_type": "code",
      "metadata": {
        "id": "UZitOauignFR",
        "colab_type": "code",
        "colab": {}
      },
      "source": [
        "import os\n",
        "import random\n",
        "import pandas as pd\n",
        "from sklearn.model_selection import train_test_split\n",
        "from sklearn.preprocessing import MinMaxScaler"
      ],
      "execution_count": 0,
      "outputs": []
    },
    {
      "cell_type": "code",
      "metadata": {
        "id": "sU0bACuAmG-J",
        "colab_type": "code",
        "colab": {}
      },
      "source": [
        "random.seed(1234)"
      ],
      "execution_count": 0,
      "outputs": []
    },
    {
      "cell_type": "code",
      "metadata": {
        "id": "ZmQlZt7smII2",
        "colab_type": "code",
        "outputId": "03b121ba-5295-403b-a077-22d40f9a3912",
        "colab": {
          "base_uri": "https://localhost:8080/",
          "height": 306
        }
      },
      "source": [
        "# Read in haptophyta mmetsp (orthogroup) count data\n",
        "!wget https://osf.io/ek9nu/download -O haptophyta_orthogroup.quant.tsv\n",
        "countfile = \"haptophyta_orthogroup.quant.tsv\""
      ],
      "execution_count": 6,
      "outputs": [
        {
          "output_type": "stream",
          "text": [
            "--2019-11-03 18:53:02--  https://osf.io/ek9nu/download\n",
            "Resolving osf.io (osf.io)... 35.190.84.173\n",
            "Connecting to osf.io (osf.io)|35.190.84.173|:443... connected.\n",
            "HTTP request sent, awaiting response... 302 FOUND\n",
            "Location: https://files.osf.io/v1/resources/p4xvd/providers/osfstorage/5d8e3fd8d5512000195bf078?action=download&version=1&direct [following]\n",
            "--2019-11-03 18:53:03--  https://files.osf.io/v1/resources/p4xvd/providers/osfstorage/5d8e3fd8d5512000195bf078?action=download&version=1&direct\n",
            "Resolving files.osf.io (files.osf.io)... 35.186.214.196\n",
            "Connecting to files.osf.io (files.osf.io)|35.186.214.196|:443... connected.\n",
            "HTTP request sent, awaiting response... 200 OK\n",
            "Length: 35522640 (34M) [application/octet-stream]\n",
            "Saving to: ‘haptophyta_orthogroup.quant.tsv’\n",
            "\n",
            "haptophyta_orthogro 100%[===================>]  33.88M  21.8MB/s    in 1.6s    \n",
            "\n",
            "2019-11-03 18:53:05 (21.8 MB/s) - ‘haptophyta_orthogroup.quant.tsv’ saved [35522640/35522640]\n",
            "\n"
          ],
          "name": "stdout"
        }
      ]
    },
    {
      "cell_type": "code",
      "metadata": {
        "id": "C-DGI3wim4-y",
        "colab_type": "code",
        "colab": {
          "base_uri": "https://localhost:8080/",
          "height": 245
        },
        "outputId": "a202e990-1680-46db-cce6-f1f1e9c7730e"
      },
      "source": [
        "# Read in count table (salmon TPM values)\n",
        "og_count_data = pd.read_csv(countfile, dtype='str', sep='\\t', index_col=0)\n",
        "og_count_data.head()"
      ],
      "execution_count": 7,
      "outputs": [
        {
          "output_type": "execute_result",
          "data": {
            "text/html": [
              "<div>\n",
              "<style scoped>\n",
              "    .dataframe tbody tr th:only-of-type {\n",
              "        vertical-align: middle;\n",
              "    }\n",
              "\n",
              "    .dataframe tbody tr th {\n",
              "        vertical-align: top;\n",
              "    }\n",
              "\n",
              "    .dataframe thead th {\n",
              "        text-align: right;\n",
              "    }\n",
              "</style>\n",
              "<table border=\"1\" class=\"dataframe\">\n",
              "  <thead>\n",
              "    <tr style=\"text-align: right;\">\n",
              "      <th></th>\n",
              "      <th>MMETSP0006</th>\n",
              "      <th>MMETSP0007</th>\n",
              "      <th>MMETSP0143</th>\n",
              "      <th>MMETSP0145</th>\n",
              "      <th>MMETSP0146</th>\n",
              "      <th>MMETSP0147</th>\n",
              "      <th>MMETSP0164</th>\n",
              "      <th>MMETSP0286</th>\n",
              "      <th>MMETSP0287</th>\n",
              "      <th>MMETSP0595</th>\n",
              "      <th>MMETSP0814</th>\n",
              "      <th>MMETSP0815</th>\n",
              "      <th>MMETSP0943</th>\n",
              "      <th>MMETSP0944</th>\n",
              "      <th>MMETSP0994</th>\n",
              "      <th>MMETSP0995</th>\n",
              "      <th>MMETSP0996</th>\n",
              "      <th>MMETSP0997</th>\n",
              "      <th>MMETSP1006</th>\n",
              "      <th>MMETSP1007</th>\n",
              "      <th>MMETSP1008</th>\n",
              "      <th>MMETSP1009</th>\n",
              "      <th>MMETSP1083</th>\n",
              "      <th>MMETSP1090</th>\n",
              "      <th>MMETSP1094</th>\n",
              "      <th>MMETSP1096</th>\n",
              "      <th>MMETSP1100</th>\n",
              "      <th>MMETSP1129</th>\n",
              "      <th>MMETSP1130</th>\n",
              "      <th>MMETSP1131</th>\n",
              "      <th>MMETSP1132</th>\n",
              "      <th>MMETSP1136</th>\n",
              "      <th>MMETSP1137</th>\n",
              "      <th>MMETSP1138</th>\n",
              "      <th>MMETSP1139</th>\n",
              "      <th>MMETSP1140</th>\n",
              "      <th>MMETSP1150</th>\n",
              "      <th>MMETSP1151</th>\n",
              "      <th>MMETSP1152</th>\n",
              "      <th>MMETSP1153</th>\n",
              "      <th>MMETSP1154</th>\n",
              "      <th>MMETSP1155</th>\n",
              "      <th>MMETSP1156</th>\n",
              "      <th>MMETSP1157</th>\n",
              "      <th>MMETSP1162</th>\n",
              "      <th>MMETSP1178</th>\n",
              "      <th>MMETSP1333</th>\n",
              "      <th>MMETSP1334</th>\n",
              "      <th>MMETSP1335</th>\n",
              "      <th>MMETSP1363</th>\n",
              "      <th>MMETSP1364</th>\n",
              "      <th>MMETSP1365</th>\n",
              "      <th>MMETSP1366</th>\n",
              "      <th>MMETSP1381</th>\n",
              "      <th>MMETSP1388</th>\n",
              "      <th>MMETSP1444</th>\n",
              "      <th>MMETSP1463</th>\n",
              "      <th>MMETSP1464</th>\n",
              "      <th>MMETSP1465</th>\n",
              "      <th>MMETSP1466</th>\n",
              "      <th>MMETSP1474</th>\n",
              "    </tr>\n",
              "    <tr>\n",
              "      <th>Orthogroup</th>\n",
              "      <th></th>\n",
              "      <th></th>\n",
              "      <th></th>\n",
              "      <th></th>\n",
              "      <th></th>\n",
              "      <th></th>\n",
              "      <th></th>\n",
              "      <th></th>\n",
              "      <th></th>\n",
              "      <th></th>\n",
              "      <th></th>\n",
              "      <th></th>\n",
              "      <th></th>\n",
              "      <th></th>\n",
              "      <th></th>\n",
              "      <th></th>\n",
              "      <th></th>\n",
              "      <th></th>\n",
              "      <th></th>\n",
              "      <th></th>\n",
              "      <th></th>\n",
              "      <th></th>\n",
              "      <th></th>\n",
              "      <th></th>\n",
              "      <th></th>\n",
              "      <th></th>\n",
              "      <th></th>\n",
              "      <th></th>\n",
              "      <th></th>\n",
              "      <th></th>\n",
              "      <th></th>\n",
              "      <th></th>\n",
              "      <th></th>\n",
              "      <th></th>\n",
              "      <th></th>\n",
              "      <th></th>\n",
              "      <th></th>\n",
              "      <th></th>\n",
              "      <th></th>\n",
              "      <th></th>\n",
              "      <th></th>\n",
              "      <th></th>\n",
              "      <th></th>\n",
              "      <th></th>\n",
              "      <th></th>\n",
              "      <th></th>\n",
              "      <th></th>\n",
              "      <th></th>\n",
              "      <th></th>\n",
              "      <th></th>\n",
              "      <th></th>\n",
              "      <th></th>\n",
              "      <th></th>\n",
              "      <th></th>\n",
              "      <th></th>\n",
              "      <th></th>\n",
              "      <th></th>\n",
              "      <th></th>\n",
              "      <th></th>\n",
              "      <th></th>\n",
              "      <th></th>\n",
              "    </tr>\n",
              "  </thead>\n",
              "  <tbody>\n",
              "    <tr>\n",
              "      <th>OG0000000</th>\n",
              "      <td>5.692404</td>\n",
              "      <td>9.192646</td>\n",
              "      <td>2.9055169999999997</td>\n",
              "      <td>3.757075</td>\n",
              "      <td>5.868158</td>\n",
              "      <td>5.499417</td>\n",
              "      <td>7.418778</td>\n",
              "      <td>3.367139</td>\n",
              "      <td>2.7031009999999998</td>\n",
              "      <td>7.326232000000001</td>\n",
              "      <td>8.386866</td>\n",
              "      <td>6.390308</td>\n",
              "      <td>7.671593</td>\n",
              "      <td>27.660133000000002</td>\n",
              "      <td>7.4820899999999995</td>\n",
              "      <td>19.202436</td>\n",
              "      <td>7.316675</td>\n",
              "      <td>4.081011</td>\n",
              "      <td>12.27723</td>\n",
              "      <td>12.057223</td>\n",
              "      <td>7.447748</td>\n",
              "      <td>15.5514</td>\n",
              "      <td>5.421988</td>\n",
              "      <td>50.268566</td>\n",
              "      <td>4.508126</td>\n",
              "      <td>2.790315</td>\n",
              "      <td>4.6651419999999995</td>\n",
              "      <td>25.560263</td>\n",
              "      <td>0</td>\n",
              "      <td>0</td>\n",
              "      <td>6.950589999999999</td>\n",
              "      <td>6.34561</td>\n",
              "      <td>4.817272</td>\n",
              "      <td>9.52047</td>\n",
              "      <td>10.384035</td>\n",
              "      <td>8.230353</td>\n",
              "      <td>6.275345</td>\n",
              "      <td>6.817439</td>\n",
              "      <td>8.036964999999999</td>\n",
              "      <td>6.022808</td>\n",
              "      <td>8.386174</td>\n",
              "      <td>2.755249</td>\n",
              "      <td>8.401511</td>\n",
              "      <td>13.666982</td>\n",
              "      <td>9.250552</td>\n",
              "      <td>6.69298</td>\n",
              "      <td>3.748318</td>\n",
              "      <td>3.84763</td>\n",
              "      <td>6.127899</td>\n",
              "      <td>5.304907</td>\n",
              "      <td>3.783507</td>\n",
              "      <td>6.547522</td>\n",
              "      <td>7.9800759999999995</td>\n",
              "      <td>11.982837</td>\n",
              "      <td>4.8169830000000005</td>\n",
              "      <td>3.247528</td>\n",
              "      <td>25.61122</td>\n",
              "      <td>24.079214</td>\n",
              "      <td>0</td>\n",
              "      <td>7.392098</td>\n",
              "      <td>7.807945</td>\n",
              "    </tr>\n",
              "    <tr>\n",
              "      <th>OG0000001</th>\n",
              "      <td>33.929821000000004</td>\n",
              "      <td>6.325476</td>\n",
              "      <td>2.18526</td>\n",
              "      <td>6.389158</td>\n",
              "      <td>78.751694</td>\n",
              "      <td>6.727567</td>\n",
              "      <td>0.0</td>\n",
              "      <td>4.448289</td>\n",
              "      <td>22.925297</td>\n",
              "      <td>10.532751</td>\n",
              "      <td>20.85804</td>\n",
              "      <td>14.984426999999998</td>\n",
              "      <td>3.861879</td>\n",
              "      <td>16.633406</td>\n",
              "      <td>6.413907</td>\n",
              "      <td>6.945968</td>\n",
              "      <td>2.9289669999999997</td>\n",
              "      <td>12.077438</td>\n",
              "      <td>13.40156</td>\n",
              "      <td>59.032679</td>\n",
              "      <td>174.72365200000002</td>\n",
              "      <td>21.920413</td>\n",
              "      <td>10.97166</td>\n",
              "      <td>29.78357</td>\n",
              "      <td>5.2642489999999995</td>\n",
              "      <td>12.900903999999999</td>\n",
              "      <td>9.61877</td>\n",
              "      <td>282.614685</td>\n",
              "      <td>0</td>\n",
              "      <td>14.749146</td>\n",
              "      <td>112.91372</td>\n",
              "      <td>17.807367000000003</td>\n",
              "      <td>6.834799</td>\n",
              "      <td>5.825709</td>\n",
              "      <td>9.662566</td>\n",
              "      <td>17.848036999999998</td>\n",
              "      <td>16.556667</td>\n",
              "      <td>9.07812</td>\n",
              "      <td>3.352292</td>\n",
              "      <td>8.404731</td>\n",
              "      <td>15.31913</td>\n",
              "      <td>12.016518</td>\n",
              "      <td>8.598666999999999</td>\n",
              "      <td>5.406474</td>\n",
              "      <td>27.223838</td>\n",
              "      <td>18.510285</td>\n",
              "      <td>6.404769</td>\n",
              "      <td>20.764166</td>\n",
              "      <td>36.026886</td>\n",
              "      <td>1.313285</td>\n",
              "      <td>5.7049129999999995</td>\n",
              "      <td>4.945348</td>\n",
              "      <td>46.201712</td>\n",
              "      <td>66.158688</td>\n",
              "      <td>8.142418</td>\n",
              "      <td>2.290923</td>\n",
              "      <td>15.398330999999999</td>\n",
              "      <td>5.742015</td>\n",
              "      <td>12.007027</td>\n",
              "      <td>42.200879</td>\n",
              "      <td>5.05271</td>\n",
              "    </tr>\n",
              "    <tr>\n",
              "      <th>OG0000002</th>\n",
              "      <td>324.253933</td>\n",
              "      <td>7.531185000000001</td>\n",
              "      <td>2.744903</td>\n",
              "      <td>4.242075</td>\n",
              "      <td>5.508942</td>\n",
              "      <td>3.0157689999999997</td>\n",
              "      <td>6.323272</td>\n",
              "      <td>6.7641350000000005</td>\n",
              "      <td>88.017239</td>\n",
              "      <td>10.547929</td>\n",
              "      <td>214.872567</td>\n",
              "      <td>9.040294</td>\n",
              "      <td>10.499975</td>\n",
              "      <td>9.936903</td>\n",
              "      <td>11.14763</td>\n",
              "      <td>100.072328</td>\n",
              "      <td>31.468903000000005</td>\n",
              "      <td>17.188476</td>\n",
              "      <td>9.319344000000001</td>\n",
              "      <td>15.127282999999998</td>\n",
              "      <td>270.45238</td>\n",
              "      <td>103.31606</td>\n",
              "      <td>16.923513</td>\n",
              "      <td>10.845783</td>\n",
              "      <td>5.004992</td>\n",
              "      <td>2.271213</td>\n",
              "      <td>6.452391</td>\n",
              "      <td>12.303547</td>\n",
              "      <td>0</td>\n",
              "      <td>32.078621000000005</td>\n",
              "      <td>8.721033</td>\n",
              "      <td>5.325386</td>\n",
              "      <td>6.3379129999999995</td>\n",
              "      <td>40.505463</td>\n",
              "      <td>114.866997</td>\n",
              "      <td>7.384146</td>\n",
              "      <td>11.045384</td>\n",
              "      <td>5.110608</td>\n",
              "      <td>3.859785</td>\n",
              "      <td>7.315498</td>\n",
              "      <td>16.532792999999998</td>\n",
              "      <td>6.760153</td>\n",
              "      <td>4.853857</td>\n",
              "      <td>7.419756</td>\n",
              "      <td>19.280310999999998</td>\n",
              "      <td>7.281847999999999</td>\n",
              "      <td>3.569462</td>\n",
              "      <td>17.38441</td>\n",
              "      <td>5.505254</td>\n",
              "      <td>8.671964</td>\n",
              "      <td>6.6644429999999995</td>\n",
              "      <td>32.506054999999996</td>\n",
              "      <td>6.080753</td>\n",
              "      <td>15.256177</td>\n",
              "      <td>8.955105999999999</td>\n",
              "      <td>6.568403999999999</td>\n",
              "      <td>47.265978999999994</td>\n",
              "      <td>8.417074000000001</td>\n",
              "      <td>18.271429</td>\n",
              "      <td>7.843901</td>\n",
              "      <td>3.130952</td>\n",
              "    </tr>\n",
              "    <tr>\n",
              "      <th>OG0000003</th>\n",
              "      <td>5.383275</td>\n",
              "      <td>11.367026</td>\n",
              "      <td>3.4986230000000003</td>\n",
              "      <td>4.546308</td>\n",
              "      <td>19.235832000000002</td>\n",
              "      <td>3.423806</td>\n",
              "      <td>6.057106</td>\n",
              "      <td>10.781557000000001</td>\n",
              "      <td>5.101061</td>\n",
              "      <td>15.737048000000001</td>\n",
              "      <td>11.805058</td>\n",
              "      <td>4.365718</td>\n",
              "      <td>18.657653</td>\n",
              "      <td>6.065597</td>\n",
              "      <td>7.1212</td>\n",
              "      <td>16.854955</td>\n",
              "      <td>13.258695999999999</td>\n",
              "      <td>9.310373</td>\n",
              "      <td>170.743919</td>\n",
              "      <td>16.255922</td>\n",
              "      <td>31.020125</td>\n",
              "      <td>29.343194</td>\n",
              "      <td>6.680433</td>\n",
              "      <td>7.117025999999999</td>\n",
              "      <td>5.444445</td>\n",
              "      <td>4.246262000000001</td>\n",
              "      <td>9.302824000000001</td>\n",
              "      <td>10.511528</td>\n",
              "      <td>0</td>\n",
              "      <td>0</td>\n",
              "      <td>9.42455</td>\n",
              "      <td>7.834925999999999</td>\n",
              "      <td>0</td>\n",
              "      <td>0</td>\n",
              "      <td>0</td>\n",
              "      <td>0</td>\n",
              "      <td>12.476213000000001</td>\n",
              "      <td>8.979183</td>\n",
              "      <td>9.513646000000001</td>\n",
              "      <td>15.553153</td>\n",
              "      <td>18.442789</td>\n",
              "      <td>12.229230000000001</td>\n",
              "      <td>5.601222</td>\n",
              "      <td>8.057167999999999</td>\n",
              "      <td>115.528158</td>\n",
              "      <td>5.869098999999999</td>\n",
              "      <td>6.142789</td>\n",
              "      <td>6.313898</td>\n",
              "      <td>0</td>\n",
              "      <td>6.417822</td>\n",
              "      <td>7.451776</td>\n",
              "      <td>3.065601</td>\n",
              "      <td>7.12507</td>\n",
              "      <td>0</td>\n",
              "      <td>8.484319000000001</td>\n",
              "      <td>6.745576</td>\n",
              "      <td>0</td>\n",
              "      <td>0</td>\n",
              "      <td>0</td>\n",
              "      <td>0</td>\n",
              "      <td>6.192581</td>\n",
              "    </tr>\n",
              "    <tr>\n",
              "      <th>OG0000004</th>\n",
              "      <td>30.886401</td>\n",
              "      <td>4.761553</td>\n",
              "      <td>2.954227</td>\n",
              "      <td>4.418489</td>\n",
              "      <td>4.029859</td>\n",
              "      <td>4.1453489999999995</td>\n",
              "      <td>4.741753</td>\n",
              "      <td>6.330821</td>\n",
              "      <td>3.734914</td>\n",
              "      <td>9.055886</td>\n",
              "      <td>21.724429</td>\n",
              "      <td>4.99175</td>\n",
              "      <td>16.284330999999998</td>\n",
              "      <td>27.424606</td>\n",
              "      <td>10.897036</td>\n",
              "      <td>8.573706</td>\n",
              "      <td>9.476449</td>\n",
              "      <td>11.537756</td>\n",
              "      <td>9.172114</td>\n",
              "      <td>5.986557</td>\n",
              "      <td>40.314775</td>\n",
              "      <td>11.516709</td>\n",
              "      <td>8.316373</td>\n",
              "      <td>14.105079000000002</td>\n",
              "      <td>6.336546</td>\n",
              "      <td>5.631332</td>\n",
              "      <td>4.631146</td>\n",
              "      <td>31.124793</td>\n",
              "      <td>0</td>\n",
              "      <td>0</td>\n",
              "      <td>4.525456</td>\n",
              "      <td>10.067772</td>\n",
              "      <td>0.0</td>\n",
              "      <td>12.401584</td>\n",
              "      <td>8.846511999999999</td>\n",
              "      <td>8.574632000000001</td>\n",
              "      <td>9.048193</td>\n",
              "      <td>10.22678</td>\n",
              "      <td>5.997726999999999</td>\n",
              "      <td>6.719832000000001</td>\n",
              "      <td>20.552970000000002</td>\n",
              "      <td>3.973926</td>\n",
              "      <td>1.545029</td>\n",
              "      <td>6.309607</td>\n",
              "      <td>4.844745</td>\n",
              "      <td>13.95246</td>\n",
              "      <td>5.3411610000000005</td>\n",
              "      <td>3.968332</td>\n",
              "      <td>5.101897</td>\n",
              "      <td>2.810343</td>\n",
              "      <td>3.720962</td>\n",
              "      <td>108.53154599999999</td>\n",
              "      <td>3.701343</td>\n",
              "      <td>0.37842600000000004</td>\n",
              "      <td>2.102758</td>\n",
              "      <td>16.504742</td>\n",
              "      <td>0</td>\n",
              "      <td>19.464495</td>\n",
              "      <td>0</td>\n",
              "      <td>0.0</td>\n",
              "      <td>3.596468</td>\n",
              "    </tr>\n",
              "  </tbody>\n",
              "</table>\n",
              "</div>"
            ],
            "text/plain": [
              "                    MMETSP0006         MMETSP0007  ... MMETSP1466 MMETSP1474\n",
              "Orthogroup                                         ...                      \n",
              "OG0000000             5.692404           9.192646  ...   7.392098   7.807945\n",
              "OG0000001   33.929821000000004           6.325476  ...  42.200879    5.05271\n",
              "OG0000002           324.253933  7.531185000000001  ...   7.843901   3.130952\n",
              "OG0000003             5.383275          11.367026  ...          0   6.192581\n",
              "OG0000004            30.886401           4.761553  ...        0.0   3.596468\n",
              "\n",
              "[5 rows x 61 columns]"
            ]
          },
          "metadata": {
            "tags": []
          },
          "execution_count": 7
        }
      ]
    },
    {
      "cell_type": "code",
      "metadata": {
        "id": "6Lfdv10SlDDQ",
        "colab_type": "code",
        "outputId": "6feae7b0-f7f7-4abb-cd65-d5a4ce59f57a",
        "colab": {
          "base_uri": "https://localhost:8080/",
          "height": 278
        }
      },
      "source": [
        "# Zero - One Normalize the data\n",
        "min_max_scaler = MinMaxScaler()\n",
        "og_count_data = og_count_data.sort_index() # sort by gene name\n",
        "count_data_scaled = min_max_scaler.fit_transform(og_count_data.T)\n",
        "data_DF = pd.DataFrame(count_data_scaled, index=og_count_data.columns, columns=og_count_data.index)  # transform back\n",
        "print(min_max_scaler.data_max_)\n",
        "print(data_DF.shape)\n",
        "data_DF.head()"
      ],
      "execution_count": 24,
      "outputs": [
        {
          "output_type": "stream",
          "text": [
            "[ 50.268566 282.614685 324.253933 ...   7.271535   7.18217    4.199081]\n",
            "(61, 181728)\n"
          ],
          "name": "stdout"
        },
        {
          "output_type": "execute_result",
          "data": {
            "text/html": [
              "<div>\n",
              "<style scoped>\n",
              "    .dataframe tbody tr th:only-of-type {\n",
              "        vertical-align: middle;\n",
              "    }\n",
              "\n",
              "    .dataframe tbody tr th {\n",
              "        vertical-align: top;\n",
              "    }\n",
              "\n",
              "    .dataframe thead th {\n",
              "        text-align: right;\n",
              "    }\n",
              "</style>\n",
              "<table border=\"1\" class=\"dataframe\">\n",
              "  <thead>\n",
              "    <tr style=\"text-align: right;\">\n",
              "      <th>Orthogroup</th>\n",
              "      <th>OG0000000</th>\n",
              "      <th>OG0000001</th>\n",
              "      <th>OG0000002</th>\n",
              "      <th>OG0000003</th>\n",
              "      <th>OG0000004</th>\n",
              "      <th>OG0000005</th>\n",
              "      <th>OG0000006</th>\n",
              "      <th>OG0000007</th>\n",
              "      <th>OG0000008</th>\n",
              "      <th>OG0000009</th>\n",
              "      <th>OG0000010</th>\n",
              "      <th>OG0000011</th>\n",
              "      <th>OG0000012</th>\n",
              "      <th>OG0000013</th>\n",
              "      <th>OG0000014</th>\n",
              "      <th>OG0000015</th>\n",
              "      <th>OG0000016</th>\n",
              "      <th>OG0000017</th>\n",
              "      <th>OG0000018</th>\n",
              "      <th>OG0000019</th>\n",
              "      <th>OG0000020</th>\n",
              "      <th>OG0000021</th>\n",
              "      <th>OG0000022</th>\n",
              "      <th>OG0000023</th>\n",
              "      <th>OG0000024</th>\n",
              "      <th>OG0000025</th>\n",
              "      <th>OG0000026</th>\n",
              "      <th>OG0000027</th>\n",
              "      <th>OG0000028</th>\n",
              "      <th>OG0000029</th>\n",
              "      <th>OG0000030</th>\n",
              "      <th>OG0000031</th>\n",
              "      <th>OG0000032</th>\n",
              "      <th>OG0000033</th>\n",
              "      <th>OG0000034</th>\n",
              "      <th>OG0000035</th>\n",
              "      <th>OG0000036</th>\n",
              "      <th>OG0000037</th>\n",
              "      <th>OG0000038</th>\n",
              "      <th>OG0000039</th>\n",
              "      <th>...</th>\n",
              "      <th>OG0181688</th>\n",
              "      <th>OG0181689</th>\n",
              "      <th>OG0181690</th>\n",
              "      <th>OG0181691</th>\n",
              "      <th>OG0181692</th>\n",
              "      <th>OG0181693</th>\n",
              "      <th>OG0181694</th>\n",
              "      <th>OG0181695</th>\n",
              "      <th>OG0181696</th>\n",
              "      <th>OG0181697</th>\n",
              "      <th>OG0181698</th>\n",
              "      <th>OG0181699</th>\n",
              "      <th>OG0181700</th>\n",
              "      <th>OG0181701</th>\n",
              "      <th>OG0181702</th>\n",
              "      <th>OG0181703</th>\n",
              "      <th>OG0181704</th>\n",
              "      <th>OG0181705</th>\n",
              "      <th>OG0181706</th>\n",
              "      <th>OG0181707</th>\n",
              "      <th>OG0181708</th>\n",
              "      <th>OG0181709</th>\n",
              "      <th>OG0181710</th>\n",
              "      <th>OG0181711</th>\n",
              "      <th>OG0181712</th>\n",
              "      <th>OG0181713</th>\n",
              "      <th>OG0181714</th>\n",
              "      <th>OG0181715</th>\n",
              "      <th>OG0181716</th>\n",
              "      <th>OG0181717</th>\n",
              "      <th>OG0181718</th>\n",
              "      <th>OG0181719</th>\n",
              "      <th>OG0181720</th>\n",
              "      <th>OG0181721</th>\n",
              "      <th>OG0181722</th>\n",
              "      <th>OG0181723</th>\n",
              "      <th>OG0181724</th>\n",
              "      <th>OG0181725</th>\n",
              "      <th>OG0181726</th>\n",
              "      <th>OG0181727</th>\n",
              "    </tr>\n",
              "  </thead>\n",
              "  <tbody>\n",
              "    <tr>\n",
              "      <th>MMETSP0006</th>\n",
              "      <td>0.113240</td>\n",
              "      <td>0.120057</td>\n",
              "      <td>1.000000</td>\n",
              "      <td>0.031528</td>\n",
              "      <td>0.284585</td>\n",
              "      <td>0.372129</td>\n",
              "      <td>0.313386</td>\n",
              "      <td>0.285127</td>\n",
              "      <td>0.034639</td>\n",
              "      <td>0.127194</td>\n",
              "      <td>0.089839</td>\n",
              "      <td>0.084046</td>\n",
              "      <td>0.048706</td>\n",
              "      <td>0.131961</td>\n",
              "      <td>0.046643</td>\n",
              "      <td>0.269014</td>\n",
              "      <td>0.036366</td>\n",
              "      <td>0.011046</td>\n",
              "      <td>0.070939</td>\n",
              "      <td>0.005474</td>\n",
              "      <td>0.001700</td>\n",
              "      <td>0.340723</td>\n",
              "      <td>0.000000</td>\n",
              "      <td>0.333342</td>\n",
              "      <td>0.014974</td>\n",
              "      <td>0.175071</td>\n",
              "      <td>0.960524</td>\n",
              "      <td>0.001903</td>\n",
              "      <td>0.080592</td>\n",
              "      <td>0.056344</td>\n",
              "      <td>0.117644</td>\n",
              "      <td>0.361538</td>\n",
              "      <td>0.039543</td>\n",
              "      <td>0.099375</td>\n",
              "      <td>0.050278</td>\n",
              "      <td>0.078941</td>\n",
              "      <td>0.065393</td>\n",
              "      <td>0.047852</td>\n",
              "      <td>0.011632</td>\n",
              "      <td>0.076964</td>\n",
              "      <td>...</td>\n",
              "      <td>0.0</td>\n",
              "      <td>0.0</td>\n",
              "      <td>0.0</td>\n",
              "      <td>0.0</td>\n",
              "      <td>0.0</td>\n",
              "      <td>0.0</td>\n",
              "      <td>0.0</td>\n",
              "      <td>0.0</td>\n",
              "      <td>0.0</td>\n",
              "      <td>0.0</td>\n",
              "      <td>0.0</td>\n",
              "      <td>0.0</td>\n",
              "      <td>0.0</td>\n",
              "      <td>0.0</td>\n",
              "      <td>0.0</td>\n",
              "      <td>0.0</td>\n",
              "      <td>0.0</td>\n",
              "      <td>0.0</td>\n",
              "      <td>0.0</td>\n",
              "      <td>0.0</td>\n",
              "      <td>0.0</td>\n",
              "      <td>0.0</td>\n",
              "      <td>0.0</td>\n",
              "      <td>0.0</td>\n",
              "      <td>0.0</td>\n",
              "      <td>0.0</td>\n",
              "      <td>0.0</td>\n",
              "      <td>0.0</td>\n",
              "      <td>0.0</td>\n",
              "      <td>0.0</td>\n",
              "      <td>0.0</td>\n",
              "      <td>0.0</td>\n",
              "      <td>0.0</td>\n",
              "      <td>0.0</td>\n",
              "      <td>0.0</td>\n",
              "      <td>0.0</td>\n",
              "      <td>0.0</td>\n",
              "      <td>0.0</td>\n",
              "      <td>0.0</td>\n",
              "      <td>0.0</td>\n",
              "    </tr>\n",
              "    <tr>\n",
              "      <th>MMETSP0007</th>\n",
              "      <td>0.182871</td>\n",
              "      <td>0.022382</td>\n",
              "      <td>0.023226</td>\n",
              "      <td>0.066574</td>\n",
              "      <td>0.043873</td>\n",
              "      <td>0.377126</td>\n",
              "      <td>0.024101</td>\n",
              "      <td>0.096322</td>\n",
              "      <td>0.036715</td>\n",
              "      <td>0.259726</td>\n",
              "      <td>0.144828</td>\n",
              "      <td>0.102004</td>\n",
              "      <td>0.025812</td>\n",
              "      <td>1.000000</td>\n",
              "      <td>0.000000</td>\n",
              "      <td>0.454480</td>\n",
              "      <td>0.020584</td>\n",
              "      <td>0.001248</td>\n",
              "      <td>0.077553</td>\n",
              "      <td>0.016088</td>\n",
              "      <td>0.004223</td>\n",
              "      <td>0.402223</td>\n",
              "      <td>0.000000</td>\n",
              "      <td>0.000000</td>\n",
              "      <td>0.056349</td>\n",
              "      <td>0.215833</td>\n",
              "      <td>0.186821</td>\n",
              "      <td>0.002358</td>\n",
              "      <td>0.086602</td>\n",
              "      <td>0.066990</td>\n",
              "      <td>0.093418</td>\n",
              "      <td>0.162657</td>\n",
              "      <td>0.033529</td>\n",
              "      <td>0.339351</td>\n",
              "      <td>0.012331</td>\n",
              "      <td>0.054040</td>\n",
              "      <td>0.156668</td>\n",
              "      <td>0.000000</td>\n",
              "      <td>0.010513</td>\n",
              "      <td>0.143098</td>\n",
              "      <td>...</td>\n",
              "      <td>0.0</td>\n",
              "      <td>0.0</td>\n",
              "      <td>0.0</td>\n",
              "      <td>0.0</td>\n",
              "      <td>0.0</td>\n",
              "      <td>0.0</td>\n",
              "      <td>0.0</td>\n",
              "      <td>0.0</td>\n",
              "      <td>0.0</td>\n",
              "      <td>0.0</td>\n",
              "      <td>0.0</td>\n",
              "      <td>0.0</td>\n",
              "      <td>0.0</td>\n",
              "      <td>0.0</td>\n",
              "      <td>0.0</td>\n",
              "      <td>0.0</td>\n",
              "      <td>0.0</td>\n",
              "      <td>0.0</td>\n",
              "      <td>0.0</td>\n",
              "      <td>0.0</td>\n",
              "      <td>0.0</td>\n",
              "      <td>0.0</td>\n",
              "      <td>0.0</td>\n",
              "      <td>0.0</td>\n",
              "      <td>0.0</td>\n",
              "      <td>0.0</td>\n",
              "      <td>0.0</td>\n",
              "      <td>0.0</td>\n",
              "      <td>0.0</td>\n",
              "      <td>0.0</td>\n",
              "      <td>0.0</td>\n",
              "      <td>0.0</td>\n",
              "      <td>0.0</td>\n",
              "      <td>0.0</td>\n",
              "      <td>0.0</td>\n",
              "      <td>0.0</td>\n",
              "      <td>0.0</td>\n",
              "      <td>0.0</td>\n",
              "      <td>0.0</td>\n",
              "      <td>0.0</td>\n",
              "    </tr>\n",
              "    <tr>\n",
              "      <th>MMETSP0143</th>\n",
              "      <td>0.057800</td>\n",
              "      <td>0.007732</td>\n",
              "      <td>0.008465</td>\n",
              "      <td>0.020490</td>\n",
              "      <td>0.027220</td>\n",
              "      <td>0.185800</td>\n",
              "      <td>0.024457</td>\n",
              "      <td>0.212781</td>\n",
              "      <td>0.040922</td>\n",
              "      <td>0.021393</td>\n",
              "      <td>0.035259</td>\n",
              "      <td>0.183182</td>\n",
              "      <td>0.004641</td>\n",
              "      <td>0.129553</td>\n",
              "      <td>0.018143</td>\n",
              "      <td>0.094768</td>\n",
              "      <td>0.009886</td>\n",
              "      <td>0.022038</td>\n",
              "      <td>0.037027</td>\n",
              "      <td>0.004032</td>\n",
              "      <td>0.001375</td>\n",
              "      <td>0.032697</td>\n",
              "      <td>0.118859</td>\n",
              "      <td>0.174002</td>\n",
              "      <td>0.011624</td>\n",
              "      <td>0.046042</td>\n",
              "      <td>0.080552</td>\n",
              "      <td>0.002314</td>\n",
              "      <td>0.043051</td>\n",
              "      <td>0.032048</td>\n",
              "      <td>0.061299</td>\n",
              "      <td>0.011023</td>\n",
              "      <td>0.011835</td>\n",
              "      <td>0.133977</td>\n",
              "      <td>0.008052</td>\n",
              "      <td>0.026996</td>\n",
              "      <td>0.087583</td>\n",
              "      <td>0.034943</td>\n",
              "      <td>0.005934</td>\n",
              "      <td>0.062608</td>\n",
              "      <td>...</td>\n",
              "      <td>0.0</td>\n",
              "      <td>0.0</td>\n",
              "      <td>0.0</td>\n",
              "      <td>0.0</td>\n",
              "      <td>0.0</td>\n",
              "      <td>0.0</td>\n",
              "      <td>0.0</td>\n",
              "      <td>0.0</td>\n",
              "      <td>0.0</td>\n",
              "      <td>0.0</td>\n",
              "      <td>0.0</td>\n",
              "      <td>0.0</td>\n",
              "      <td>0.0</td>\n",
              "      <td>0.0</td>\n",
              "      <td>0.0</td>\n",
              "      <td>0.0</td>\n",
              "      <td>0.0</td>\n",
              "      <td>0.0</td>\n",
              "      <td>0.0</td>\n",
              "      <td>0.0</td>\n",
              "      <td>0.0</td>\n",
              "      <td>0.0</td>\n",
              "      <td>0.0</td>\n",
              "      <td>0.0</td>\n",
              "      <td>0.0</td>\n",
              "      <td>0.0</td>\n",
              "      <td>0.0</td>\n",
              "      <td>0.0</td>\n",
              "      <td>0.0</td>\n",
              "      <td>0.0</td>\n",
              "      <td>0.0</td>\n",
              "      <td>0.0</td>\n",
              "      <td>0.0</td>\n",
              "      <td>0.0</td>\n",
              "      <td>0.0</td>\n",
              "      <td>0.0</td>\n",
              "      <td>0.0</td>\n",
              "      <td>0.0</td>\n",
              "      <td>0.0</td>\n",
              "      <td>0.0</td>\n",
              "    </tr>\n",
              "    <tr>\n",
              "      <th>MMETSP0145</th>\n",
              "      <td>0.074740</td>\n",
              "      <td>0.022607</td>\n",
              "      <td>0.013083</td>\n",
              "      <td>0.026626</td>\n",
              "      <td>0.040712</td>\n",
              "      <td>0.640398</td>\n",
              "      <td>0.144029</td>\n",
              "      <td>0.116530</td>\n",
              "      <td>0.071693</td>\n",
              "      <td>0.046245</td>\n",
              "      <td>0.101445</td>\n",
              "      <td>0.112094</td>\n",
              "      <td>0.007620</td>\n",
              "      <td>0.123810</td>\n",
              "      <td>0.028936</td>\n",
              "      <td>0.327263</td>\n",
              "      <td>0.024654</td>\n",
              "      <td>0.012111</td>\n",
              "      <td>0.033370</td>\n",
              "      <td>0.028828</td>\n",
              "      <td>0.000665</td>\n",
              "      <td>0.090956</td>\n",
              "      <td>0.264583</td>\n",
              "      <td>0.335798</td>\n",
              "      <td>0.047425</td>\n",
              "      <td>0.097364</td>\n",
              "      <td>0.167749</td>\n",
              "      <td>0.001276</td>\n",
              "      <td>0.024647</td>\n",
              "      <td>0.095577</td>\n",
              "      <td>0.178292</td>\n",
              "      <td>0.045929</td>\n",
              "      <td>0.101011</td>\n",
              "      <td>0.183146</td>\n",
              "      <td>0.014000</td>\n",
              "      <td>0.034803</td>\n",
              "      <td>0.083895</td>\n",
              "      <td>0.056585</td>\n",
              "      <td>0.014289</td>\n",
              "      <td>0.076476</td>\n",
              "      <td>...</td>\n",
              "      <td>0.0</td>\n",
              "      <td>0.0</td>\n",
              "      <td>0.0</td>\n",
              "      <td>0.0</td>\n",
              "      <td>0.0</td>\n",
              "      <td>0.0</td>\n",
              "      <td>0.0</td>\n",
              "      <td>0.0</td>\n",
              "      <td>0.0</td>\n",
              "      <td>0.0</td>\n",
              "      <td>0.0</td>\n",
              "      <td>0.0</td>\n",
              "      <td>0.0</td>\n",
              "      <td>0.0</td>\n",
              "      <td>0.0</td>\n",
              "      <td>0.0</td>\n",
              "      <td>0.0</td>\n",
              "      <td>0.0</td>\n",
              "      <td>0.0</td>\n",
              "      <td>0.0</td>\n",
              "      <td>0.0</td>\n",
              "      <td>0.0</td>\n",
              "      <td>0.0</td>\n",
              "      <td>0.0</td>\n",
              "      <td>0.0</td>\n",
              "      <td>0.0</td>\n",
              "      <td>0.0</td>\n",
              "      <td>0.0</td>\n",
              "      <td>0.0</td>\n",
              "      <td>0.0</td>\n",
              "      <td>0.0</td>\n",
              "      <td>0.0</td>\n",
              "      <td>0.0</td>\n",
              "      <td>0.0</td>\n",
              "      <td>0.0</td>\n",
              "      <td>0.0</td>\n",
              "      <td>0.0</td>\n",
              "      <td>0.0</td>\n",
              "      <td>0.0</td>\n",
              "      <td>0.0</td>\n",
              "    </tr>\n",
              "    <tr>\n",
              "      <th>MMETSP0146</th>\n",
              "      <td>0.116736</td>\n",
              "      <td>0.278654</td>\n",
              "      <td>0.016990</td>\n",
              "      <td>0.112659</td>\n",
              "      <td>0.037131</td>\n",
              "      <td>0.743488</td>\n",
              "      <td>0.049232</td>\n",
              "      <td>0.108773</td>\n",
              "      <td>0.033942</td>\n",
              "      <td>0.036820</td>\n",
              "      <td>0.066114</td>\n",
              "      <td>0.101494</td>\n",
              "      <td>0.011029</td>\n",
              "      <td>0.143638</td>\n",
              "      <td>0.032650</td>\n",
              "      <td>0.222627</td>\n",
              "      <td>0.012764</td>\n",
              "      <td>0.039889</td>\n",
              "      <td>0.108565</td>\n",
              "      <td>0.019788</td>\n",
              "      <td>0.001843</td>\n",
              "      <td>0.056033</td>\n",
              "      <td>0.071793</td>\n",
              "      <td>0.560433</td>\n",
              "      <td>0.016368</td>\n",
              "      <td>0.072301</td>\n",
              "      <td>0.160783</td>\n",
              "      <td>0.001250</td>\n",
              "      <td>0.041747</td>\n",
              "      <td>0.053129</td>\n",
              "      <td>0.119692</td>\n",
              "      <td>0.022700</td>\n",
              "      <td>0.031716</td>\n",
              "      <td>0.132714</td>\n",
              "      <td>0.109678</td>\n",
              "      <td>0.020941</td>\n",
              "      <td>0.139898</td>\n",
              "      <td>0.048494</td>\n",
              "      <td>0.010253</td>\n",
              "      <td>0.085513</td>\n",
              "      <td>...</td>\n",
              "      <td>0.0</td>\n",
              "      <td>0.0</td>\n",
              "      <td>0.0</td>\n",
              "      <td>0.0</td>\n",
              "      <td>0.0</td>\n",
              "      <td>0.0</td>\n",
              "      <td>0.0</td>\n",
              "      <td>0.0</td>\n",
              "      <td>0.0</td>\n",
              "      <td>0.0</td>\n",
              "      <td>0.0</td>\n",
              "      <td>0.0</td>\n",
              "      <td>0.0</td>\n",
              "      <td>0.0</td>\n",
              "      <td>0.0</td>\n",
              "      <td>0.0</td>\n",
              "      <td>0.0</td>\n",
              "      <td>0.0</td>\n",
              "      <td>0.0</td>\n",
              "      <td>0.0</td>\n",
              "      <td>0.0</td>\n",
              "      <td>0.0</td>\n",
              "      <td>0.0</td>\n",
              "      <td>0.0</td>\n",
              "      <td>0.0</td>\n",
              "      <td>0.0</td>\n",
              "      <td>0.0</td>\n",
              "      <td>0.0</td>\n",
              "      <td>0.0</td>\n",
              "      <td>0.0</td>\n",
              "      <td>0.0</td>\n",
              "      <td>0.0</td>\n",
              "      <td>0.0</td>\n",
              "      <td>0.0</td>\n",
              "      <td>0.0</td>\n",
              "      <td>0.0</td>\n",
              "      <td>0.0</td>\n",
              "      <td>0.0</td>\n",
              "      <td>0.0</td>\n",
              "      <td>0.0</td>\n",
              "    </tr>\n",
              "  </tbody>\n",
              "</table>\n",
              "<p>5 rows × 181728 columns</p>\n",
              "</div>"
            ],
            "text/plain": [
              "Orthogroup  OG0000000  OG0000001  OG0000002  ...  OG0181725  OG0181726  OG0181727\n",
              "MMETSP0006   0.113240   0.120057   1.000000  ...        0.0        0.0        0.0\n",
              "MMETSP0007   0.182871   0.022382   0.023226  ...        0.0        0.0        0.0\n",
              "MMETSP0143   0.057800   0.007732   0.008465  ...        0.0        0.0        0.0\n",
              "MMETSP0145   0.074740   0.022607   0.013083  ...        0.0        0.0        0.0\n",
              "MMETSP0146   0.116736   0.278654   0.016990  ...        0.0        0.0        0.0\n",
              "\n",
              "[5 rows x 181728 columns]"
            ]
          },
          "metadata": {
            "tags": []
          },
          "execution_count": 24
        }
      ]
    },
    {
      "cell_type": "code",
      "metadata": {
        "id": "0mL_o8LduY88",
        "colab_type": "code",
        "outputId": "e4dd59dd-54f8-41a8-830b-70719963e292",
        "colab": {
          "base_uri": "https://localhost:8080/",
          "height": 118
        }
      },
      "source": [
        "## subset to top 8000 (or 5000) Median Absolute Deviation genes\n",
        "num_mad_genes = 8000\n",
        "mad_genes = data_DF.mad(axis=0).sort_values(ascending=False)\n",
        "#mad_genes.head()\n",
        "top_mad_genes = mad_genes.iloc[0:int(num_mad_genes), ].index\n",
        "top_mad_genes"
      ],
      "execution_count": 26,
      "outputs": [
        {
          "output_type": "execute_result",
          "data": {
            "text/plain": [
              "Index(['OG0026143', 'OG0014142', 'OG0014645', 'OG0025874', 'OG0010667',\n",
              "       'OG0025586', 'OG0022720', 'OG0013874', 'OG0021190', 'OG0012010',\n",
              "       ...\n",
              "       'OG0034291', 'OG0013576', 'OG0030374', 'OG0025330', 'OG0008316',\n",
              "       'OG0012183', 'OG0028580', 'OG0016459', 'OG0003419', 'OG0010882'],\n",
              "      dtype='object', name='Orthogroup', length=8000)"
            ]
          },
          "metadata": {
            "tags": []
          },
          "execution_count": 26
        }
      ]
    },
    {
      "cell_type": "code",
      "metadata": {
        "id": "ozIWhhOXLxkI",
        "colab_type": "code",
        "outputId": "9f2390a8-1d96-452f-e03a-4d774a554b2e",
        "colab": {
          "base_uri": "https://localhost:8080/",
          "height": 261
        }
      },
      "source": [
        "mad_genes_df = data_DF.loc[:, top_mad_genes]\n",
        "print(mad_genes_df.shape)\n",
        "mad_genes_df.head()"
      ],
      "execution_count": 27,
      "outputs": [
        {
          "output_type": "stream",
          "text": [
            "(61, 8000)\n"
          ],
          "name": "stdout"
        },
        {
          "output_type": "execute_result",
          "data": {
            "text/html": [
              "<div>\n",
              "<style scoped>\n",
              "    .dataframe tbody tr th:only-of-type {\n",
              "        vertical-align: middle;\n",
              "    }\n",
              "\n",
              "    .dataframe tbody tr th {\n",
              "        vertical-align: top;\n",
              "    }\n",
              "\n",
              "    .dataframe thead th {\n",
              "        text-align: right;\n",
              "    }\n",
              "</style>\n",
              "<table border=\"1\" class=\"dataframe\">\n",
              "  <thead>\n",
              "    <tr style=\"text-align: right;\">\n",
              "      <th>Orthogroup</th>\n",
              "      <th>OG0026143</th>\n",
              "      <th>OG0014142</th>\n",
              "      <th>OG0014645</th>\n",
              "      <th>OG0025874</th>\n",
              "      <th>OG0010667</th>\n",
              "      <th>OG0025586</th>\n",
              "      <th>OG0022720</th>\n",
              "      <th>OG0013874</th>\n",
              "      <th>OG0021190</th>\n",
              "      <th>OG0012010</th>\n",
              "      <th>OG0020923</th>\n",
              "      <th>OG0019275</th>\n",
              "      <th>OG0023557</th>\n",
              "      <th>OG0018684</th>\n",
              "      <th>OG0011316</th>\n",
              "      <th>OG0031940</th>\n",
              "      <th>OG0018764</th>\n",
              "      <th>OG0013113</th>\n",
              "      <th>OG0022191</th>\n",
              "      <th>OG0028471</th>\n",
              "      <th>OG0002537</th>\n",
              "      <th>OG0030076</th>\n",
              "      <th>OG0009273</th>\n",
              "      <th>OG0025725</th>\n",
              "      <th>OG0031741</th>\n",
              "      <th>OG0015232</th>\n",
              "      <th>OG0013556</th>\n",
              "      <th>OG0021686</th>\n",
              "      <th>OG0026828</th>\n",
              "      <th>OG0010452</th>\n",
              "      <th>OG0025863</th>\n",
              "      <th>OG0013120</th>\n",
              "      <th>OG0018053</th>\n",
              "      <th>OG0020648</th>\n",
              "      <th>OG0013916</th>\n",
              "      <th>OG0003244</th>\n",
              "      <th>OG0008446</th>\n",
              "      <th>OG0008569</th>\n",
              "      <th>OG0002928</th>\n",
              "      <th>OG0014313</th>\n",
              "      <th>...</th>\n",
              "      <th>OG0021212</th>\n",
              "      <th>OG0008967</th>\n",
              "      <th>OG0017857</th>\n",
              "      <th>OG0016666</th>\n",
              "      <th>OG0019957</th>\n",
              "      <th>OG0038168</th>\n",
              "      <th>OG0013052</th>\n",
              "      <th>OG0002231</th>\n",
              "      <th>OG0017327</th>\n",
              "      <th>OG0032337</th>\n",
              "      <th>OG0011400</th>\n",
              "      <th>OG0006744</th>\n",
              "      <th>OG0002820</th>\n",
              "      <th>OG0031705</th>\n",
              "      <th>OG0024298</th>\n",
              "      <th>OG0043372</th>\n",
              "      <th>OG0030603</th>\n",
              "      <th>OG0013455</th>\n",
              "      <th>OG0010245</th>\n",
              "      <th>OG0013122</th>\n",
              "      <th>OG0032290</th>\n",
              "      <th>OG0023733</th>\n",
              "      <th>OG0018037</th>\n",
              "      <th>OG0026813</th>\n",
              "      <th>OG0012943</th>\n",
              "      <th>OG0030600</th>\n",
              "      <th>OG0020255</th>\n",
              "      <th>OG0022804</th>\n",
              "      <th>OG0012110</th>\n",
              "      <th>OG0018498</th>\n",
              "      <th>OG0034291</th>\n",
              "      <th>OG0013576</th>\n",
              "      <th>OG0030374</th>\n",
              "      <th>OG0025330</th>\n",
              "      <th>OG0008316</th>\n",
              "      <th>OG0012183</th>\n",
              "      <th>OG0028580</th>\n",
              "      <th>OG0016459</th>\n",
              "      <th>OG0003419</th>\n",
              "      <th>OG0010882</th>\n",
              "    </tr>\n",
              "  </thead>\n",
              "  <tbody>\n",
              "    <tr>\n",
              "      <th>MMETSP0006</th>\n",
              "      <td>0.0</td>\n",
              "      <td>0.630037</td>\n",
              "      <td>0.000000</td>\n",
              "      <td>0.0</td>\n",
              "      <td>0.640573</td>\n",
              "      <td>0.0</td>\n",
              "      <td>0.0</td>\n",
              "      <td>0.000000</td>\n",
              "      <td>0.000000</td>\n",
              "      <td>0.533444</td>\n",
              "      <td>0.350737</td>\n",
              "      <td>0.497964</td>\n",
              "      <td>0.0</td>\n",
              "      <td>0.713517</td>\n",
              "      <td>0.000000</td>\n",
              "      <td>0.0</td>\n",
              "      <td>0.000000</td>\n",
              "      <td>0.000000</td>\n",
              "      <td>0.000000</td>\n",
              "      <td>0.0</td>\n",
              "      <td>0.530032</td>\n",
              "      <td>0.0</td>\n",
              "      <td>0.304823</td>\n",
              "      <td>0.0</td>\n",
              "      <td>0.0</td>\n",
              "      <td>0.0</td>\n",
              "      <td>0.0</td>\n",
              "      <td>0.0</td>\n",
              "      <td>0.000000</td>\n",
              "      <td>0.886682</td>\n",
              "      <td>0.0</td>\n",
              "      <td>0.000000</td>\n",
              "      <td>0.634326</td>\n",
              "      <td>0.0</td>\n",
              "      <td>0.0</td>\n",
              "      <td>0.671880</td>\n",
              "      <td>0.389809</td>\n",
              "      <td>0.0</td>\n",
              "      <td>0.385472</td>\n",
              "      <td>0.0</td>\n",
              "      <td>...</td>\n",
              "      <td>0.000000</td>\n",
              "      <td>0.440958</td>\n",
              "      <td>0.0</td>\n",
              "      <td>0.0</td>\n",
              "      <td>0.0</td>\n",
              "      <td>0.0</td>\n",
              "      <td>0.000000</td>\n",
              "      <td>0.292499</td>\n",
              "      <td>0.719749</td>\n",
              "      <td>0.0</td>\n",
              "      <td>0.0</td>\n",
              "      <td>0.000000</td>\n",
              "      <td>0.000000</td>\n",
              "      <td>0.0</td>\n",
              "      <td>0.000000</td>\n",
              "      <td>0.0</td>\n",
              "      <td>0.0</td>\n",
              "      <td>0.000000</td>\n",
              "      <td>0.000000</td>\n",
              "      <td>0.000000</td>\n",
              "      <td>0.0</td>\n",
              "      <td>0.0</td>\n",
              "      <td>0.761268</td>\n",
              "      <td>0.000000</td>\n",
              "      <td>0.586727</td>\n",
              "      <td>0.0</td>\n",
              "      <td>0.0</td>\n",
              "      <td>0.0</td>\n",
              "      <td>0.000000</td>\n",
              "      <td>0.0</td>\n",
              "      <td>0.0</td>\n",
              "      <td>0.0</td>\n",
              "      <td>0.0</td>\n",
              "      <td>0.0</td>\n",
              "      <td>0.000000</td>\n",
              "      <td>0.0</td>\n",
              "      <td>0.0</td>\n",
              "      <td>0.000000</td>\n",
              "      <td>0.363783</td>\n",
              "      <td>0.0</td>\n",
              "    </tr>\n",
              "    <tr>\n",
              "      <th>MMETSP0007</th>\n",
              "      <td>0.0</td>\n",
              "      <td>0.000000</td>\n",
              "      <td>0.000000</td>\n",
              "      <td>0.0</td>\n",
              "      <td>1.000000</td>\n",
              "      <td>0.0</td>\n",
              "      <td>0.0</td>\n",
              "      <td>0.000000</td>\n",
              "      <td>0.000000</td>\n",
              "      <td>0.000000</td>\n",
              "      <td>0.000000</td>\n",
              "      <td>0.000000</td>\n",
              "      <td>0.0</td>\n",
              "      <td>0.000000</td>\n",
              "      <td>0.000000</td>\n",
              "      <td>0.0</td>\n",
              "      <td>0.000000</td>\n",
              "      <td>0.000000</td>\n",
              "      <td>0.000000</td>\n",
              "      <td>0.0</td>\n",
              "      <td>0.000000</td>\n",
              "      <td>0.0</td>\n",
              "      <td>0.000000</td>\n",
              "      <td>0.0</td>\n",
              "      <td>0.0</td>\n",
              "      <td>0.0</td>\n",
              "      <td>0.0</td>\n",
              "      <td>0.0</td>\n",
              "      <td>0.000000</td>\n",
              "      <td>0.000000</td>\n",
              "      <td>0.0</td>\n",
              "      <td>0.000000</td>\n",
              "      <td>1.000000</td>\n",
              "      <td>0.0</td>\n",
              "      <td>0.0</td>\n",
              "      <td>1.000000</td>\n",
              "      <td>0.000000</td>\n",
              "      <td>0.0</td>\n",
              "      <td>0.000000</td>\n",
              "      <td>0.0</td>\n",
              "      <td>...</td>\n",
              "      <td>0.000000</td>\n",
              "      <td>0.000000</td>\n",
              "      <td>0.0</td>\n",
              "      <td>0.0</td>\n",
              "      <td>0.0</td>\n",
              "      <td>0.0</td>\n",
              "      <td>0.000000</td>\n",
              "      <td>0.000000</td>\n",
              "      <td>0.000000</td>\n",
              "      <td>0.0</td>\n",
              "      <td>0.0</td>\n",
              "      <td>0.000000</td>\n",
              "      <td>0.358254</td>\n",
              "      <td>0.0</td>\n",
              "      <td>0.000000</td>\n",
              "      <td>0.0</td>\n",
              "      <td>0.0</td>\n",
              "      <td>0.000000</td>\n",
              "      <td>0.000000</td>\n",
              "      <td>0.000000</td>\n",
              "      <td>0.0</td>\n",
              "      <td>0.0</td>\n",
              "      <td>0.451201</td>\n",
              "      <td>0.000000</td>\n",
              "      <td>0.000000</td>\n",
              "      <td>0.0</td>\n",
              "      <td>0.0</td>\n",
              "      <td>0.0</td>\n",
              "      <td>0.000000</td>\n",
              "      <td>0.0</td>\n",
              "      <td>0.0</td>\n",
              "      <td>0.0</td>\n",
              "      <td>0.0</td>\n",
              "      <td>0.0</td>\n",
              "      <td>0.000000</td>\n",
              "      <td>0.0</td>\n",
              "      <td>0.0</td>\n",
              "      <td>0.000000</td>\n",
              "      <td>0.389440</td>\n",
              "      <td>0.0</td>\n",
              "    </tr>\n",
              "    <tr>\n",
              "      <th>MMETSP0143</th>\n",
              "      <td>0.0</td>\n",
              "      <td>0.833012</td>\n",
              "      <td>0.221446</td>\n",
              "      <td>0.0</td>\n",
              "      <td>0.655937</td>\n",
              "      <td>0.0</td>\n",
              "      <td>0.0</td>\n",
              "      <td>0.370498</td>\n",
              "      <td>0.117383</td>\n",
              "      <td>0.000000</td>\n",
              "      <td>0.000000</td>\n",
              "      <td>0.186307</td>\n",
              "      <td>0.0</td>\n",
              "      <td>0.193336</td>\n",
              "      <td>0.342839</td>\n",
              "      <td>0.0</td>\n",
              "      <td>0.212954</td>\n",
              "      <td>0.775993</td>\n",
              "      <td>0.226872</td>\n",
              "      <td>0.0</td>\n",
              "      <td>0.000000</td>\n",
              "      <td>0.0</td>\n",
              "      <td>0.000000</td>\n",
              "      <td>0.0</td>\n",
              "      <td>0.0</td>\n",
              "      <td>0.0</td>\n",
              "      <td>0.0</td>\n",
              "      <td>0.0</td>\n",
              "      <td>0.000000</td>\n",
              "      <td>0.363097</td>\n",
              "      <td>0.0</td>\n",
              "      <td>0.287991</td>\n",
              "      <td>0.000000</td>\n",
              "      <td>0.0</td>\n",
              "      <td>0.0</td>\n",
              "      <td>0.307059</td>\n",
              "      <td>0.000000</td>\n",
              "      <td>0.0</td>\n",
              "      <td>0.176353</td>\n",
              "      <td>0.0</td>\n",
              "      <td>...</td>\n",
              "      <td>0.397696</td>\n",
              "      <td>0.118063</td>\n",
              "      <td>0.0</td>\n",
              "      <td>0.0</td>\n",
              "      <td>0.0</td>\n",
              "      <td>0.0</td>\n",
              "      <td>0.339866</td>\n",
              "      <td>0.150212</td>\n",
              "      <td>0.241062</td>\n",
              "      <td>0.0</td>\n",
              "      <td>0.0</td>\n",
              "      <td>0.066797</td>\n",
              "      <td>0.151510</td>\n",
              "      <td>0.0</td>\n",
              "      <td>0.742984</td>\n",
              "      <td>0.0</td>\n",
              "      <td>0.0</td>\n",
              "      <td>0.140504</td>\n",
              "      <td>0.095442</td>\n",
              "      <td>0.257644</td>\n",
              "      <td>0.0</td>\n",
              "      <td>0.0</td>\n",
              "      <td>0.436470</td>\n",
              "      <td>0.298203</td>\n",
              "      <td>0.000000</td>\n",
              "      <td>0.0</td>\n",
              "      <td>0.0</td>\n",
              "      <td>0.0</td>\n",
              "      <td>0.219149</td>\n",
              "      <td>0.0</td>\n",
              "      <td>0.0</td>\n",
              "      <td>0.0</td>\n",
              "      <td>0.0</td>\n",
              "      <td>0.0</td>\n",
              "      <td>0.000000</td>\n",
              "      <td>0.0</td>\n",
              "      <td>0.0</td>\n",
              "      <td>0.341213</td>\n",
              "      <td>0.634688</td>\n",
              "      <td>0.0</td>\n",
              "    </tr>\n",
              "    <tr>\n",
              "      <th>MMETSP0145</th>\n",
              "      <td>0.0</td>\n",
              "      <td>0.000000</td>\n",
              "      <td>0.000000</td>\n",
              "      <td>0.0</td>\n",
              "      <td>0.343745</td>\n",
              "      <td>0.0</td>\n",
              "      <td>0.0</td>\n",
              "      <td>0.661566</td>\n",
              "      <td>0.620570</td>\n",
              "      <td>0.000000</td>\n",
              "      <td>0.000000</td>\n",
              "      <td>0.000000</td>\n",
              "      <td>0.0</td>\n",
              "      <td>0.000000</td>\n",
              "      <td>1.000000</td>\n",
              "      <td>0.0</td>\n",
              "      <td>0.000000</td>\n",
              "      <td>0.000000</td>\n",
              "      <td>0.000000</td>\n",
              "      <td>0.0</td>\n",
              "      <td>0.463131</td>\n",
              "      <td>0.0</td>\n",
              "      <td>0.468869</td>\n",
              "      <td>0.0</td>\n",
              "      <td>0.0</td>\n",
              "      <td>0.0</td>\n",
              "      <td>0.0</td>\n",
              "      <td>0.0</td>\n",
              "      <td>0.215605</td>\n",
              "      <td>0.000000</td>\n",
              "      <td>0.0</td>\n",
              "      <td>0.000000</td>\n",
              "      <td>0.254476</td>\n",
              "      <td>0.0</td>\n",
              "      <td>0.0</td>\n",
              "      <td>0.823846</td>\n",
              "      <td>0.310678</td>\n",
              "      <td>0.0</td>\n",
              "      <td>0.715848</td>\n",
              "      <td>0.0</td>\n",
              "      <td>...</td>\n",
              "      <td>0.000000</td>\n",
              "      <td>0.000000</td>\n",
              "      <td>0.0</td>\n",
              "      <td>0.0</td>\n",
              "      <td>0.0</td>\n",
              "      <td>0.0</td>\n",
              "      <td>1.000000</td>\n",
              "      <td>0.472938</td>\n",
              "      <td>0.585212</td>\n",
              "      <td>0.0</td>\n",
              "      <td>0.0</td>\n",
              "      <td>0.000000</td>\n",
              "      <td>0.214281</td>\n",
              "      <td>0.0</td>\n",
              "      <td>0.696247</td>\n",
              "      <td>0.0</td>\n",
              "      <td>0.0</td>\n",
              "      <td>0.000000</td>\n",
              "      <td>0.243755</td>\n",
              "      <td>0.000000</td>\n",
              "      <td>0.0</td>\n",
              "      <td>0.0</td>\n",
              "      <td>0.325491</td>\n",
              "      <td>0.000000</td>\n",
              "      <td>0.000000</td>\n",
              "      <td>0.0</td>\n",
              "      <td>0.0</td>\n",
              "      <td>0.0</td>\n",
              "      <td>0.000000</td>\n",
              "      <td>0.0</td>\n",
              "      <td>0.0</td>\n",
              "      <td>0.0</td>\n",
              "      <td>0.0</td>\n",
              "      <td>0.0</td>\n",
              "      <td>0.188409</td>\n",
              "      <td>0.0</td>\n",
              "      <td>0.0</td>\n",
              "      <td>0.539445</td>\n",
              "      <td>0.000000</td>\n",
              "      <td>0.0</td>\n",
              "    </tr>\n",
              "    <tr>\n",
              "      <th>MMETSP0146</th>\n",
              "      <td>0.0</td>\n",
              "      <td>0.000000</td>\n",
              "      <td>0.000000</td>\n",
              "      <td>0.0</td>\n",
              "      <td>0.602343</td>\n",
              "      <td>0.0</td>\n",
              "      <td>0.0</td>\n",
              "      <td>0.324289</td>\n",
              "      <td>0.615060</td>\n",
              "      <td>0.000000</td>\n",
              "      <td>0.000000</td>\n",
              "      <td>0.544054</td>\n",
              "      <td>0.0</td>\n",
              "      <td>0.000000</td>\n",
              "      <td>0.000000</td>\n",
              "      <td>0.0</td>\n",
              "      <td>0.000000</td>\n",
              "      <td>0.000000</td>\n",
              "      <td>0.000000</td>\n",
              "      <td>0.0</td>\n",
              "      <td>0.432626</td>\n",
              "      <td>0.0</td>\n",
              "      <td>0.326417</td>\n",
              "      <td>0.0</td>\n",
              "      <td>0.0</td>\n",
              "      <td>0.0</td>\n",
              "      <td>0.0</td>\n",
              "      <td>0.0</td>\n",
              "      <td>0.000000</td>\n",
              "      <td>0.498092</td>\n",
              "      <td>0.0</td>\n",
              "      <td>0.000000</td>\n",
              "      <td>0.000000</td>\n",
              "      <td>0.0</td>\n",
              "      <td>0.0</td>\n",
              "      <td>0.608175</td>\n",
              "      <td>0.000000</td>\n",
              "      <td>0.0</td>\n",
              "      <td>0.621023</td>\n",
              "      <td>0.0</td>\n",
              "      <td>...</td>\n",
              "      <td>0.000000</td>\n",
              "      <td>0.000000</td>\n",
              "      <td>0.0</td>\n",
              "      <td>0.0</td>\n",
              "      <td>0.0</td>\n",
              "      <td>0.0</td>\n",
              "      <td>0.373752</td>\n",
              "      <td>0.543819</td>\n",
              "      <td>0.778459</td>\n",
              "      <td>0.0</td>\n",
              "      <td>0.0</td>\n",
              "      <td>0.000000</td>\n",
              "      <td>0.289394</td>\n",
              "      <td>0.0</td>\n",
              "      <td>0.996410</td>\n",
              "      <td>0.0</td>\n",
              "      <td>0.0</td>\n",
              "      <td>0.648180</td>\n",
              "      <td>0.226347</td>\n",
              "      <td>0.000000</td>\n",
              "      <td>0.0</td>\n",
              "      <td>0.0</td>\n",
              "      <td>0.262909</td>\n",
              "      <td>0.000000</td>\n",
              "      <td>0.000000</td>\n",
              "      <td>0.0</td>\n",
              "      <td>0.0</td>\n",
              "      <td>0.0</td>\n",
              "      <td>0.164316</td>\n",
              "      <td>0.0</td>\n",
              "      <td>0.0</td>\n",
              "      <td>0.0</td>\n",
              "      <td>0.0</td>\n",
              "      <td>0.0</td>\n",
              "      <td>0.000000</td>\n",
              "      <td>0.0</td>\n",
              "      <td>0.0</td>\n",
              "      <td>0.000000</td>\n",
              "      <td>0.000000</td>\n",
              "      <td>0.0</td>\n",
              "    </tr>\n",
              "  </tbody>\n",
              "</table>\n",
              "<p>5 rows × 8000 columns</p>\n",
              "</div>"
            ],
            "text/plain": [
              "Orthogroup  OG0026143  OG0014142  OG0014645  ...  OG0016459  OG0003419  OG0010882\n",
              "MMETSP0006        0.0   0.630037   0.000000  ...   0.000000   0.363783        0.0\n",
              "MMETSP0007        0.0   0.000000   0.000000  ...   0.000000   0.389440        0.0\n",
              "MMETSP0143        0.0   0.833012   0.221446  ...   0.341213   0.634688        0.0\n",
              "MMETSP0145        0.0   0.000000   0.000000  ...   0.539445   0.000000        0.0\n",
              "MMETSP0146        0.0   0.000000   0.000000  ...   0.000000   0.000000        0.0\n",
              "\n",
              "[5 rows x 8000 columns]"
            ]
          },
          "metadata": {
            "tags": []
          },
          "execution_count": 27
        }
      ]
    },
    {
      "cell_type": "code",
      "metadata": {
        "id": "yxat4OM4kyZL",
        "colab_type": "code",
        "colab": {}
      },
      "source": [
        "## Split test set - 10%, train set - 90%\n",
        "percTest = 0.1\n",
        "#full set of genes\n",
        "skT_trainDF, skT_testDF =train_test_split(data_DF, test_size=percTest, random_state =42) #, shuffle=False\n",
        "# top 8k median absolute deviation genes\n",
        "mad_trainDF, mad_testDF =train_test_split(mad_genes_df, test_size=percTest, random_state =42) #, shuffle=False\n"
      ],
      "execution_count": 0,
      "outputs": []
    },
    {
      "cell_type": "code",
      "metadata": {
        "id": "ngF9_xlNMjVW",
        "colab_type": "code",
        "outputId": "5909fb34-f2c1-4120-a826-bef8bd4ae52d",
        "colab": {
          "base_uri": "https://localhost:8080/",
          "height": 278
        }
      },
      "source": [
        "print(skT_testDF.shape)\n",
        "print(skT_trainDF.shape)\n",
        "skT_trainDF.head()"
      ],
      "execution_count": 29,
      "outputs": [
        {
          "output_type": "stream",
          "text": [
            "(7, 181728)\n",
            "(54, 181728)\n"
          ],
          "name": "stdout"
        },
        {
          "output_type": "execute_result",
          "data": {
            "text/html": [
              "<div>\n",
              "<style scoped>\n",
              "    .dataframe tbody tr th:only-of-type {\n",
              "        vertical-align: middle;\n",
              "    }\n",
              "\n",
              "    .dataframe tbody tr th {\n",
              "        vertical-align: top;\n",
              "    }\n",
              "\n",
              "    .dataframe thead th {\n",
              "        text-align: right;\n",
              "    }\n",
              "</style>\n",
              "<table border=\"1\" class=\"dataframe\">\n",
              "  <thead>\n",
              "    <tr style=\"text-align: right;\">\n",
              "      <th>Orthogroup</th>\n",
              "      <th>OG0000000</th>\n",
              "      <th>OG0000001</th>\n",
              "      <th>OG0000002</th>\n",
              "      <th>OG0000003</th>\n",
              "      <th>OG0000004</th>\n",
              "      <th>OG0000005</th>\n",
              "      <th>OG0000006</th>\n",
              "      <th>OG0000007</th>\n",
              "      <th>OG0000008</th>\n",
              "      <th>OG0000009</th>\n",
              "      <th>OG0000010</th>\n",
              "      <th>OG0000011</th>\n",
              "      <th>OG0000012</th>\n",
              "      <th>OG0000013</th>\n",
              "      <th>OG0000014</th>\n",
              "      <th>OG0000015</th>\n",
              "      <th>OG0000016</th>\n",
              "      <th>OG0000017</th>\n",
              "      <th>OG0000018</th>\n",
              "      <th>OG0000019</th>\n",
              "      <th>OG0000020</th>\n",
              "      <th>OG0000021</th>\n",
              "      <th>OG0000022</th>\n",
              "      <th>OG0000023</th>\n",
              "      <th>OG0000024</th>\n",
              "      <th>OG0000025</th>\n",
              "      <th>OG0000026</th>\n",
              "      <th>OG0000027</th>\n",
              "      <th>OG0000028</th>\n",
              "      <th>OG0000029</th>\n",
              "      <th>OG0000030</th>\n",
              "      <th>OG0000031</th>\n",
              "      <th>OG0000032</th>\n",
              "      <th>OG0000033</th>\n",
              "      <th>OG0000034</th>\n",
              "      <th>OG0000035</th>\n",
              "      <th>OG0000036</th>\n",
              "      <th>OG0000037</th>\n",
              "      <th>OG0000038</th>\n",
              "      <th>OG0000039</th>\n",
              "      <th>...</th>\n",
              "      <th>OG0181688</th>\n",
              "      <th>OG0181689</th>\n",
              "      <th>OG0181690</th>\n",
              "      <th>OG0181691</th>\n",
              "      <th>OG0181692</th>\n",
              "      <th>OG0181693</th>\n",
              "      <th>OG0181694</th>\n",
              "      <th>OG0181695</th>\n",
              "      <th>OG0181696</th>\n",
              "      <th>OG0181697</th>\n",
              "      <th>OG0181698</th>\n",
              "      <th>OG0181699</th>\n",
              "      <th>OG0181700</th>\n",
              "      <th>OG0181701</th>\n",
              "      <th>OG0181702</th>\n",
              "      <th>OG0181703</th>\n",
              "      <th>OG0181704</th>\n",
              "      <th>OG0181705</th>\n",
              "      <th>OG0181706</th>\n",
              "      <th>OG0181707</th>\n",
              "      <th>OG0181708</th>\n",
              "      <th>OG0181709</th>\n",
              "      <th>OG0181710</th>\n",
              "      <th>OG0181711</th>\n",
              "      <th>OG0181712</th>\n",
              "      <th>OG0181713</th>\n",
              "      <th>OG0181714</th>\n",
              "      <th>OG0181715</th>\n",
              "      <th>OG0181716</th>\n",
              "      <th>OG0181717</th>\n",
              "      <th>OG0181718</th>\n",
              "      <th>OG0181719</th>\n",
              "      <th>OG0181720</th>\n",
              "      <th>OG0181721</th>\n",
              "      <th>OG0181722</th>\n",
              "      <th>OG0181723</th>\n",
              "      <th>OG0181724</th>\n",
              "      <th>OG0181725</th>\n",
              "      <th>OG0181726</th>\n",
              "      <th>OG0181727</th>\n",
              "    </tr>\n",
              "  </thead>\n",
              "  <tbody>\n",
              "    <tr>\n",
              "      <th>MMETSP1363</th>\n",
              "      <td>0.105531</td>\n",
              "      <td>0.004647</td>\n",
              "      <td>0.026744</td>\n",
              "      <td>0.037587</td>\n",
              "      <td>0.025894</td>\n",
              "      <td>0.193144</td>\n",
              "      <td>0.036431</td>\n",
              "      <td>0.088905</td>\n",
              "      <td>0.107158</td>\n",
              "      <td>0.032304</td>\n",
              "      <td>0.071800</td>\n",
              "      <td>0.047656</td>\n",
              "      <td>0.009873</td>\n",
              "      <td>0.113031</td>\n",
              "      <td>0.052038</td>\n",
              "      <td>0.409166</td>\n",
              "      <td>0.057134</td>\n",
              "      <td>0.054888</td>\n",
              "      <td>0.099443</td>\n",
              "      <td>0.012664</td>\n",
              "      <td>0.002470</td>\n",
              "      <td>0.079235</td>\n",
              "      <td>0.340454</td>\n",
              "      <td>0.231982</td>\n",
              "      <td>0.028871</td>\n",
              "      <td>0.334053</td>\n",
              "      <td>0.101107</td>\n",
              "      <td>0.000681</td>\n",
              "      <td>0.025918</td>\n",
              "      <td>0.044053</td>\n",
              "      <td>0.081219</td>\n",
              "      <td>0.026454</td>\n",
              "      <td>0.117256</td>\n",
              "      <td>0.195440</td>\n",
              "      <td>0.020647</td>\n",
              "      <td>0.099270</td>\n",
              "      <td>0.065601</td>\n",
              "      <td>0.061833</td>\n",
              "      <td>0.019957</td>\n",
              "      <td>0.199720</td>\n",
              "      <td>...</td>\n",
              "      <td>0.0</td>\n",
              "      <td>0.0</td>\n",
              "      <td>0.0</td>\n",
              "      <td>0.0</td>\n",
              "      <td>0.0</td>\n",
              "      <td>0.0</td>\n",
              "      <td>0.0</td>\n",
              "      <td>0.0</td>\n",
              "      <td>0.0</td>\n",
              "      <td>0.0</td>\n",
              "      <td>0.0</td>\n",
              "      <td>0.0</td>\n",
              "      <td>0.0</td>\n",
              "      <td>0.0</td>\n",
              "      <td>0.0</td>\n",
              "      <td>0.0</td>\n",
              "      <td>0.0</td>\n",
              "      <td>0.0</td>\n",
              "      <td>0.0</td>\n",
              "      <td>0.0</td>\n",
              "      <td>0.0</td>\n",
              "      <td>0.0</td>\n",
              "      <td>0.0</td>\n",
              "      <td>0.0</td>\n",
              "      <td>0.0</td>\n",
              "      <td>0.0</td>\n",
              "      <td>0.0</td>\n",
              "      <td>0.0</td>\n",
              "      <td>0.0</td>\n",
              "      <td>0.0</td>\n",
              "      <td>0.0</td>\n",
              "      <td>0.0</td>\n",
              "      <td>0.0</td>\n",
              "      <td>0.0</td>\n",
              "      <td>0.0</td>\n",
              "      <td>0.0</td>\n",
              "      <td>0.0</td>\n",
              "      <td>0.0</td>\n",
              "      <td>0.0</td>\n",
              "      <td>0.0</td>\n",
              "    </tr>\n",
              "    <tr>\n",
              "      <th>MMETSP0943</th>\n",
              "      <td>0.152612</td>\n",
              "      <td>0.013665</td>\n",
              "      <td>0.032382</td>\n",
              "      <td>0.109273</td>\n",
              "      <td>0.150042</td>\n",
              "      <td>0.494826</td>\n",
              "      <td>0.080819</td>\n",
              "      <td>0.100155</td>\n",
              "      <td>0.386652</td>\n",
              "      <td>0.155277</td>\n",
              "      <td>0.132225</td>\n",
              "      <td>0.159866</td>\n",
              "      <td>0.049703</td>\n",
              "      <td>0.187645</td>\n",
              "      <td>0.084694</td>\n",
              "      <td>0.250991</td>\n",
              "      <td>0.045268</td>\n",
              "      <td>0.012503</td>\n",
              "      <td>0.039843</td>\n",
              "      <td>0.007324</td>\n",
              "      <td>0.034988</td>\n",
              "      <td>0.353524</td>\n",
              "      <td>0.000000</td>\n",
              "      <td>0.412074</td>\n",
              "      <td>0.045624</td>\n",
              "      <td>0.201385</td>\n",
              "      <td>0.230532</td>\n",
              "      <td>0.000000</td>\n",
              "      <td>0.071107</td>\n",
              "      <td>0.054991</td>\n",
              "      <td>0.139860</td>\n",
              "      <td>0.020686</td>\n",
              "      <td>0.075953</td>\n",
              "      <td>0.436041</td>\n",
              "      <td>0.014616</td>\n",
              "      <td>0.086487</td>\n",
              "      <td>0.089402</td>\n",
              "      <td>0.114997</td>\n",
              "      <td>0.013952</td>\n",
              "      <td>0.085457</td>\n",
              "      <td>...</td>\n",
              "      <td>0.0</td>\n",
              "      <td>0.0</td>\n",
              "      <td>0.0</td>\n",
              "      <td>0.0</td>\n",
              "      <td>0.0</td>\n",
              "      <td>0.0</td>\n",
              "      <td>0.0</td>\n",
              "      <td>0.0</td>\n",
              "      <td>0.0</td>\n",
              "      <td>0.0</td>\n",
              "      <td>0.0</td>\n",
              "      <td>0.0</td>\n",
              "      <td>0.0</td>\n",
              "      <td>0.0</td>\n",
              "      <td>0.0</td>\n",
              "      <td>0.0</td>\n",
              "      <td>0.0</td>\n",
              "      <td>0.0</td>\n",
              "      <td>0.0</td>\n",
              "      <td>0.0</td>\n",
              "      <td>0.0</td>\n",
              "      <td>0.0</td>\n",
              "      <td>0.0</td>\n",
              "      <td>0.0</td>\n",
              "      <td>0.0</td>\n",
              "      <td>0.0</td>\n",
              "      <td>0.0</td>\n",
              "      <td>0.0</td>\n",
              "      <td>0.0</td>\n",
              "      <td>0.0</td>\n",
              "      <td>0.0</td>\n",
              "      <td>0.0</td>\n",
              "      <td>0.0</td>\n",
              "      <td>0.0</td>\n",
              "      <td>0.0</td>\n",
              "      <td>0.0</td>\n",
              "      <td>0.0</td>\n",
              "      <td>0.0</td>\n",
              "      <td>0.0</td>\n",
              "      <td>0.0</td>\n",
              "    </tr>\n",
              "    <tr>\n",
              "      <th>MMETSP1154</th>\n",
              "      <td>0.166827</td>\n",
              "      <td>0.054205</td>\n",
              "      <td>0.050987</td>\n",
              "      <td>0.108014</td>\n",
              "      <td>0.189373</td>\n",
              "      <td>0.347216</td>\n",
              "      <td>0.001141</td>\n",
              "      <td>0.000000</td>\n",
              "      <td>0.035333</td>\n",
              "      <td>0.175379</td>\n",
              "      <td>0.200702</td>\n",
              "      <td>0.608465</td>\n",
              "      <td>0.013685</td>\n",
              "      <td>0.225770</td>\n",
              "      <td>0.652421</td>\n",
              "      <td>0.272897</td>\n",
              "      <td>0.015397</td>\n",
              "      <td>0.006056</td>\n",
              "      <td>0.232923</td>\n",
              "      <td>0.025734</td>\n",
              "      <td>0.001705</td>\n",
              "      <td>0.096762</td>\n",
              "      <td>0.530626</td>\n",
              "      <td>0.204341</td>\n",
              "      <td>0.025162</td>\n",
              "      <td>0.052629</td>\n",
              "      <td>0.173212</td>\n",
              "      <td>0.000921</td>\n",
              "      <td>0.084133</td>\n",
              "      <td>0.055289</td>\n",
              "      <td>0.187435</td>\n",
              "      <td>0.065119</td>\n",
              "      <td>0.024916</td>\n",
              "      <td>0.140544</td>\n",
              "      <td>0.010320</td>\n",
              "      <td>0.108736</td>\n",
              "      <td>0.068458</td>\n",
              "      <td>0.174797</td>\n",
              "      <td>0.140198</td>\n",
              "      <td>0.115492</td>\n",
              "      <td>...</td>\n",
              "      <td>0.0</td>\n",
              "      <td>0.0</td>\n",
              "      <td>0.0</td>\n",
              "      <td>0.0</td>\n",
              "      <td>0.0</td>\n",
              "      <td>0.0</td>\n",
              "      <td>0.0</td>\n",
              "      <td>0.0</td>\n",
              "      <td>0.0</td>\n",
              "      <td>0.0</td>\n",
              "      <td>0.0</td>\n",
              "      <td>0.0</td>\n",
              "      <td>0.0</td>\n",
              "      <td>0.0</td>\n",
              "      <td>0.0</td>\n",
              "      <td>0.0</td>\n",
              "      <td>0.0</td>\n",
              "      <td>0.0</td>\n",
              "      <td>0.0</td>\n",
              "      <td>0.0</td>\n",
              "      <td>0.0</td>\n",
              "      <td>0.0</td>\n",
              "      <td>0.0</td>\n",
              "      <td>0.0</td>\n",
              "      <td>0.0</td>\n",
              "      <td>0.0</td>\n",
              "      <td>0.0</td>\n",
              "      <td>0.0</td>\n",
              "      <td>0.0</td>\n",
              "      <td>0.0</td>\n",
              "      <td>0.0</td>\n",
              "      <td>0.0</td>\n",
              "      <td>0.0</td>\n",
              "      <td>0.0</td>\n",
              "      <td>0.0</td>\n",
              "      <td>0.0</td>\n",
              "      <td>0.0</td>\n",
              "      <td>0.0</td>\n",
              "      <td>0.0</td>\n",
              "      <td>0.0</td>\n",
              "    </tr>\n",
              "    <tr>\n",
              "      <th>MMETSP1138</th>\n",
              "      <td>0.189392</td>\n",
              "      <td>0.020614</td>\n",
              "      <td>0.124919</td>\n",
              "      <td>0.000000</td>\n",
              "      <td>0.114267</td>\n",
              "      <td>0.000000</td>\n",
              "      <td>0.117144</td>\n",
              "      <td>0.172941</td>\n",
              "      <td>0.061474</td>\n",
              "      <td>0.083626</td>\n",
              "      <td>0.167704</td>\n",
              "      <td>0.065318</td>\n",
              "      <td>0.007608</td>\n",
              "      <td>0.210426</td>\n",
              "      <td>0.059800</td>\n",
              "      <td>0.248049</td>\n",
              "      <td>0.021488</td>\n",
              "      <td>0.049107</td>\n",
              "      <td>0.152367</td>\n",
              "      <td>0.012941</td>\n",
              "      <td>0.003761</td>\n",
              "      <td>0.100859</td>\n",
              "      <td>0.000000</td>\n",
              "      <td>0.269251</td>\n",
              "      <td>0.032258</td>\n",
              "      <td>0.129065</td>\n",
              "      <td>0.184520</td>\n",
              "      <td>0.002351</td>\n",
              "      <td>0.021080</td>\n",
              "      <td>0.071334</td>\n",
              "      <td>0.392396</td>\n",
              "      <td>0.015785</td>\n",
              "      <td>0.039156</td>\n",
              "      <td>0.232612</td>\n",
              "      <td>0.028965</td>\n",
              "      <td>0.025889</td>\n",
              "      <td>0.213203</td>\n",
              "      <td>0.072158</td>\n",
              "      <td>0.023471</td>\n",
              "      <td>0.157059</td>\n",
              "      <td>...</td>\n",
              "      <td>0.0</td>\n",
              "      <td>0.0</td>\n",
              "      <td>0.0</td>\n",
              "      <td>0.0</td>\n",
              "      <td>0.0</td>\n",
              "      <td>0.0</td>\n",
              "      <td>0.0</td>\n",
              "      <td>0.0</td>\n",
              "      <td>0.0</td>\n",
              "      <td>0.0</td>\n",
              "      <td>0.0</td>\n",
              "      <td>0.0</td>\n",
              "      <td>0.0</td>\n",
              "      <td>0.0</td>\n",
              "      <td>0.0</td>\n",
              "      <td>0.0</td>\n",
              "      <td>0.0</td>\n",
              "      <td>0.0</td>\n",
              "      <td>0.0</td>\n",
              "      <td>0.0</td>\n",
              "      <td>0.0</td>\n",
              "      <td>0.0</td>\n",
              "      <td>0.0</td>\n",
              "      <td>0.0</td>\n",
              "      <td>0.0</td>\n",
              "      <td>0.0</td>\n",
              "      <td>0.0</td>\n",
              "      <td>0.0</td>\n",
              "      <td>0.0</td>\n",
              "      <td>0.0</td>\n",
              "      <td>0.0</td>\n",
              "      <td>0.0</td>\n",
              "      <td>0.0</td>\n",
              "      <td>0.0</td>\n",
              "      <td>0.0</td>\n",
              "      <td>0.0</td>\n",
              "      <td>0.0</td>\n",
              "      <td>0.0</td>\n",
              "      <td>0.0</td>\n",
              "      <td>0.0</td>\n",
              "    </tr>\n",
              "    <tr>\n",
              "      <th>MMETSP1466</th>\n",
              "      <td>0.147052</td>\n",
              "      <td>0.149323</td>\n",
              "      <td>0.024191</td>\n",
              "      <td>0.000000</td>\n",
              "      <td>0.000000</td>\n",
              "      <td>0.599671</td>\n",
              "      <td>0.028520</td>\n",
              "      <td>0.352907</td>\n",
              "      <td>0.064670</td>\n",
              "      <td>0.085597</td>\n",
              "      <td>0.070986</td>\n",
              "      <td>0.034400</td>\n",
              "      <td>0.022638</td>\n",
              "      <td>0.000000</td>\n",
              "      <td>0.039568</td>\n",
              "      <td>0.922877</td>\n",
              "      <td>0.022158</td>\n",
              "      <td>1.000000</td>\n",
              "      <td>0.082936</td>\n",
              "      <td>0.482387</td>\n",
              "      <td>0.002748</td>\n",
              "      <td>0.245243</td>\n",
              "      <td>0.207888</td>\n",
              "      <td>0.695015</td>\n",
              "      <td>0.054011</td>\n",
              "      <td>0.086581</td>\n",
              "      <td>0.163584</td>\n",
              "      <td>0.000000</td>\n",
              "      <td>0.024942</td>\n",
              "      <td>0.054104</td>\n",
              "      <td>0.229035</td>\n",
              "      <td>0.019146</td>\n",
              "      <td>0.000000</td>\n",
              "      <td>0.276732</td>\n",
              "      <td>0.021617</td>\n",
              "      <td>0.038418</td>\n",
              "      <td>0.323790</td>\n",
              "      <td>1.000000</td>\n",
              "      <td>0.045135</td>\n",
              "      <td>0.068794</td>\n",
              "      <td>...</td>\n",
              "      <td>0.0</td>\n",
              "      <td>0.0</td>\n",
              "      <td>0.0</td>\n",
              "      <td>0.0</td>\n",
              "      <td>0.0</td>\n",
              "      <td>0.0</td>\n",
              "      <td>0.0</td>\n",
              "      <td>0.0</td>\n",
              "      <td>0.0</td>\n",
              "      <td>0.0</td>\n",
              "      <td>0.0</td>\n",
              "      <td>0.0</td>\n",
              "      <td>0.0</td>\n",
              "      <td>0.0</td>\n",
              "      <td>0.0</td>\n",
              "      <td>0.0</td>\n",
              "      <td>0.0</td>\n",
              "      <td>0.0</td>\n",
              "      <td>0.0</td>\n",
              "      <td>0.0</td>\n",
              "      <td>0.0</td>\n",
              "      <td>0.0</td>\n",
              "      <td>0.0</td>\n",
              "      <td>0.0</td>\n",
              "      <td>0.0</td>\n",
              "      <td>0.0</td>\n",
              "      <td>0.0</td>\n",
              "      <td>0.0</td>\n",
              "      <td>0.0</td>\n",
              "      <td>0.0</td>\n",
              "      <td>0.0</td>\n",
              "      <td>0.0</td>\n",
              "      <td>0.0</td>\n",
              "      <td>0.0</td>\n",
              "      <td>0.0</td>\n",
              "      <td>0.0</td>\n",
              "      <td>0.0</td>\n",
              "      <td>0.0</td>\n",
              "      <td>0.0</td>\n",
              "      <td>0.0</td>\n",
              "    </tr>\n",
              "  </tbody>\n",
              "</table>\n",
              "<p>5 rows × 181728 columns</p>\n",
              "</div>"
            ],
            "text/plain": [
              "Orthogroup  OG0000000  OG0000001  OG0000002  ...  OG0181725  OG0181726  OG0181727\n",
              "MMETSP1363   0.105531   0.004647   0.026744  ...        0.0        0.0        0.0\n",
              "MMETSP0943   0.152612   0.013665   0.032382  ...        0.0        0.0        0.0\n",
              "MMETSP1154   0.166827   0.054205   0.050987  ...        0.0        0.0        0.0\n",
              "MMETSP1138   0.189392   0.020614   0.124919  ...        0.0        0.0        0.0\n",
              "MMETSP1466   0.147052   0.149323   0.024191  ...        0.0        0.0        0.0\n",
              "\n",
              "[5 rows x 181728 columns]"
            ]
          },
          "metadata": {
            "tags": []
          },
          "execution_count": 29
        }
      ]
    },
    {
      "cell_type": "code",
      "metadata": {
        "id": "k2EP_tMQkzVC",
        "colab_type": "code",
        "outputId": "d446627f-ff60-48a0-b0ee-5dc3aac5f5df",
        "colab": {
          "base_uri": "https://localhost:8080/",
          "height": 278
        }
      },
      "source": [
        "print(mad_testDF.shape)\n",
        "print(mad_trainDF.shape)\n",
        "mad_trainDF.head()"
      ],
      "execution_count": 30,
      "outputs": [
        {
          "output_type": "stream",
          "text": [
            "(7, 8000)\n",
            "(54, 8000)\n"
          ],
          "name": "stdout"
        },
        {
          "output_type": "execute_result",
          "data": {
            "text/html": [
              "<div>\n",
              "<style scoped>\n",
              "    .dataframe tbody tr th:only-of-type {\n",
              "        vertical-align: middle;\n",
              "    }\n",
              "\n",
              "    .dataframe tbody tr th {\n",
              "        vertical-align: top;\n",
              "    }\n",
              "\n",
              "    .dataframe thead th {\n",
              "        text-align: right;\n",
              "    }\n",
              "</style>\n",
              "<table border=\"1\" class=\"dataframe\">\n",
              "  <thead>\n",
              "    <tr style=\"text-align: right;\">\n",
              "      <th>Orthogroup</th>\n",
              "      <th>OG0026143</th>\n",
              "      <th>OG0014142</th>\n",
              "      <th>OG0014645</th>\n",
              "      <th>OG0025874</th>\n",
              "      <th>OG0010667</th>\n",
              "      <th>OG0025586</th>\n",
              "      <th>OG0022720</th>\n",
              "      <th>OG0013874</th>\n",
              "      <th>OG0021190</th>\n",
              "      <th>OG0012010</th>\n",
              "      <th>OG0020923</th>\n",
              "      <th>OG0019275</th>\n",
              "      <th>OG0023557</th>\n",
              "      <th>OG0018684</th>\n",
              "      <th>OG0011316</th>\n",
              "      <th>OG0031940</th>\n",
              "      <th>OG0018764</th>\n",
              "      <th>OG0013113</th>\n",
              "      <th>OG0022191</th>\n",
              "      <th>OG0028471</th>\n",
              "      <th>OG0002537</th>\n",
              "      <th>OG0030076</th>\n",
              "      <th>OG0009273</th>\n",
              "      <th>OG0025725</th>\n",
              "      <th>OG0031741</th>\n",
              "      <th>OG0015232</th>\n",
              "      <th>OG0013556</th>\n",
              "      <th>OG0021686</th>\n",
              "      <th>OG0026828</th>\n",
              "      <th>OG0010452</th>\n",
              "      <th>OG0025863</th>\n",
              "      <th>OG0013120</th>\n",
              "      <th>OG0018053</th>\n",
              "      <th>OG0020648</th>\n",
              "      <th>OG0013916</th>\n",
              "      <th>OG0003244</th>\n",
              "      <th>OG0008446</th>\n",
              "      <th>OG0008569</th>\n",
              "      <th>OG0002928</th>\n",
              "      <th>OG0014313</th>\n",
              "      <th>...</th>\n",
              "      <th>OG0021212</th>\n",
              "      <th>OG0008967</th>\n",
              "      <th>OG0017857</th>\n",
              "      <th>OG0016666</th>\n",
              "      <th>OG0019957</th>\n",
              "      <th>OG0038168</th>\n",
              "      <th>OG0013052</th>\n",
              "      <th>OG0002231</th>\n",
              "      <th>OG0017327</th>\n",
              "      <th>OG0032337</th>\n",
              "      <th>OG0011400</th>\n",
              "      <th>OG0006744</th>\n",
              "      <th>OG0002820</th>\n",
              "      <th>OG0031705</th>\n",
              "      <th>OG0024298</th>\n",
              "      <th>OG0043372</th>\n",
              "      <th>OG0030603</th>\n",
              "      <th>OG0013455</th>\n",
              "      <th>OG0010245</th>\n",
              "      <th>OG0013122</th>\n",
              "      <th>OG0032290</th>\n",
              "      <th>OG0023733</th>\n",
              "      <th>OG0018037</th>\n",
              "      <th>OG0026813</th>\n",
              "      <th>OG0012943</th>\n",
              "      <th>OG0030600</th>\n",
              "      <th>OG0020255</th>\n",
              "      <th>OG0022804</th>\n",
              "      <th>OG0012110</th>\n",
              "      <th>OG0018498</th>\n",
              "      <th>OG0034291</th>\n",
              "      <th>OG0013576</th>\n",
              "      <th>OG0030374</th>\n",
              "      <th>OG0025330</th>\n",
              "      <th>OG0008316</th>\n",
              "      <th>OG0012183</th>\n",
              "      <th>OG0028580</th>\n",
              "      <th>OG0016459</th>\n",
              "      <th>OG0003419</th>\n",
              "      <th>OG0010882</th>\n",
              "    </tr>\n",
              "  </thead>\n",
              "  <tbody>\n",
              "    <tr>\n",
              "      <th>MMETSP1363</th>\n",
              "      <td>0.629901</td>\n",
              "      <td>0.000000</td>\n",
              "      <td>0.808261</td>\n",
              "      <td>0.496860</td>\n",
              "      <td>0.519696</td>\n",
              "      <td>0.899227</td>\n",
              "      <td>0.720944</td>\n",
              "      <td>0.668446</td>\n",
              "      <td>0.809559</td>\n",
              "      <td>0.510385</td>\n",
              "      <td>0.773305</td>\n",
              "      <td>1.0</td>\n",
              "      <td>0.630771</td>\n",
              "      <td>1.000000</td>\n",
              "      <td>0.595180</td>\n",
              "      <td>0.555962</td>\n",
              "      <td>0.985755</td>\n",
              "      <td>0.842217</td>\n",
              "      <td>0.573649</td>\n",
              "      <td>0.000000</td>\n",
              "      <td>0.000000</td>\n",
              "      <td>0.612851</td>\n",
              "      <td>0.687244</td>\n",
              "      <td>0.699412</td>\n",
              "      <td>0.760051</td>\n",
              "      <td>0.000000</td>\n",
              "      <td>0.459068</td>\n",
              "      <td>0.683409</td>\n",
              "      <td>0.746972</td>\n",
              "      <td>0.000000</td>\n",
              "      <td>0.764515</td>\n",
              "      <td>0.000000</td>\n",
              "      <td>0.000000</td>\n",
              "      <td>0.733001</td>\n",
              "      <td>0.458753</td>\n",
              "      <td>0.000000</td>\n",
              "      <td>0.794855</td>\n",
              "      <td>0.946007</td>\n",
              "      <td>0.786016</td>\n",
              "      <td>0.647588</td>\n",
              "      <td>...</td>\n",
              "      <td>0.303401</td>\n",
              "      <td>0.242236</td>\n",
              "      <td>0.653850</td>\n",
              "      <td>0.162292</td>\n",
              "      <td>0.355931</td>\n",
              "      <td>0.0</td>\n",
              "      <td>0.000000</td>\n",
              "      <td>0.210164</td>\n",
              "      <td>0.000000</td>\n",
              "      <td>0.321258</td>\n",
              "      <td>0.0</td>\n",
              "      <td>0.000000</td>\n",
              "      <td>0.303201</td>\n",
              "      <td>0.317389</td>\n",
              "      <td>0.0</td>\n",
              "      <td>0.000000</td>\n",
              "      <td>0.000000</td>\n",
              "      <td>0.000000</td>\n",
              "      <td>0.000000</td>\n",
              "      <td>0.000000</td>\n",
              "      <td>0.0</td>\n",
              "      <td>0.416090</td>\n",
              "      <td>0.0</td>\n",
              "      <td>0.000000</td>\n",
              "      <td>0.400652</td>\n",
              "      <td>0.000000</td>\n",
              "      <td>0.263240</td>\n",
              "      <td>0.647547</td>\n",
              "      <td>0.364910</td>\n",
              "      <td>0.000000</td>\n",
              "      <td>0.000000</td>\n",
              "      <td>0.388304</td>\n",
              "      <td>0.0</td>\n",
              "      <td>0.618643</td>\n",
              "      <td>0.406344</td>\n",
              "      <td>0.000000</td>\n",
              "      <td>0.0</td>\n",
              "      <td>0.000000</td>\n",
              "      <td>0.059687</td>\n",
              "      <td>0.000000</td>\n",
              "    </tr>\n",
              "    <tr>\n",
              "      <th>MMETSP0943</th>\n",
              "      <td>0.000000</td>\n",
              "      <td>0.000000</td>\n",
              "      <td>0.976355</td>\n",
              "      <td>0.000000</td>\n",
              "      <td>0.874879</td>\n",
              "      <td>0.000000</td>\n",
              "      <td>0.000000</td>\n",
              "      <td>0.891786</td>\n",
              "      <td>0.000000</td>\n",
              "      <td>0.777477</td>\n",
              "      <td>0.000000</td>\n",
              "      <td>0.0</td>\n",
              "      <td>0.000000</td>\n",
              "      <td>0.000000</td>\n",
              "      <td>0.000000</td>\n",
              "      <td>0.000000</td>\n",
              "      <td>0.000000</td>\n",
              "      <td>0.000000</td>\n",
              "      <td>0.000000</td>\n",
              "      <td>0.914450</td>\n",
              "      <td>0.741369</td>\n",
              "      <td>0.000000</td>\n",
              "      <td>0.000000</td>\n",
              "      <td>0.000000</td>\n",
              "      <td>0.000000</td>\n",
              "      <td>0.785110</td>\n",
              "      <td>0.404028</td>\n",
              "      <td>0.000000</td>\n",
              "      <td>0.619163</td>\n",
              "      <td>0.824006</td>\n",
              "      <td>0.000000</td>\n",
              "      <td>0.844300</td>\n",
              "      <td>0.835465</td>\n",
              "      <td>0.000000</td>\n",
              "      <td>0.418471</td>\n",
              "      <td>0.000000</td>\n",
              "      <td>0.572401</td>\n",
              "      <td>0.802376</td>\n",
              "      <td>0.699590</td>\n",
              "      <td>0.000000</td>\n",
              "      <td>...</td>\n",
              "      <td>0.000000</td>\n",
              "      <td>0.364102</td>\n",
              "      <td>0.000000</td>\n",
              "      <td>0.000000</td>\n",
              "      <td>0.000000</td>\n",
              "      <td>0.0</td>\n",
              "      <td>0.000000</td>\n",
              "      <td>0.926966</td>\n",
              "      <td>0.591953</td>\n",
              "      <td>0.000000</td>\n",
              "      <td>0.0</td>\n",
              "      <td>1.000000</td>\n",
              "      <td>0.541511</td>\n",
              "      <td>0.000000</td>\n",
              "      <td>0.0</td>\n",
              "      <td>0.717103</td>\n",
              "      <td>0.000000</td>\n",
              "      <td>0.517265</td>\n",
              "      <td>0.000000</td>\n",
              "      <td>0.978160</td>\n",
              "      <td>0.0</td>\n",
              "      <td>0.000000</td>\n",
              "      <td>0.0</td>\n",
              "      <td>0.000000</td>\n",
              "      <td>0.471627</td>\n",
              "      <td>0.000000</td>\n",
              "      <td>0.797442</td>\n",
              "      <td>0.000000</td>\n",
              "      <td>0.000000</td>\n",
              "      <td>0.000000</td>\n",
              "      <td>0.000000</td>\n",
              "      <td>0.230822</td>\n",
              "      <td>0.0</td>\n",
              "      <td>0.000000</td>\n",
              "      <td>0.000000</td>\n",
              "      <td>0.000000</td>\n",
              "      <td>0.0</td>\n",
              "      <td>0.492474</td>\n",
              "      <td>0.383813</td>\n",
              "      <td>0.000000</td>\n",
              "    </tr>\n",
              "    <tr>\n",
              "      <th>MMETSP1154</th>\n",
              "      <td>1.000000</td>\n",
              "      <td>0.863102</td>\n",
              "      <td>0.700886</td>\n",
              "      <td>0.876149</td>\n",
              "      <td>0.752886</td>\n",
              "      <td>0.000000</td>\n",
              "      <td>0.698510</td>\n",
              "      <td>0.926866</td>\n",
              "      <td>0.824133</td>\n",
              "      <td>0.814948</td>\n",
              "      <td>0.859203</td>\n",
              "      <td>0.0</td>\n",
              "      <td>0.834887</td>\n",
              "      <td>0.620882</td>\n",
              "      <td>0.675862</td>\n",
              "      <td>0.814831</td>\n",
              "      <td>0.745490</td>\n",
              "      <td>0.695548</td>\n",
              "      <td>1.000000</td>\n",
              "      <td>0.987427</td>\n",
              "      <td>0.000000</td>\n",
              "      <td>1.000000</td>\n",
              "      <td>0.944491</td>\n",
              "      <td>0.804875</td>\n",
              "      <td>0.804660</td>\n",
              "      <td>0.994645</td>\n",
              "      <td>0.804752</td>\n",
              "      <td>0.949801</td>\n",
              "      <td>0.946411</td>\n",
              "      <td>0.000000</td>\n",
              "      <td>0.936345</td>\n",
              "      <td>0.856408</td>\n",
              "      <td>0.767265</td>\n",
              "      <td>0.744432</td>\n",
              "      <td>0.934238</td>\n",
              "      <td>0.710209</td>\n",
              "      <td>0.435944</td>\n",
              "      <td>0.648533</td>\n",
              "      <td>0.000000</td>\n",
              "      <td>0.647316</td>\n",
              "      <td>...</td>\n",
              "      <td>0.459410</td>\n",
              "      <td>0.000000</td>\n",
              "      <td>0.789509</td>\n",
              "      <td>0.399374</td>\n",
              "      <td>0.246698</td>\n",
              "      <td>0.0</td>\n",
              "      <td>0.373364</td>\n",
              "      <td>0.585990</td>\n",
              "      <td>0.000000</td>\n",
              "      <td>0.721825</td>\n",
              "      <td>0.0</td>\n",
              "      <td>0.196197</td>\n",
              "      <td>0.412586</td>\n",
              "      <td>0.000000</td>\n",
              "      <td>0.0</td>\n",
              "      <td>0.899693</td>\n",
              "      <td>0.993833</td>\n",
              "      <td>0.000000</td>\n",
              "      <td>0.280507</td>\n",
              "      <td>0.367266</td>\n",
              "      <td>1.0</td>\n",
              "      <td>0.835183</td>\n",
              "      <td>0.0</td>\n",
              "      <td>0.324981</td>\n",
              "      <td>0.423861</td>\n",
              "      <td>0.440126</td>\n",
              "      <td>0.265792</td>\n",
              "      <td>0.826931</td>\n",
              "      <td>0.558744</td>\n",
              "      <td>0.761217</td>\n",
              "      <td>0.814299</td>\n",
              "      <td>0.178691</td>\n",
              "      <td>0.0</td>\n",
              "      <td>0.285894</td>\n",
              "      <td>0.488267</td>\n",
              "      <td>0.315506</td>\n",
              "      <td>0.0</td>\n",
              "      <td>0.465668</td>\n",
              "      <td>0.566192</td>\n",
              "      <td>0.565308</td>\n",
              "    </tr>\n",
              "    <tr>\n",
              "      <th>MMETSP1138</th>\n",
              "      <td>0.000000</td>\n",
              "      <td>0.000000</td>\n",
              "      <td>0.930227</td>\n",
              "      <td>0.000000</td>\n",
              "      <td>0.960933</td>\n",
              "      <td>0.000000</td>\n",
              "      <td>0.000000</td>\n",
              "      <td>0.000000</td>\n",
              "      <td>0.000000</td>\n",
              "      <td>0.602385</td>\n",
              "      <td>0.000000</td>\n",
              "      <td>0.0</td>\n",
              "      <td>0.000000</td>\n",
              "      <td>0.745607</td>\n",
              "      <td>0.000000</td>\n",
              "      <td>0.000000</td>\n",
              "      <td>0.000000</td>\n",
              "      <td>0.000000</td>\n",
              "      <td>0.000000</td>\n",
              "      <td>0.000000</td>\n",
              "      <td>0.000000</td>\n",
              "      <td>0.000000</td>\n",
              "      <td>0.000000</td>\n",
              "      <td>0.000000</td>\n",
              "      <td>0.000000</td>\n",
              "      <td>0.000000</td>\n",
              "      <td>0.326256</td>\n",
              "      <td>0.000000</td>\n",
              "      <td>0.000000</td>\n",
              "      <td>0.699487</td>\n",
              "      <td>0.000000</td>\n",
              "      <td>0.000000</td>\n",
              "      <td>0.000000</td>\n",
              "      <td>0.000000</td>\n",
              "      <td>0.000000</td>\n",
              "      <td>0.000000</td>\n",
              "      <td>0.000000</td>\n",
              "      <td>0.000000</td>\n",
              "      <td>0.000000</td>\n",
              "      <td>0.000000</td>\n",
              "      <td>...</td>\n",
              "      <td>0.000000</td>\n",
              "      <td>0.618478</td>\n",
              "      <td>0.000000</td>\n",
              "      <td>0.000000</td>\n",
              "      <td>0.000000</td>\n",
              "      <td>0.0</td>\n",
              "      <td>0.000000</td>\n",
              "      <td>0.000000</td>\n",
              "      <td>0.000000</td>\n",
              "      <td>0.000000</td>\n",
              "      <td>0.0</td>\n",
              "      <td>0.666155</td>\n",
              "      <td>0.606918</td>\n",
              "      <td>0.000000</td>\n",
              "      <td>0.0</td>\n",
              "      <td>0.000000</td>\n",
              "      <td>0.000000</td>\n",
              "      <td>0.000000</td>\n",
              "      <td>0.251460</td>\n",
              "      <td>0.000000</td>\n",
              "      <td>0.0</td>\n",
              "      <td>0.000000</td>\n",
              "      <td>0.0</td>\n",
              "      <td>0.000000</td>\n",
              "      <td>0.000000</td>\n",
              "      <td>0.000000</td>\n",
              "      <td>0.000000</td>\n",
              "      <td>0.000000</td>\n",
              "      <td>0.000000</td>\n",
              "      <td>0.000000</td>\n",
              "      <td>0.000000</td>\n",
              "      <td>0.000000</td>\n",
              "      <td>0.0</td>\n",
              "      <td>0.000000</td>\n",
              "      <td>0.000000</td>\n",
              "      <td>0.000000</td>\n",
              "      <td>0.0</td>\n",
              "      <td>0.000000</td>\n",
              "      <td>0.067604</td>\n",
              "      <td>0.000000</td>\n",
              "    </tr>\n",
              "    <tr>\n",
              "      <th>MMETSP1466</th>\n",
              "      <td>0.000000</td>\n",
              "      <td>0.000000</td>\n",
              "      <td>0.000000</td>\n",
              "      <td>0.000000</td>\n",
              "      <td>0.000000</td>\n",
              "      <td>0.000000</td>\n",
              "      <td>0.000000</td>\n",
              "      <td>0.000000</td>\n",
              "      <td>0.000000</td>\n",
              "      <td>0.000000</td>\n",
              "      <td>0.000000</td>\n",
              "      <td>0.0</td>\n",
              "      <td>0.000000</td>\n",
              "      <td>0.000000</td>\n",
              "      <td>0.000000</td>\n",
              "      <td>0.000000</td>\n",
              "      <td>0.000000</td>\n",
              "      <td>0.000000</td>\n",
              "      <td>0.505848</td>\n",
              "      <td>0.000000</td>\n",
              "      <td>0.000000</td>\n",
              "      <td>0.000000</td>\n",
              "      <td>0.000000</td>\n",
              "      <td>0.000000</td>\n",
              "      <td>0.000000</td>\n",
              "      <td>0.000000</td>\n",
              "      <td>0.000000</td>\n",
              "      <td>0.000000</td>\n",
              "      <td>0.000000</td>\n",
              "      <td>0.000000</td>\n",
              "      <td>0.000000</td>\n",
              "      <td>0.000000</td>\n",
              "      <td>0.000000</td>\n",
              "      <td>0.000000</td>\n",
              "      <td>0.000000</td>\n",
              "      <td>0.000000</td>\n",
              "      <td>0.000000</td>\n",
              "      <td>0.000000</td>\n",
              "      <td>0.000000</td>\n",
              "      <td>0.000000</td>\n",
              "      <td>...</td>\n",
              "      <td>0.000000</td>\n",
              "      <td>0.000000</td>\n",
              "      <td>0.000000</td>\n",
              "      <td>0.000000</td>\n",
              "      <td>0.329536</td>\n",
              "      <td>0.0</td>\n",
              "      <td>0.000000</td>\n",
              "      <td>0.000000</td>\n",
              "      <td>0.000000</td>\n",
              "      <td>0.000000</td>\n",
              "      <td>0.0</td>\n",
              "      <td>0.087670</td>\n",
              "      <td>0.435276</td>\n",
              "      <td>0.000000</td>\n",
              "      <td>0.0</td>\n",
              "      <td>0.000000</td>\n",
              "      <td>0.000000</td>\n",
              "      <td>0.337506</td>\n",
              "      <td>0.257615</td>\n",
              "      <td>0.000000</td>\n",
              "      <td>0.0</td>\n",
              "      <td>0.000000</td>\n",
              "      <td>0.0</td>\n",
              "      <td>0.000000</td>\n",
              "      <td>0.000000</td>\n",
              "      <td>0.000000</td>\n",
              "      <td>0.000000</td>\n",
              "      <td>0.000000</td>\n",
              "      <td>0.000000</td>\n",
              "      <td>0.000000</td>\n",
              "      <td>0.000000</td>\n",
              "      <td>0.000000</td>\n",
              "      <td>0.0</td>\n",
              "      <td>0.000000</td>\n",
              "      <td>0.000000</td>\n",
              "      <td>0.000000</td>\n",
              "      <td>0.0</td>\n",
              "      <td>0.000000</td>\n",
              "      <td>0.000000</td>\n",
              "      <td>0.000000</td>\n",
              "    </tr>\n",
              "  </tbody>\n",
              "</table>\n",
              "<p>5 rows × 8000 columns</p>\n",
              "</div>"
            ],
            "text/plain": [
              "Orthogroup  OG0026143  OG0014142  OG0014645  ...  OG0016459  OG0003419  OG0010882\n",
              "MMETSP1363   0.629901   0.000000   0.808261  ...   0.000000   0.059687   0.000000\n",
              "MMETSP0943   0.000000   0.000000   0.976355  ...   0.492474   0.383813   0.000000\n",
              "MMETSP1154   1.000000   0.863102   0.700886  ...   0.465668   0.566192   0.565308\n",
              "MMETSP1138   0.000000   0.000000   0.930227  ...   0.000000   0.067604   0.000000\n",
              "MMETSP1466   0.000000   0.000000   0.000000  ...   0.000000   0.000000   0.000000\n",
              "\n",
              "[5 rows x 8000 columns]"
            ]
          },
          "metadata": {
            "tags": []
          },
          "execution_count": 30
        }
      ]
    },
    {
      "cell_type": "markdown",
      "metadata": {
        "id": "ROWMwwp7qA_6",
        "colab_type": "text"
      },
      "source": [
        "## Set Up Tybalt VAE"
      ]
    },
    {
      "cell_type": "code",
      "metadata": {
        "id": "s8VJFCETbBo2",
        "colab_type": "code",
        "outputId": "c928df19-d3e1-4578-9953-5217a97a9c7f",
        "colab": {
          "base_uri": "https://localhost:8080/",
          "height": 79
        }
      },
      "source": [
        "## based on VAE notebook (https://github.com/greenelab/tybalt/blob/master/tybalt_vae.ipynb)\n",
        "import os\n",
        "import numpy as np\n",
        "import pandas as pd\n",
        "import matplotlib.pyplot as plt\n",
        "import seaborn as sns\n",
        "\n",
        "import tensorflow as tf\n",
        "from keras.layers import Input, Dense, Lambda, Layer, Activation\n",
        "from keras.layers.normalization import BatchNormalization\n",
        "from keras.models import Model\n",
        "from keras import backend as K\n",
        "from keras import metrics, optimizers\n",
        "from keras.callbacks import Callback\n",
        "import keras\n",
        "\n",
        "import pydot\n",
        "import graphviz\n",
        "from keras.utils import plot_model\n",
        "from keras_tqdm import TQDMNotebookCallback\n",
        "from IPython.display import SVG\n",
        "from keras.utils.vis_utils import model_to_dot"
      ],
      "execution_count": 31,
      "outputs": [
        {
          "output_type": "display_data",
          "data": {
            "text/html": [
              "<p style=\"color: red;\">\n",
              "The default version of TensorFlow in Colab will soon switch to TensorFlow 2.x.<br>\n",
              "We recommend you <a href=\"https://www.tensorflow.org/guide/migrate\" target=\"_blank\">upgrade</a> now \n",
              "or ensure your notebook will continue to use TensorFlow 1.x via the <code>%tensorflow_version 1.x</code> magic:\n",
              "<a href=\"https://colab.research.google.com/notebooks/tensorflow_version.ipynb\" target=\"_blank\">more info</a>.</p>\n"
            ],
            "text/plain": [
              "<IPython.core.display.HTML object>"
            ]
          },
          "metadata": {
            "tags": []
          }
        },
        {
          "output_type": "stream",
          "text": [
            "Using TensorFlow backend.\n"
          ],
          "name": "stderr"
        }
      ]
    },
    {
      "cell_type": "code",
      "metadata": {
        "id": "n5wLpYtzeTCB",
        "colab_type": "code",
        "outputId": "f2027b05-bae4-4646-afc6-2a55654dd470",
        "colab": {
          "base_uri": "https://localhost:8080/",
          "height": 50
        }
      },
      "source": [
        "print(keras.__version__)\n",
        "tf.__version__"
      ],
      "execution_count": 33,
      "outputs": [
        {
          "output_type": "stream",
          "text": [
            "2.2.5\n"
          ],
          "name": "stdout"
        },
        {
          "output_type": "execute_result",
          "data": {
            "text/plain": [
              "'1.15.0'"
            ]
          },
          "metadata": {
            "tags": []
          },
          "execution_count": 33
        }
      ]
    },
    {
      "cell_type": "code",
      "metadata": {
        "id": "87B7KPfGpgJd",
        "colab_type": "code",
        "colab": {
          "base_uri": "https://localhost:8080/",
          "height": 205
        },
        "outputId": "4c344411-ed1c-4bba-89a4-954d3c8b96ca"
      },
      "source": [
        "# I want pretty progress bars in notebook during learning https://github.com/bstriner/keras-tqdm\n",
        "! pip install keras-tqdm"
      ],
      "execution_count": 32,
      "outputs": [
        {
          "output_type": "stream",
          "text": [
            "Requirement already satisfied: keras-tqdm in /usr/local/lib/python3.6/dist-packages (2.0.1)\n",
            "Requirement already satisfied: Keras in /usr/local/lib/python3.6/dist-packages (from keras-tqdm) (2.2.5)\n",
            "Requirement already satisfied: tqdm in /usr/local/lib/python3.6/dist-packages (from keras-tqdm) (4.28.1)\n",
            "Requirement already satisfied: pyyaml in /usr/local/lib/python3.6/dist-packages (from Keras->keras-tqdm) (3.13)\n",
            "Requirement already satisfied: keras-preprocessing>=1.1.0 in /usr/local/lib/python3.6/dist-packages (from Keras->keras-tqdm) (1.1.0)\n",
            "Requirement already satisfied: six>=1.9.0 in /usr/local/lib/python3.6/dist-packages (from Keras->keras-tqdm) (1.12.0)\n",
            "Requirement already satisfied: h5py in /usr/local/lib/python3.6/dist-packages (from Keras->keras-tqdm) (2.8.0)\n",
            "Requirement already satisfied: scipy>=0.14 in /usr/local/lib/python3.6/dist-packages (from Keras->keras-tqdm) (1.3.1)\n",
            "Requirement already satisfied: keras-applications>=1.0.8 in /usr/local/lib/python3.6/dist-packages (from Keras->keras-tqdm) (1.0.8)\n",
            "Requirement already satisfied: numpy>=1.9.1 in /usr/local/lib/python3.6/dist-packages (from Keras->keras-tqdm) (1.17.3)\n"
          ],
          "name": "stdout"
        }
      ]
    },
    {
      "cell_type": "code",
      "metadata": {
        "id": "GI4ZxX3HeT0j",
        "colab_type": "code",
        "colab": {}
      },
      "source": [
        "%matplotlib inline\n",
        "plt.style.use('seaborn-notebook')"
      ],
      "execution_count": 0,
      "outputs": []
    },
    {
      "cell_type": "code",
      "metadata": {
        "id": "3zuvco4Ie6xO",
        "colab_type": "code",
        "colab": {}
      },
      "source": [
        "sns.set(style=\"white\", color_codes=True)\n",
        "sns.set_context(\"paper\", rc={\"font.size\":14,\"axes.titlesize\":15,\"axes.labelsize\":20,\n",
        "                             'xtick.labelsize':14, 'ytick.labelsize':14})\n"
      ],
      "execution_count": 0,
      "outputs": []
    },
    {
      "cell_type": "markdown",
      "metadata": {
        "id": "CPlNbfyhfDgZ",
        "colab_type": "text"
      },
      "source": [
        "### Load Functions and Classes\n",
        "\n",
        "This will facilitate connections between layers and also custom hyperparameters"
      ]
    },
    {
      "cell_type": "code",
      "metadata": {
        "id": "2Zhj16lEe_wJ",
        "colab_type": "code",
        "colab": {}
      },
      "source": [
        "# Function for reparameterization trick to make model differentiable\n",
        "def sampling(args):\n",
        "    \n",
        "    import tensorflow as tf\n",
        "    # Function with args required for Keras Lambda function\n",
        "    z_mean, z_log_var = args\n",
        "\n",
        "    # Draw epsilon of the same shape from a standard normal distribution\n",
        "    epsilon = K.random_normal(shape=tf.shape(z_mean), mean=0.,\n",
        "                              stddev=epsilon_std)\n",
        "    \n",
        "    # The latent vector is non-deterministic and differentiable\n",
        "    # in respect to z_mean and z_log_var\n",
        "    z = z_mean + K.exp(z_log_var / 2) * epsilon\n",
        "    return z\n",
        "\n",
        "\n",
        "class CustomVariationalLayer(Layer):\n",
        "    \"\"\"\n",
        "    Define a custom layer that learns and performs the training\n",
        "    This function is borrowed from:\n",
        "    https://github.com/fchollet/keras/blob/master/examples/variational_autoencoder.py\n",
        "    \"\"\"\n",
        "    def __init__(self, **kwargs):\n",
        "        # https://keras.io/layers/writing-your-own-keras-layers/\n",
        "        self.is_placeholder = True\n",
        "        super(CustomVariationalLayer, self).__init__(**kwargs)\n",
        "\n",
        "    def vae_loss(self, x_input, x_decoded):\n",
        "        reconstruction_loss = original_dim * metrics.binary_crossentropy(x_input, x_decoded)\n",
        "        kl_loss = - 0.5 * K.sum(1 + z_log_var_encoded - K.square(z_mean_encoded) - \n",
        "                                K.exp(z_log_var_encoded), axis=-1)\n",
        "        return K.mean(reconstruction_loss + (K.get_value(beta) * kl_loss))\n",
        "\n",
        "    def call(self, inputs):\n",
        "        x = inputs[0]\n",
        "        x_decoded = inputs[1]\n",
        "        loss = self.vae_loss(x, x_decoded)\n",
        "        self.add_loss(loss, inputs=inputs)\n",
        "        # We won't actually use the output.\n",
        "        return x"
      ],
      "execution_count": 0,
      "outputs": []
    },
    {
      "cell_type": "markdown",
      "metadata": {
        "id": "W5pdn4D2fLFw",
        "colab_type": "text"
      },
      "source": [
        "### Implementing Warm-up as described in Sonderby et al. LVAE\n",
        "\n",
        "This is modified code from https://github.com/fchollet/keras/issues/2595"
      ]
    },
    {
      "cell_type": "code",
      "metadata": {
        "id": "l4WG90V6fOq9",
        "colab_type": "code",
        "colab": {}
      },
      "source": [
        "class WarmUpCallback(Callback):\n",
        "    def __init__(self, beta, kappa):\n",
        "        self.beta = beta\n",
        "        self.kappa = kappa\n",
        "    # Behavior on each epoch\n",
        "    def on_epoch_end(self, epoch, logs={}):\n",
        "        if K.get_value(self.beta) <= 1:\n",
        "            K.set_value(self.beta, K.get_value(self.beta) + self.kappa)"
      ],
      "execution_count": 0,
      "outputs": []
    },
    {
      "cell_type": "code",
      "metadata": {
        "id": "NshoeR6UfR--",
        "colab_type": "code",
        "colab": {}
      },
      "source": [
        "np.random.seed(123)"
      ],
      "execution_count": 0,
      "outputs": []
    },
    {
      "cell_type": "markdown",
      "metadata": {
        "id": "FZbiHHyzfYtd",
        "colab_type": "text"
      },
      "source": [
        "### Initialize variables and hyperparameters\n"
      ]
    },
    {
      "cell_type": "code",
      "metadata": {
        "id": "2F4wLQymfTz8",
        "colab_type": "code",
        "colab": {}
      },
      "source": [
        "# Set hyper parameters\n",
        "#original_dim = data_DF.shape[1]\n",
        "original_dim = mad_genes_df.shape[1]\n",
        "latent_dim = 100\n",
        "\n",
        "batch_size =  5 #50\n",
        "epochs = 100 #50\n",
        "learning_rate = 0.0015\n",
        "\n",
        "epsilon_std = 1.0\n",
        "beta = K.variable(0)\n",
        "kappa = 1"
      ],
      "execution_count": 0,
      "outputs": []
    },
    {
      "cell_type": "markdown",
      "metadata": {
        "id": "kNHpKSNRfjkO",
        "colab_type": "text"
      },
      "source": [
        "### Encoder "
      ]
    },
    {
      "cell_type": "code",
      "metadata": {
        "id": "YJzH6MZsffzr",
        "colab_type": "code",
        "colab": {}
      },
      "source": [
        "# Input place holder for RNAseq data with specific input size\n",
        "rnaseq_input = Input(shape=(original_dim, ))\n",
        "\n",
        "# Input layer is compressed into a mean and log variance vector of size `latent_dim`\n",
        "# Each layer is initialized with glorot uniform weights and each step (dense connections,\n",
        "# batch norm, and relu activation) are funneled separately\n",
        "# Each vector of length `latent_dim` are connected to the rnaseq input tensor\n",
        "z_mean_dense_linear = Dense(latent_dim, kernel_initializer='glorot_uniform')(rnaseq_input)\n",
        "z_mean_dense_batchnorm = BatchNormalization()(z_mean_dense_linear)\n",
        "z_mean_encoded = Activation('relu')(z_mean_dense_batchnorm)\n",
        "\n",
        "z_log_var_dense_linear = Dense(latent_dim, kernel_initializer='glorot_uniform')(rnaseq_input)\n",
        "z_log_var_dense_batchnorm = BatchNormalization()(z_log_var_dense_linear)\n",
        "z_log_var_encoded = Activation('relu')(z_log_var_dense_batchnorm)\n",
        "\n",
        "# return the encoded and randomly sampled z vector\n",
        "# Takes two keras layers as input to the custom sampling function layer with a `latent_dim` output\n",
        "z = Lambda(sampling, output_shape=(latent_dim, ))([z_mean_encoded, z_log_var_encoded])"
      ],
      "execution_count": 0,
      "outputs": []
    },
    {
      "cell_type": "markdown",
      "metadata": {
        "id": "vju26PZHfves",
        "colab_type": "text"
      },
      "source": [
        "### Decoder"
      ]
    },
    {
      "cell_type": "code",
      "metadata": {
        "id": "eotAkZR7ftrQ",
        "colab_type": "code",
        "colab": {}
      },
      "source": [
        "# The decoding layer is much simpler with a single layer and sigmoid activation\n",
        "decoder_to_reconstruct = Dense(original_dim, kernel_initializer='glorot_uniform', activation='sigmoid')\n",
        "rnaseq_reconstruct = decoder_to_reconstruct(z)"
      ],
      "execution_count": 0,
      "outputs": []
    },
    {
      "cell_type": "markdown",
      "metadata": {
        "id": "4GJhmHsnf72n",
        "colab_type": "text"
      },
      "source": [
        "### Connect the encoder and decoder to make the VAE\n",
        "\n",
        "The CustomVariationalLayer() includes the VAE loss function (reconstruction + (beta * KL)), which is what will drive our model to learn an interpretable representation of gene expression space.\n",
        "\n",
        "The VAE is compiled with an Adam optimizer and built-in custom loss function. The loss_weights parameter ensures beta is updated at each epoch end callback"
      ]
    },
    {
      "cell_type": "code",
      "metadata": {
        "id": "zyMzlqGkf-Lb",
        "colab_type": "code",
        "outputId": "30542c79-19d3-41ef-8b79-8937b6326e93",
        "colab": {
          "base_uri": "https://localhost:8080/",
          "height": 521
        }
      },
      "source": [
        "adam = optimizers.Adam(lr=learning_rate)\n",
        "vae_layer = CustomVariationalLayer()([rnaseq_input, rnaseq_reconstruct])\n",
        "vae = Model(rnaseq_input, vae_layer)\n",
        "vae.compile(optimizer=adam, loss=None, loss_weights=[beta])\n",
        "\n",
        "vae.summary()"
      ],
      "execution_count": 50,
      "outputs": [
        {
          "output_type": "stream",
          "text": [
            "Model: \"model_2\"\n",
            "__________________________________________________________________________________________________\n",
            "Layer (type)                    Output Shape         Param #     Connected to                     \n",
            "==================================================================================================\n",
            "input_2 (InputLayer)            (None, 8000)         0                                            \n",
            "__________________________________________________________________________________________________\n",
            "dense_4 (Dense)                 (None, 100)          800100      input_2[0][0]                    \n",
            "__________________________________________________________________________________________________\n",
            "dense_5 (Dense)                 (None, 100)          800100      input_2[0][0]                    \n",
            "__________________________________________________________________________________________________\n",
            "batch_normalization_3 (BatchNor (None, 100)          400         dense_4[0][0]                    \n",
            "__________________________________________________________________________________________________\n",
            "batch_normalization_4 (BatchNor (None, 100)          400         dense_5[0][0]                    \n",
            "__________________________________________________________________________________________________\n",
            "activation_3 (Activation)       (None, 100)          0           batch_normalization_3[0][0]      \n",
            "__________________________________________________________________________________________________\n",
            "activation_4 (Activation)       (None, 100)          0           batch_normalization_4[0][0]      \n",
            "__________________________________________________________________________________________________\n",
            "lambda_2 (Lambda)               (None, 100)          0           activation_3[0][0]               \n",
            "                                                                 activation_4[0][0]               \n",
            "__________________________________________________________________________________________________\n",
            "dense_6 (Dense)                 (None, 8000)         808000      lambda_2[0][0]                   \n",
            "__________________________________________________________________________________________________\n",
            "custom_variational_layer_2 (Cus [(None, 8000), (None 0           input_2[0][0]                    \n",
            "                                                                 dense_6[0][0]                    \n",
            "==================================================================================================\n",
            "Total params: 2,409,000\n",
            "Trainable params: 2,408,600\n",
            "Non-trainable params: 400\n",
            "__________________________________________________________________________________________________\n"
          ],
          "name": "stdout"
        }
      ]
    },
    {
      "cell_type": "code",
      "metadata": {
        "id": "1YutB0TwgBvd",
        "colab_type": "code",
        "outputId": "6b4458b7-41b1-44af-b6e0-3398895ba8b1",
        "colab": {
          "base_uri": "https://localhost:8080/",
          "height": 900
        }
      },
      "source": [
        "# Visualize the connections of the custom VAE model\n",
        "output_model_file = 'onehidden_vae_architecture.png' #os.path.join('figures', 'onehidden_vae_architecture.png')\n",
        "plot_model(vae, to_file=output_model_file)\n",
        "\n",
        "SVG(model_to_dot(vae).create(prog='dot', format='svg'))"
      ],
      "execution_count": 51,
      "outputs": [
        {
          "output_type": "execute_result",
          "data": {
            "text/plain": [
              "<IPython.core.display.SVG object>"
            ],
            "image/svg+xml": "<svg height=\"644pt\" viewBox=\"0.00 0.00 676.00 483.00\" width=\"901pt\" xmlns=\"http://www.w3.org/2000/svg\" xmlns:xlink=\"http://www.w3.org/1999/xlink\">\n<g class=\"graph\" id=\"graph0\" transform=\"scale(1.3333 1.3333) rotate(0) translate(4 479)\">\n<title>G</title>\n<polygon fill=\"#ffffff\" points=\"-4,4 -4,-479 672,-479 672,4 -4,4\" stroke=\"transparent\"/>\n<!-- 139860347428200 -->\n<g class=\"node\" id=\"node1\">\n<title>139860347428200</title>\n<polygon fill=\"none\" points=\"358,-438.5 358,-474.5 491,-474.5 491,-438.5 358,-438.5\" stroke=\"#000000\"/>\n<text fill=\"#000000\" font-family=\"Times,serif\" font-size=\"14.00\" text-anchor=\"middle\" x=\"424.5\" y=\"-452.8\">input_2: InputLayer</text>\n</g>\n<!-- 139860347427752 -->\n<g class=\"node\" id=\"node2\">\n<title>139860347427752</title>\n<polygon fill=\"none\" points=\"164,-365.5 164,-401.5 271,-401.5 271,-365.5 164,-365.5\" stroke=\"#000000\"/>\n<text fill=\"#000000\" font-family=\"Times,serif\" font-size=\"14.00\" text-anchor=\"middle\" x=\"217.5\" y=\"-379.8\">dense_4: Dense</text>\n</g>\n<!-- 139860347428200&#45;&gt;139860347427752 -->\n<g class=\"edge\" id=\"edge1\">\n<title>139860347428200-&gt;139860347427752</title>\n<path d=\"M373.3314,-438.4551C344.5949,-428.3209 308.5545,-415.611 278.3737,-404.9675\" fill=\"none\" stroke=\"#000000\"/>\n<polygon fill=\"#000000\" points=\"279.3921,-401.6155 268.7973,-401.5904 277.064,-408.217 279.3921,-401.6155\" stroke=\"#000000\"/>\n</g>\n<!-- 139860347417040 -->\n<g class=\"node\" id=\"node3\">\n<title>139860347417040</title>\n<polygon fill=\"none\" points=\"371,-365.5 371,-401.5 478,-401.5 478,-365.5 371,-365.5\" stroke=\"#000000\"/>\n<text fill=\"#000000\" font-family=\"Times,serif\" font-size=\"14.00\" text-anchor=\"middle\" x=\"424.5\" y=\"-379.8\">dense_5: Dense</text>\n</g>\n<!-- 139860347428200&#45;&gt;139860347417040 -->\n<g class=\"edge\" id=\"edge2\">\n<title>139860347428200-&gt;139860347417040</title>\n<path d=\"M424.5,-438.4551C424.5,-430.3828 424.5,-420.6764 424.5,-411.6817\" fill=\"none\" stroke=\"#000000\"/>\n<polygon fill=\"#000000\" points=\"428.0001,-411.5903 424.5,-401.5904 421.0001,-411.5904 428.0001,-411.5903\" stroke=\"#000000\"/>\n</g>\n<!-- 139860369187840 -->\n<g class=\"node\" id=\"node10\">\n<title>139860369187840</title>\n<polygon fill=\"none\" points=\"345,-.5 345,-36.5 668,-36.5 668,-.5 345,-.5\" stroke=\"#000000\"/>\n<text fill=\"#000000\" font-family=\"Times,serif\" font-size=\"14.00\" text-anchor=\"middle\" x=\"506.5\" y=\"-14.8\">custom_variational_layer_2: CustomVariationalLayer</text>\n</g>\n<!-- 139860347428200&#45;&gt;139860369187840 -->\n<g class=\"edge\" id=\"edge10\">\n<title>139860347428200-&gt;139860369187840</title>\n<path d=\"M471.4958,-438.3156C519.9575,-416.1254 588.5,-373.5889 588.5,-310.5 588.5,-310.5 588.5,-310.5 588.5,-164.5 588.5,-117.6666 556.0278,-71.9601 531.952,-44.5084\" fill=\"none\" stroke=\"#000000\"/>\n<polygon fill=\"#000000\" points=\"534.407,-42.0047 525.1071,-36.9291 529.2119,-46.6964 534.407,-42.0047\" stroke=\"#000000\"/>\n</g>\n<!-- 139860347426128 -->\n<g class=\"node\" id=\"node4\">\n<title>139860347426128</title>\n<polygon fill=\"none\" points=\"0,-292.5 0,-328.5 271,-328.5 271,-292.5 0,-292.5\" stroke=\"#000000\"/>\n<text fill=\"#000000\" font-family=\"Times,serif\" font-size=\"14.00\" text-anchor=\"middle\" x=\"135.5\" y=\"-306.8\">batch_normalization_3: BatchNormalization</text>\n</g>\n<!-- 139860347427752&#45;&gt;139860347426128 -->\n<g class=\"edge\" id=\"edge3\">\n<title>139860347427752-&gt;139860347426128</title>\n<path d=\"M197.2303,-365.4551C187.0788,-356.4177 174.6262,-345.3319 163.5709,-335.4899\" fill=\"none\" stroke=\"#000000\"/>\n<polygon fill=\"#000000\" points=\"165.617,-332.6255 155.8207,-328.5904 160.9625,-337.8539 165.617,-332.6255\" stroke=\"#000000\"/>\n</g>\n<!-- 139860369970176 -->\n<g class=\"node\" id=\"node5\">\n<title>139860369970176</title>\n<polygon fill=\"none\" points=\"289,-292.5 289,-328.5 560,-328.5 560,-292.5 289,-292.5\" stroke=\"#000000\"/>\n<text fill=\"#000000\" font-family=\"Times,serif\" font-size=\"14.00\" text-anchor=\"middle\" x=\"424.5\" y=\"-306.8\">batch_normalization_4: BatchNormalization</text>\n</g>\n<!-- 139860347417040&#45;&gt;139860369970176 -->\n<g class=\"edge\" id=\"edge4\">\n<title>139860347417040-&gt;139860369970176</title>\n<path d=\"M424.5,-365.4551C424.5,-357.3828 424.5,-347.6764 424.5,-338.6817\" fill=\"none\" stroke=\"#000000\"/>\n<polygon fill=\"#000000\" points=\"428.0001,-338.5903 424.5,-328.5904 421.0001,-338.5904 428.0001,-338.5903\" stroke=\"#000000\"/>\n</g>\n<!-- 139860347426296 -->\n<g class=\"node\" id=\"node6\">\n<title>139860347426296</title>\n<polygon fill=\"none\" points=\"117.5,-219.5 117.5,-255.5 271.5,-255.5 271.5,-219.5 117.5,-219.5\" stroke=\"#000000\"/>\n<text fill=\"#000000\" font-family=\"Times,serif\" font-size=\"14.00\" text-anchor=\"middle\" x=\"194.5\" y=\"-233.8\">activation_3: Activation</text>\n</g>\n<!-- 139860347426128&#45;&gt;139860347426296 -->\n<g class=\"edge\" id=\"edge5\">\n<title>139860347426128-&gt;139860347426296</title>\n<path d=\"M150.0843,-292.4551C157.1048,-283.7686 165.6548,-273.1898 173.3715,-263.642\" fill=\"none\" stroke=\"#000000\"/>\n<polygon fill=\"#000000\" points=\"176.3152,-265.5678 179.879,-255.5904 170.871,-261.1677 176.3152,-265.5678\" stroke=\"#000000\"/>\n</g>\n<!-- 139860347435048 -->\n<g class=\"node\" id=\"node7\">\n<title>139860347435048</title>\n<polygon fill=\"none\" points=\"347.5,-219.5 347.5,-255.5 501.5,-255.5 501.5,-219.5 347.5,-219.5\" stroke=\"#000000\"/>\n<text fill=\"#000000\" font-family=\"Times,serif\" font-size=\"14.00\" text-anchor=\"middle\" x=\"424.5\" y=\"-233.8\">activation_4: Activation</text>\n</g>\n<!-- 139860369970176&#45;&gt;139860347435048 -->\n<g class=\"edge\" id=\"edge6\">\n<title>139860369970176-&gt;139860347435048</title>\n<path d=\"M424.5,-292.4551C424.5,-284.3828 424.5,-274.6764 424.5,-265.6817\" fill=\"none\" stroke=\"#000000\"/>\n<polygon fill=\"#000000\" points=\"428.0001,-265.5903 424.5,-255.5904 421.0001,-265.5904 428.0001,-265.5903\" stroke=\"#000000\"/>\n</g>\n<!-- 139860347517696 -->\n<g class=\"node\" id=\"node8\">\n<title>139860347517696</title>\n<polygon fill=\"none\" points=\"360.5,-146.5 360.5,-182.5 488.5,-182.5 488.5,-146.5 360.5,-146.5\" stroke=\"#000000\"/>\n<text fill=\"#000000\" font-family=\"Times,serif\" font-size=\"14.00\" text-anchor=\"middle\" x=\"424.5\" y=\"-160.8\">lambda_2: Lambda</text>\n</g>\n<!-- 139860347426296&#45;&gt;139860347517696 -->\n<g class=\"edge\" id=\"edge7\">\n<title>139860347426296-&gt;139860347517696</title>\n<path d=\"M251.3539,-219.4551C283.5599,-209.2332 324.0223,-196.3907 357.7321,-185.6916\" fill=\"none\" stroke=\"#000000\"/>\n<polygon fill=\"#000000\" points=\"359.0304,-188.9516 367.503,-182.5904 356.9127,-182.2796 359.0304,-188.9516\" stroke=\"#000000\"/>\n</g>\n<!-- 139860347435048&#45;&gt;139860347517696 -->\n<g class=\"edge\" id=\"edge8\">\n<title>139860347435048-&gt;139860347517696</title>\n<path d=\"M424.5,-219.4551C424.5,-211.3828 424.5,-201.6764 424.5,-192.6817\" fill=\"none\" stroke=\"#000000\"/>\n<polygon fill=\"#000000\" points=\"428.0001,-192.5903 424.5,-182.5904 421.0001,-192.5904 428.0001,-192.5903\" stroke=\"#000000\"/>\n</g>\n<!-- 139860429001000 -->\n<g class=\"node\" id=\"node9\">\n<title>139860429001000</title>\n<polygon fill=\"none\" points=\"412,-73.5 412,-109.5 519,-109.5 519,-73.5 412,-73.5\" stroke=\"#000000\"/>\n<text fill=\"#000000\" font-family=\"Times,serif\" font-size=\"14.00\" text-anchor=\"middle\" x=\"465.5\" y=\"-87.8\">dense_6: Dense</text>\n</g>\n<!-- 139860347517696&#45;&gt;139860429001000 -->\n<g class=\"edge\" id=\"edge9\">\n<title>139860347517696-&gt;139860429001000</title>\n<path d=\"M434.6348,-146.4551C439.3657,-138.0319 445.0959,-127.8292 450.3285,-118.5128\" fill=\"none\" stroke=\"#000000\"/>\n<polygon fill=\"#000000\" points=\"453.4943,-120.0233 455.3397,-109.5904 447.391,-116.5954 453.4943,-120.0233\" stroke=\"#000000\"/>\n</g>\n<!-- 139860429001000&#45;&gt;139860369187840 -->\n<g class=\"edge\" id=\"edge11\">\n<title>139860429001000-&gt;139860369187840</title>\n<path d=\"M475.6348,-73.4551C480.3657,-65.0319 486.0959,-54.8292 491.3285,-45.5128\" fill=\"none\" stroke=\"#000000\"/>\n<polygon fill=\"#000000\" points=\"494.4943,-47.0233 496.3397,-36.5904 488.391,-43.5954 494.4943,-47.0233\" stroke=\"#000000\"/>\n</g>\n</g>\n</svg>"
          },
          "metadata": {
            "tags": []
          },
          "execution_count": 51
        }
      ]
    },
    {
      "cell_type": "markdown",
      "metadata": {
        "id": "7YMkVEnkgD1U",
        "colab_type": "text"
      },
      "source": [
        "### Train the model\n",
        "The training data is shuffled after every epoch and 10% of the data is heldout for calculating validation loss."
      ]
    },
    {
      "cell_type": "code",
      "metadata": {
        "id": "GZX3EPjkgFC3",
        "colab_type": "code",
        "outputId": "3b8801a0-4765-4ff1-efe3-0754830e45c9",
        "colab": {
          "base_uri": "https://localhost:8080/",
          "height": 67
        }
      },
      "source": [
        "## Run MAD genes only model\n",
        "\n",
        "%%time \n",
        "hist = vae.fit(np.array(mad_trainDF),\n",
        "               shuffle=True,\n",
        "               epochs=epochs,\n",
        "               verbose=0,\n",
        "               batch_size=batch_size,\n",
        "               validation_data=(np.array(mad_testDF), None),\n",
        "               callbacks=[WarmUpCallback(beta, kappa),\n",
        "               TQDMNotebookCallback(leave_inner=True, leave_outer=True)])"
      ],
      "execution_count": 52,
      "outputs": [
        {
          "output_type": "display_data",
          "data": {
            "application/vnd.jupyter.widget-view+json": {
              "model_id": "c17fa59cbc394e599361420c95385f18",
              "version_minor": 0,
              "version_major": 2
            },
            "text/plain": [
              "HBox(children=(IntProgress(value=0, description='Training', style=ProgressStyle(description_width='initial')),…"
            ]
          },
          "metadata": {
            "tags": []
          }
        },
        {
          "output_type": "display_data",
          "data": {
            "application/vnd.jupyter.widget-view+json": {
              "model_id": "24c4da2803474ea2bca49732b516deb9",
              "version_minor": 0,
              "version_major": 2
            },
            "text/plain": [
              "HBox(children=(IntProgress(value=0, description='Epoch 0', max=54, style=ProgressStyle(description_width='init…"
            ]
          },
          "metadata": {
            "tags": []
          }
        },
        {
          "output_type": "display_data",
          "data": {
            "application/vnd.jupyter.widget-view+json": {
              "model_id": "f8d4fad7e2674188a4f48370a0efe12e",
              "version_minor": 0,
              "version_major": 2
            },
            "text/plain": [
              "HBox(children=(IntProgress(value=0, description='Epoch 1', max=54, style=ProgressStyle(description_width='init…"
            ]
          },
          "metadata": {
            "tags": []
          }
        },
        {
          "output_type": "display_data",
          "data": {
            "application/vnd.jupyter.widget-view+json": {
              "model_id": "cd6c2b7e46464a01b630cd9afe92e52c",
              "version_minor": 0,
              "version_major": 2
            },
            "text/plain": [
              "HBox(children=(IntProgress(value=0, description='Epoch 2', max=54, style=ProgressStyle(description_width='init…"
            ]
          },
          "metadata": {
            "tags": []
          }
        },
        {
          "output_type": "display_data",
          "data": {
            "application/vnd.jupyter.widget-view+json": {
              "model_id": "80f6f25745c5448f81daf68d574deece",
              "version_minor": 0,
              "version_major": 2
            },
            "text/plain": [
              "HBox(children=(IntProgress(value=0, description='Epoch 3', max=54, style=ProgressStyle(description_width='init…"
            ]
          },
          "metadata": {
            "tags": []
          }
        },
        {
          "output_type": "display_data",
          "data": {
            "application/vnd.jupyter.widget-view+json": {
              "model_id": "24bdab9504744b6f877b17143c5729e2",
              "version_minor": 0,
              "version_major": 2
            },
            "text/plain": [
              "HBox(children=(IntProgress(value=0, description='Epoch 4', max=54, style=ProgressStyle(description_width='init…"
            ]
          },
          "metadata": {
            "tags": []
          }
        },
        {
          "output_type": "display_data",
          "data": {
            "application/vnd.jupyter.widget-view+json": {
              "model_id": "66c87f230ec14aeebf413b4ba2d7761b",
              "version_minor": 0,
              "version_major": 2
            },
            "text/plain": [
              "HBox(children=(IntProgress(value=0, description='Epoch 5', max=54, style=ProgressStyle(description_width='init…"
            ]
          },
          "metadata": {
            "tags": []
          }
        },
        {
          "output_type": "display_data",
          "data": {
            "application/vnd.jupyter.widget-view+json": {
              "model_id": "b58f75a660b042a381302e0ac5407d9f",
              "version_minor": 0,
              "version_major": 2
            },
            "text/plain": [
              "HBox(children=(IntProgress(value=0, description='Epoch 6', max=54, style=ProgressStyle(description_width='init…"
            ]
          },
          "metadata": {
            "tags": []
          }
        },
        {
          "output_type": "display_data",
          "data": {
            "application/vnd.jupyter.widget-view+json": {
              "model_id": "ff403650826a406192acc71c04f3c467",
              "version_minor": 0,
              "version_major": 2
            },
            "text/plain": [
              "HBox(children=(IntProgress(value=0, description='Epoch 7', max=54, style=ProgressStyle(description_width='init…"
            ]
          },
          "metadata": {
            "tags": []
          }
        },
        {
          "output_type": "display_data",
          "data": {
            "application/vnd.jupyter.widget-view+json": {
              "model_id": "a037354c4d524ec88d8b799ab795efad",
              "version_minor": 0,
              "version_major": 2
            },
            "text/plain": [
              "HBox(children=(IntProgress(value=0, description='Epoch 8', max=54, style=ProgressStyle(description_width='init…"
            ]
          },
          "metadata": {
            "tags": []
          }
        },
        {
          "output_type": "display_data",
          "data": {
            "application/vnd.jupyter.widget-view+json": {
              "model_id": "a7169c7e678c4873856c432157fba30a",
              "version_minor": 0,
              "version_major": 2
            },
            "text/plain": [
              "HBox(children=(IntProgress(value=0, description='Epoch 9', max=54, style=ProgressStyle(description_width='init…"
            ]
          },
          "metadata": {
            "tags": []
          }
        },
        {
          "output_type": "display_data",
          "data": {
            "application/vnd.jupyter.widget-view+json": {
              "model_id": "9b1a312ddaed44f586e2acc9b4e2ed5a",
              "version_minor": 0,
              "version_major": 2
            },
            "text/plain": [
              "HBox(children=(IntProgress(value=0, description='Epoch 10', max=54, style=ProgressStyle(description_width='ini…"
            ]
          },
          "metadata": {
            "tags": []
          }
        },
        {
          "output_type": "display_data",
          "data": {
            "application/vnd.jupyter.widget-view+json": {
              "model_id": "39b6a2cd12334efbbd1b5a18ae6c2767",
              "version_minor": 0,
              "version_major": 2
            },
            "text/plain": [
              "HBox(children=(IntProgress(value=0, description='Epoch 11', max=54, style=ProgressStyle(description_width='ini…"
            ]
          },
          "metadata": {
            "tags": []
          }
        },
        {
          "output_type": "display_data",
          "data": {
            "application/vnd.jupyter.widget-view+json": {
              "model_id": "013869ad02704fb3a43832ab42ee3538",
              "version_minor": 0,
              "version_major": 2
            },
            "text/plain": [
              "HBox(children=(IntProgress(value=0, description='Epoch 12', max=54, style=ProgressStyle(description_width='ini…"
            ]
          },
          "metadata": {
            "tags": []
          }
        },
        {
          "output_type": "display_data",
          "data": {
            "application/vnd.jupyter.widget-view+json": {
              "model_id": "22279e2c881c4e06bc7d82d9784e764b",
              "version_minor": 0,
              "version_major": 2
            },
            "text/plain": [
              "HBox(children=(IntProgress(value=0, description='Epoch 13', max=54, style=ProgressStyle(description_width='ini…"
            ]
          },
          "metadata": {
            "tags": []
          }
        },
        {
          "output_type": "display_data",
          "data": {
            "application/vnd.jupyter.widget-view+json": {
              "model_id": "6670e092e253414b9c52e2fc5defba49",
              "version_minor": 0,
              "version_major": 2
            },
            "text/plain": [
              "HBox(children=(IntProgress(value=0, description='Epoch 14', max=54, style=ProgressStyle(description_width='ini…"
            ]
          },
          "metadata": {
            "tags": []
          }
        },
        {
          "output_type": "display_data",
          "data": {
            "application/vnd.jupyter.widget-view+json": {
              "model_id": "224f7243fc3e4c3a87f2b82ed07560d0",
              "version_minor": 0,
              "version_major": 2
            },
            "text/plain": [
              "HBox(children=(IntProgress(value=0, description='Epoch 15', max=54, style=ProgressStyle(description_width='ini…"
            ]
          },
          "metadata": {
            "tags": []
          }
        },
        {
          "output_type": "display_data",
          "data": {
            "application/vnd.jupyter.widget-view+json": {
              "model_id": "2bb4f57c41ff4a2dab5f90e93e018853",
              "version_minor": 0,
              "version_major": 2
            },
            "text/plain": [
              "HBox(children=(IntProgress(value=0, description='Epoch 16', max=54, style=ProgressStyle(description_width='ini…"
            ]
          },
          "metadata": {
            "tags": []
          }
        },
        {
          "output_type": "display_data",
          "data": {
            "application/vnd.jupyter.widget-view+json": {
              "model_id": "d0a50e90d41a4827b9e58d87e740b9c1",
              "version_minor": 0,
              "version_major": 2
            },
            "text/plain": [
              "HBox(children=(IntProgress(value=0, description='Epoch 17', max=54, style=ProgressStyle(description_width='ini…"
            ]
          },
          "metadata": {
            "tags": []
          }
        },
        {
          "output_type": "display_data",
          "data": {
            "application/vnd.jupyter.widget-view+json": {
              "model_id": "7ea5eb21c5ef4d6689f5956b8e8f0882",
              "version_minor": 0,
              "version_major": 2
            },
            "text/plain": [
              "HBox(children=(IntProgress(value=0, description='Epoch 18', max=54, style=ProgressStyle(description_width='ini…"
            ]
          },
          "metadata": {
            "tags": []
          }
        },
        {
          "output_type": "display_data",
          "data": {
            "application/vnd.jupyter.widget-view+json": {
              "model_id": "03571cc7b4134ab5a0a48e909b79cbcb",
              "version_minor": 0,
              "version_major": 2
            },
            "text/plain": [
              "HBox(children=(IntProgress(value=0, description='Epoch 19', max=54, style=ProgressStyle(description_width='ini…"
            ]
          },
          "metadata": {
            "tags": []
          }
        },
        {
          "output_type": "display_data",
          "data": {
            "application/vnd.jupyter.widget-view+json": {
              "model_id": "74a008d9748340d097f0dc30eafd158e",
              "version_minor": 0,
              "version_major": 2
            },
            "text/plain": [
              "HBox(children=(IntProgress(value=0, description='Epoch 20', max=54, style=ProgressStyle(description_width='ini…"
            ]
          },
          "metadata": {
            "tags": []
          }
        },
        {
          "output_type": "display_data",
          "data": {
            "application/vnd.jupyter.widget-view+json": {
              "model_id": "a38b9e88002045b9a170fb9ba6fbb956",
              "version_minor": 0,
              "version_major": 2
            },
            "text/plain": [
              "HBox(children=(IntProgress(value=0, description='Epoch 21', max=54, style=ProgressStyle(description_width='ini…"
            ]
          },
          "metadata": {
            "tags": []
          }
        },
        {
          "output_type": "display_data",
          "data": {
            "application/vnd.jupyter.widget-view+json": {
              "model_id": "35a7931bcf524edfb85826c6be9746ff",
              "version_minor": 0,
              "version_major": 2
            },
            "text/plain": [
              "HBox(children=(IntProgress(value=0, description='Epoch 22', max=54, style=ProgressStyle(description_width='ini…"
            ]
          },
          "metadata": {
            "tags": []
          }
        },
        {
          "output_type": "display_data",
          "data": {
            "application/vnd.jupyter.widget-view+json": {
              "model_id": "847c604a31bb4810a371d10c2f4c03f3",
              "version_minor": 0,
              "version_major": 2
            },
            "text/plain": [
              "HBox(children=(IntProgress(value=0, description='Epoch 23', max=54, style=ProgressStyle(description_width='ini…"
            ]
          },
          "metadata": {
            "tags": []
          }
        },
        {
          "output_type": "display_data",
          "data": {
            "application/vnd.jupyter.widget-view+json": {
              "model_id": "d434694148534fd1b03d7a10cc7a5c67",
              "version_minor": 0,
              "version_major": 2
            },
            "text/plain": [
              "HBox(children=(IntProgress(value=0, description='Epoch 24', max=54, style=ProgressStyle(description_width='ini…"
            ]
          },
          "metadata": {
            "tags": []
          }
        },
        {
          "output_type": "display_data",
          "data": {
            "application/vnd.jupyter.widget-view+json": {
              "model_id": "3c02a9172ac6427794c59e4e45ee50c8",
              "version_minor": 0,
              "version_major": 2
            },
            "text/plain": [
              "HBox(children=(IntProgress(value=0, description='Epoch 25', max=54, style=ProgressStyle(description_width='ini…"
            ]
          },
          "metadata": {
            "tags": []
          }
        },
        {
          "output_type": "display_data",
          "data": {
            "application/vnd.jupyter.widget-view+json": {
              "model_id": "0b5eb75dffba436db8f702081bee8723",
              "version_minor": 0,
              "version_major": 2
            },
            "text/plain": [
              "HBox(children=(IntProgress(value=0, description='Epoch 26', max=54, style=ProgressStyle(description_width='ini…"
            ]
          },
          "metadata": {
            "tags": []
          }
        },
        {
          "output_type": "display_data",
          "data": {
            "application/vnd.jupyter.widget-view+json": {
              "model_id": "1b6c9eca23da48c9b338e6558b94ebcf",
              "version_minor": 0,
              "version_major": 2
            },
            "text/plain": [
              "HBox(children=(IntProgress(value=0, description='Epoch 27', max=54, style=ProgressStyle(description_width='ini…"
            ]
          },
          "metadata": {
            "tags": []
          }
        },
        {
          "output_type": "display_data",
          "data": {
            "application/vnd.jupyter.widget-view+json": {
              "model_id": "d23941cd2eee4b129698fa45fbec328c",
              "version_minor": 0,
              "version_major": 2
            },
            "text/plain": [
              "HBox(children=(IntProgress(value=0, description='Epoch 28', max=54, style=ProgressStyle(description_width='ini…"
            ]
          },
          "metadata": {
            "tags": []
          }
        },
        {
          "output_type": "display_data",
          "data": {
            "application/vnd.jupyter.widget-view+json": {
              "model_id": "2c736617b2a94a6c97036df7e2071e1a",
              "version_minor": 0,
              "version_major": 2
            },
            "text/plain": [
              "HBox(children=(IntProgress(value=0, description='Epoch 29', max=54, style=ProgressStyle(description_width='ini…"
            ]
          },
          "metadata": {
            "tags": []
          }
        },
        {
          "output_type": "display_data",
          "data": {
            "application/vnd.jupyter.widget-view+json": {
              "model_id": "5534eb7b8866427e96ea92eab96b9b4f",
              "version_minor": 0,
              "version_major": 2
            },
            "text/plain": [
              "HBox(children=(IntProgress(value=0, description='Epoch 30', max=54, style=ProgressStyle(description_width='ini…"
            ]
          },
          "metadata": {
            "tags": []
          }
        },
        {
          "output_type": "display_data",
          "data": {
            "application/vnd.jupyter.widget-view+json": {
              "model_id": "a67aa508e3334831a0420d67ddcca4db",
              "version_minor": 0,
              "version_major": 2
            },
            "text/plain": [
              "HBox(children=(IntProgress(value=0, description='Epoch 31', max=54, style=ProgressStyle(description_width='ini…"
            ]
          },
          "metadata": {
            "tags": []
          }
        },
        {
          "output_type": "display_data",
          "data": {
            "application/vnd.jupyter.widget-view+json": {
              "model_id": "fdbbda90edfe4668bf48ca9fbad3f931",
              "version_minor": 0,
              "version_major": 2
            },
            "text/plain": [
              "HBox(children=(IntProgress(value=0, description='Epoch 32', max=54, style=ProgressStyle(description_width='ini…"
            ]
          },
          "metadata": {
            "tags": []
          }
        },
        {
          "output_type": "display_data",
          "data": {
            "application/vnd.jupyter.widget-view+json": {
              "model_id": "e92de466ab89466590e429f1513327c6",
              "version_minor": 0,
              "version_major": 2
            },
            "text/plain": [
              "HBox(children=(IntProgress(value=0, description='Epoch 33', max=54, style=ProgressStyle(description_width='ini…"
            ]
          },
          "metadata": {
            "tags": []
          }
        },
        {
          "output_type": "display_data",
          "data": {
            "application/vnd.jupyter.widget-view+json": {
              "model_id": "94f94b756af74673a47fee1bcf835d78",
              "version_minor": 0,
              "version_major": 2
            },
            "text/plain": [
              "HBox(children=(IntProgress(value=0, description='Epoch 34', max=54, style=ProgressStyle(description_width='ini…"
            ]
          },
          "metadata": {
            "tags": []
          }
        },
        {
          "output_type": "display_data",
          "data": {
            "application/vnd.jupyter.widget-view+json": {
              "model_id": "9e99b1ce017d4ddf9f5d0beabcbcdf69",
              "version_minor": 0,
              "version_major": 2
            },
            "text/plain": [
              "HBox(children=(IntProgress(value=0, description='Epoch 35', max=54, style=ProgressStyle(description_width='ini…"
            ]
          },
          "metadata": {
            "tags": []
          }
        },
        {
          "output_type": "display_data",
          "data": {
            "application/vnd.jupyter.widget-view+json": {
              "model_id": "d9254a1d42af4873aef1ba30e0f79f43",
              "version_minor": 0,
              "version_major": 2
            },
            "text/plain": [
              "HBox(children=(IntProgress(value=0, description='Epoch 36', max=54, style=ProgressStyle(description_width='ini…"
            ]
          },
          "metadata": {
            "tags": []
          }
        },
        {
          "output_type": "display_data",
          "data": {
            "application/vnd.jupyter.widget-view+json": {
              "model_id": "aac11d13fde64c95a71e730b9b2d9f46",
              "version_minor": 0,
              "version_major": 2
            },
            "text/plain": [
              "HBox(children=(IntProgress(value=0, description='Epoch 37', max=54, style=ProgressStyle(description_width='ini…"
            ]
          },
          "metadata": {
            "tags": []
          }
        },
        {
          "output_type": "display_data",
          "data": {
            "application/vnd.jupyter.widget-view+json": {
              "model_id": "96317094d88d447e903d5fd93c1f345a",
              "version_minor": 0,
              "version_major": 2
            },
            "text/plain": [
              "HBox(children=(IntProgress(value=0, description='Epoch 38', max=54, style=ProgressStyle(description_width='ini…"
            ]
          },
          "metadata": {
            "tags": []
          }
        },
        {
          "output_type": "display_data",
          "data": {
            "application/vnd.jupyter.widget-view+json": {
              "model_id": "e3c0d6b2ed9c4cb0a8c47c57b2904aad",
              "version_minor": 0,
              "version_major": 2
            },
            "text/plain": [
              "HBox(children=(IntProgress(value=0, description='Epoch 39', max=54, style=ProgressStyle(description_width='ini…"
            ]
          },
          "metadata": {
            "tags": []
          }
        },
        {
          "output_type": "display_data",
          "data": {
            "application/vnd.jupyter.widget-view+json": {
              "model_id": "44779c726e5d43d492584240295be057",
              "version_minor": 0,
              "version_major": 2
            },
            "text/plain": [
              "HBox(children=(IntProgress(value=0, description='Epoch 40', max=54, style=ProgressStyle(description_width='ini…"
            ]
          },
          "metadata": {
            "tags": []
          }
        },
        {
          "output_type": "display_data",
          "data": {
            "application/vnd.jupyter.widget-view+json": {
              "model_id": "eb29fbb288ab490685d572533b8c2b99",
              "version_minor": 0,
              "version_major": 2
            },
            "text/plain": [
              "HBox(children=(IntProgress(value=0, description='Epoch 41', max=54, style=ProgressStyle(description_width='ini…"
            ]
          },
          "metadata": {
            "tags": []
          }
        },
        {
          "output_type": "display_data",
          "data": {
            "application/vnd.jupyter.widget-view+json": {
              "model_id": "bf30a3425eb247f4b765b01779ef7e20",
              "version_minor": 0,
              "version_major": 2
            },
            "text/plain": [
              "HBox(children=(IntProgress(value=0, description='Epoch 42', max=54, style=ProgressStyle(description_width='ini…"
            ]
          },
          "metadata": {
            "tags": []
          }
        },
        {
          "output_type": "display_data",
          "data": {
            "application/vnd.jupyter.widget-view+json": {
              "model_id": "39283d987bc142518a200175b0243539",
              "version_minor": 0,
              "version_major": 2
            },
            "text/plain": [
              "HBox(children=(IntProgress(value=0, description='Epoch 43', max=54, style=ProgressStyle(description_width='ini…"
            ]
          },
          "metadata": {
            "tags": []
          }
        },
        {
          "output_type": "display_data",
          "data": {
            "application/vnd.jupyter.widget-view+json": {
              "model_id": "3ac17be5d32442eb94c65025ae39707c",
              "version_minor": 0,
              "version_major": 2
            },
            "text/plain": [
              "HBox(children=(IntProgress(value=0, description='Epoch 44', max=54, style=ProgressStyle(description_width='ini…"
            ]
          },
          "metadata": {
            "tags": []
          }
        },
        {
          "output_type": "display_data",
          "data": {
            "application/vnd.jupyter.widget-view+json": {
              "model_id": "937962a8270d4ec89592a3958f9b7945",
              "version_minor": 0,
              "version_major": 2
            },
            "text/plain": [
              "HBox(children=(IntProgress(value=0, description='Epoch 45', max=54, style=ProgressStyle(description_width='ini…"
            ]
          },
          "metadata": {
            "tags": []
          }
        },
        {
          "output_type": "display_data",
          "data": {
            "application/vnd.jupyter.widget-view+json": {
              "model_id": "890e0e13aa1e4179b03c61c3530abb67",
              "version_minor": 0,
              "version_major": 2
            },
            "text/plain": [
              "HBox(children=(IntProgress(value=0, description='Epoch 46', max=54, style=ProgressStyle(description_width='ini…"
            ]
          },
          "metadata": {
            "tags": []
          }
        },
        {
          "output_type": "display_data",
          "data": {
            "application/vnd.jupyter.widget-view+json": {
              "model_id": "b9dafc9432564e5587b0ec19cc331282",
              "version_minor": 0,
              "version_major": 2
            },
            "text/plain": [
              "HBox(children=(IntProgress(value=0, description='Epoch 47', max=54, style=ProgressStyle(description_width='ini…"
            ]
          },
          "metadata": {
            "tags": []
          }
        },
        {
          "output_type": "display_data",
          "data": {
            "application/vnd.jupyter.widget-view+json": {
              "model_id": "d296d02eb89e448293a55cf1bc12be58",
              "version_minor": 0,
              "version_major": 2
            },
            "text/plain": [
              "HBox(children=(IntProgress(value=0, description='Epoch 48', max=54, style=ProgressStyle(description_width='ini…"
            ]
          },
          "metadata": {
            "tags": []
          }
        },
        {
          "output_type": "display_data",
          "data": {
            "application/vnd.jupyter.widget-view+json": {
              "model_id": "5a044bc4484249c5964c01c47628ebcf",
              "version_minor": 0,
              "version_major": 2
            },
            "text/plain": [
              "HBox(children=(IntProgress(value=0, description='Epoch 49', max=54, style=ProgressStyle(description_width='ini…"
            ]
          },
          "metadata": {
            "tags": []
          }
        },
        {
          "output_type": "display_data",
          "data": {
            "application/vnd.jupyter.widget-view+json": {
              "model_id": "263cf7ce7a704fc39679c04162515fa3",
              "version_minor": 0,
              "version_major": 2
            },
            "text/plain": [
              "HBox(children=(IntProgress(value=0, description='Epoch 50', max=54, style=ProgressStyle(description_width='ini…"
            ]
          },
          "metadata": {
            "tags": []
          }
        },
        {
          "output_type": "display_data",
          "data": {
            "application/vnd.jupyter.widget-view+json": {
              "model_id": "140e6d07ed2043ef9d214c12e70e9e84",
              "version_minor": 0,
              "version_major": 2
            },
            "text/plain": [
              "HBox(children=(IntProgress(value=0, description='Epoch 51', max=54, style=ProgressStyle(description_width='ini…"
            ]
          },
          "metadata": {
            "tags": []
          }
        },
        {
          "output_type": "display_data",
          "data": {
            "application/vnd.jupyter.widget-view+json": {
              "model_id": "d341b90b6be24425971d2d877a158572",
              "version_minor": 0,
              "version_major": 2
            },
            "text/plain": [
              "HBox(children=(IntProgress(value=0, description='Epoch 52', max=54, style=ProgressStyle(description_width='ini…"
            ]
          },
          "metadata": {
            "tags": []
          }
        },
        {
          "output_type": "display_data",
          "data": {
            "application/vnd.jupyter.widget-view+json": {
              "model_id": "e980e57ae01147b98c3d7efc816d7df3",
              "version_minor": 0,
              "version_major": 2
            },
            "text/plain": [
              "HBox(children=(IntProgress(value=0, description='Epoch 53', max=54, style=ProgressStyle(description_width='ini…"
            ]
          },
          "metadata": {
            "tags": []
          }
        },
        {
          "output_type": "display_data",
          "data": {
            "application/vnd.jupyter.widget-view+json": {
              "model_id": "37f8688b50d14aeb9ba3cb168fc46ee0",
              "version_minor": 0,
              "version_major": 2
            },
            "text/plain": [
              "HBox(children=(IntProgress(value=0, description='Epoch 54', max=54, style=ProgressStyle(description_width='ini…"
            ]
          },
          "metadata": {
            "tags": []
          }
        },
        {
          "output_type": "display_data",
          "data": {
            "application/vnd.jupyter.widget-view+json": {
              "model_id": "36fe12a6907c44069a7975461370df43",
              "version_minor": 0,
              "version_major": 2
            },
            "text/plain": [
              "HBox(children=(IntProgress(value=0, description='Epoch 55', max=54, style=ProgressStyle(description_width='ini…"
            ]
          },
          "metadata": {
            "tags": []
          }
        },
        {
          "output_type": "display_data",
          "data": {
            "application/vnd.jupyter.widget-view+json": {
              "model_id": "8c2c9bb71e2e4f87b6c1fe47dbf192c4",
              "version_minor": 0,
              "version_major": 2
            },
            "text/plain": [
              "HBox(children=(IntProgress(value=0, description='Epoch 56', max=54, style=ProgressStyle(description_width='ini…"
            ]
          },
          "metadata": {
            "tags": []
          }
        },
        {
          "output_type": "display_data",
          "data": {
            "application/vnd.jupyter.widget-view+json": {
              "model_id": "bc26d6f6262c427ea6ab4bbe05824da7",
              "version_minor": 0,
              "version_major": 2
            },
            "text/plain": [
              "HBox(children=(IntProgress(value=0, description='Epoch 57', max=54, style=ProgressStyle(description_width='ini…"
            ]
          },
          "metadata": {
            "tags": []
          }
        },
        {
          "output_type": "display_data",
          "data": {
            "application/vnd.jupyter.widget-view+json": {
              "model_id": "d25d09da2ea840658af1ffa83ab54581",
              "version_minor": 0,
              "version_major": 2
            },
            "text/plain": [
              "HBox(children=(IntProgress(value=0, description='Epoch 58', max=54, style=ProgressStyle(description_width='ini…"
            ]
          },
          "metadata": {
            "tags": []
          }
        },
        {
          "output_type": "display_data",
          "data": {
            "application/vnd.jupyter.widget-view+json": {
              "model_id": "5a1a78a504894442bbdb9ca08e5da02a",
              "version_minor": 0,
              "version_major": 2
            },
            "text/plain": [
              "HBox(children=(IntProgress(value=0, description='Epoch 59', max=54, style=ProgressStyle(description_width='ini…"
            ]
          },
          "metadata": {
            "tags": []
          }
        },
        {
          "output_type": "display_data",
          "data": {
            "application/vnd.jupyter.widget-view+json": {
              "model_id": "a298de6cc98d487e91a30256bbf4e154",
              "version_minor": 0,
              "version_major": 2
            },
            "text/plain": [
              "HBox(children=(IntProgress(value=0, description='Epoch 60', max=54, style=ProgressStyle(description_width='ini…"
            ]
          },
          "metadata": {
            "tags": []
          }
        },
        {
          "output_type": "display_data",
          "data": {
            "application/vnd.jupyter.widget-view+json": {
              "model_id": "dfed9910cdfb47b6b405746230ec731f",
              "version_minor": 0,
              "version_major": 2
            },
            "text/plain": [
              "HBox(children=(IntProgress(value=0, description='Epoch 61', max=54, style=ProgressStyle(description_width='ini…"
            ]
          },
          "metadata": {
            "tags": []
          }
        },
        {
          "output_type": "display_data",
          "data": {
            "application/vnd.jupyter.widget-view+json": {
              "model_id": "81b6eb8eb28b4def8edbbd44d8dc4f51",
              "version_minor": 0,
              "version_major": 2
            },
            "text/plain": [
              "HBox(children=(IntProgress(value=0, description='Epoch 62', max=54, style=ProgressStyle(description_width='ini…"
            ]
          },
          "metadata": {
            "tags": []
          }
        },
        {
          "output_type": "display_data",
          "data": {
            "application/vnd.jupyter.widget-view+json": {
              "model_id": "677edc597c1a473090166c3b003a20c9",
              "version_minor": 0,
              "version_major": 2
            },
            "text/plain": [
              "HBox(children=(IntProgress(value=0, description='Epoch 63', max=54, style=ProgressStyle(description_width='ini…"
            ]
          },
          "metadata": {
            "tags": []
          }
        },
        {
          "output_type": "display_data",
          "data": {
            "application/vnd.jupyter.widget-view+json": {
              "model_id": "c70bbc6c64894d029547036f9ff8aa8e",
              "version_minor": 0,
              "version_major": 2
            },
            "text/plain": [
              "HBox(children=(IntProgress(value=0, description='Epoch 64', max=54, style=ProgressStyle(description_width='ini…"
            ]
          },
          "metadata": {
            "tags": []
          }
        },
        {
          "output_type": "display_data",
          "data": {
            "application/vnd.jupyter.widget-view+json": {
              "model_id": "462330d7ce2c42faad8037b882dd08d8",
              "version_minor": 0,
              "version_major": 2
            },
            "text/plain": [
              "HBox(children=(IntProgress(value=0, description='Epoch 65', max=54, style=ProgressStyle(description_width='ini…"
            ]
          },
          "metadata": {
            "tags": []
          }
        },
        {
          "output_type": "display_data",
          "data": {
            "application/vnd.jupyter.widget-view+json": {
              "model_id": "9120bd429a9a4123b693290f0c1c2988",
              "version_minor": 0,
              "version_major": 2
            },
            "text/plain": [
              "HBox(children=(IntProgress(value=0, description='Epoch 66', max=54, style=ProgressStyle(description_width='ini…"
            ]
          },
          "metadata": {
            "tags": []
          }
        },
        {
          "output_type": "display_data",
          "data": {
            "application/vnd.jupyter.widget-view+json": {
              "model_id": "d77cc24c0df84285abc7658f17f09e3c",
              "version_minor": 0,
              "version_major": 2
            },
            "text/plain": [
              "HBox(children=(IntProgress(value=0, description='Epoch 67', max=54, style=ProgressStyle(description_width='ini…"
            ]
          },
          "metadata": {
            "tags": []
          }
        },
        {
          "output_type": "display_data",
          "data": {
            "application/vnd.jupyter.widget-view+json": {
              "model_id": "24ce58dce8414b96947dbef8e8ed060f",
              "version_minor": 0,
              "version_major": 2
            },
            "text/plain": [
              "HBox(children=(IntProgress(value=0, description='Epoch 68', max=54, style=ProgressStyle(description_width='ini…"
            ]
          },
          "metadata": {
            "tags": []
          }
        },
        {
          "output_type": "display_data",
          "data": {
            "application/vnd.jupyter.widget-view+json": {
              "model_id": "36f1cd6e9efa435893c0af7f551bcfd4",
              "version_minor": 0,
              "version_major": 2
            },
            "text/plain": [
              "HBox(children=(IntProgress(value=0, description='Epoch 69', max=54, style=ProgressStyle(description_width='ini…"
            ]
          },
          "metadata": {
            "tags": []
          }
        },
        {
          "output_type": "display_data",
          "data": {
            "application/vnd.jupyter.widget-view+json": {
              "model_id": "028a2030c0b44ec6a0a84a6f4d309311",
              "version_minor": 0,
              "version_major": 2
            },
            "text/plain": [
              "HBox(children=(IntProgress(value=0, description='Epoch 70', max=54, style=ProgressStyle(description_width='ini…"
            ]
          },
          "metadata": {
            "tags": []
          }
        },
        {
          "output_type": "display_data",
          "data": {
            "application/vnd.jupyter.widget-view+json": {
              "model_id": "0fdacd86794140089197a34cccd7343b",
              "version_minor": 0,
              "version_major": 2
            },
            "text/plain": [
              "HBox(children=(IntProgress(value=0, description='Epoch 71', max=54, style=ProgressStyle(description_width='ini…"
            ]
          },
          "metadata": {
            "tags": []
          }
        },
        {
          "output_type": "display_data",
          "data": {
            "application/vnd.jupyter.widget-view+json": {
              "model_id": "631d4ebb590241ae976ce2a76c57c43f",
              "version_minor": 0,
              "version_major": 2
            },
            "text/plain": [
              "HBox(children=(IntProgress(value=0, description='Epoch 72', max=54, style=ProgressStyle(description_width='ini…"
            ]
          },
          "metadata": {
            "tags": []
          }
        },
        {
          "output_type": "display_data",
          "data": {
            "application/vnd.jupyter.widget-view+json": {
              "model_id": "05aef6348a744c6292a2f62450269ead",
              "version_minor": 0,
              "version_major": 2
            },
            "text/plain": [
              "HBox(children=(IntProgress(value=0, description='Epoch 73', max=54, style=ProgressStyle(description_width='ini…"
            ]
          },
          "metadata": {
            "tags": []
          }
        },
        {
          "output_type": "display_data",
          "data": {
            "application/vnd.jupyter.widget-view+json": {
              "model_id": "5d994df866f84ca5ace2c4342a2437ea",
              "version_minor": 0,
              "version_major": 2
            },
            "text/plain": [
              "HBox(children=(IntProgress(value=0, description='Epoch 74', max=54, style=ProgressStyle(description_width='ini…"
            ]
          },
          "metadata": {
            "tags": []
          }
        },
        {
          "output_type": "display_data",
          "data": {
            "application/vnd.jupyter.widget-view+json": {
              "model_id": "f816bf9e164a479e927a19fbe121d692",
              "version_minor": 0,
              "version_major": 2
            },
            "text/plain": [
              "HBox(children=(IntProgress(value=0, description='Epoch 75', max=54, style=ProgressStyle(description_width='ini…"
            ]
          },
          "metadata": {
            "tags": []
          }
        },
        {
          "output_type": "display_data",
          "data": {
            "application/vnd.jupyter.widget-view+json": {
              "model_id": "6a4bccb1dde44ea2a06769fab57d0462",
              "version_minor": 0,
              "version_major": 2
            },
            "text/plain": [
              "HBox(children=(IntProgress(value=0, description='Epoch 76', max=54, style=ProgressStyle(description_width='ini…"
            ]
          },
          "metadata": {
            "tags": []
          }
        },
        {
          "output_type": "display_data",
          "data": {
            "application/vnd.jupyter.widget-view+json": {
              "model_id": "fdf90fdaafb344de80cbdadf9103edc5",
              "version_minor": 0,
              "version_major": 2
            },
            "text/plain": [
              "HBox(children=(IntProgress(value=0, description='Epoch 77', max=54, style=ProgressStyle(description_width='ini…"
            ]
          },
          "metadata": {
            "tags": []
          }
        },
        {
          "output_type": "display_data",
          "data": {
            "application/vnd.jupyter.widget-view+json": {
              "model_id": "a7d3ad6c6adb4c3d8fd2e1128c6782c6",
              "version_minor": 0,
              "version_major": 2
            },
            "text/plain": [
              "HBox(children=(IntProgress(value=0, description='Epoch 78', max=54, style=ProgressStyle(description_width='ini…"
            ]
          },
          "metadata": {
            "tags": []
          }
        },
        {
          "output_type": "display_data",
          "data": {
            "application/vnd.jupyter.widget-view+json": {
              "model_id": "3c3ec2fb8f43455e89a4ecff7b53f89a",
              "version_minor": 0,
              "version_major": 2
            },
            "text/plain": [
              "HBox(children=(IntProgress(value=0, description='Epoch 79', max=54, style=ProgressStyle(description_width='ini…"
            ]
          },
          "metadata": {
            "tags": []
          }
        },
        {
          "output_type": "display_data",
          "data": {
            "application/vnd.jupyter.widget-view+json": {
              "model_id": "2aa3d46449114ba78d0ad0ecaf878dfe",
              "version_minor": 0,
              "version_major": 2
            },
            "text/plain": [
              "HBox(children=(IntProgress(value=0, description='Epoch 80', max=54, style=ProgressStyle(description_width='ini…"
            ]
          },
          "metadata": {
            "tags": []
          }
        },
        {
          "output_type": "display_data",
          "data": {
            "application/vnd.jupyter.widget-view+json": {
              "model_id": "ac332a410f2147169990eb8c2c506484",
              "version_minor": 0,
              "version_major": 2
            },
            "text/plain": [
              "HBox(children=(IntProgress(value=0, description='Epoch 81', max=54, style=ProgressStyle(description_width='ini…"
            ]
          },
          "metadata": {
            "tags": []
          }
        },
        {
          "output_type": "display_data",
          "data": {
            "application/vnd.jupyter.widget-view+json": {
              "model_id": "3b79321d1f3141629141a62dbae21dda",
              "version_minor": 0,
              "version_major": 2
            },
            "text/plain": [
              "HBox(children=(IntProgress(value=0, description='Epoch 82', max=54, style=ProgressStyle(description_width='ini…"
            ]
          },
          "metadata": {
            "tags": []
          }
        },
        {
          "output_type": "display_data",
          "data": {
            "application/vnd.jupyter.widget-view+json": {
              "model_id": "dd69632af3fe4cb4962c817a304f9e2a",
              "version_minor": 0,
              "version_major": 2
            },
            "text/plain": [
              "HBox(children=(IntProgress(value=0, description='Epoch 83', max=54, style=ProgressStyle(description_width='ini…"
            ]
          },
          "metadata": {
            "tags": []
          }
        },
        {
          "output_type": "display_data",
          "data": {
            "application/vnd.jupyter.widget-view+json": {
              "model_id": "b0495d91f84948abb85f974563c22f4f",
              "version_minor": 0,
              "version_major": 2
            },
            "text/plain": [
              "HBox(children=(IntProgress(value=0, description='Epoch 84', max=54, style=ProgressStyle(description_width='ini…"
            ]
          },
          "metadata": {
            "tags": []
          }
        },
        {
          "output_type": "display_data",
          "data": {
            "application/vnd.jupyter.widget-view+json": {
              "model_id": "526d45b2c3714aa8813716804586ed56",
              "version_minor": 0,
              "version_major": 2
            },
            "text/plain": [
              "HBox(children=(IntProgress(value=0, description='Epoch 85', max=54, style=ProgressStyle(description_width='ini…"
            ]
          },
          "metadata": {
            "tags": []
          }
        },
        {
          "output_type": "display_data",
          "data": {
            "application/vnd.jupyter.widget-view+json": {
              "model_id": "49c2b832c1fc4e16bc5497d34717626d",
              "version_minor": 0,
              "version_major": 2
            },
            "text/plain": [
              "HBox(children=(IntProgress(value=0, description='Epoch 86', max=54, style=ProgressStyle(description_width='ini…"
            ]
          },
          "metadata": {
            "tags": []
          }
        },
        {
          "output_type": "display_data",
          "data": {
            "application/vnd.jupyter.widget-view+json": {
              "model_id": "14afdf3eba1c4d19a9fa8eb0abf3ce76",
              "version_minor": 0,
              "version_major": 2
            },
            "text/plain": [
              "HBox(children=(IntProgress(value=0, description='Epoch 87', max=54, style=ProgressStyle(description_width='ini…"
            ]
          },
          "metadata": {
            "tags": []
          }
        },
        {
          "output_type": "display_data",
          "data": {
            "application/vnd.jupyter.widget-view+json": {
              "model_id": "d12edf456d7544adae12e6392b601b51",
              "version_minor": 0,
              "version_major": 2
            },
            "text/plain": [
              "HBox(children=(IntProgress(value=0, description='Epoch 88', max=54, style=ProgressStyle(description_width='ini…"
            ]
          },
          "metadata": {
            "tags": []
          }
        },
        {
          "output_type": "display_data",
          "data": {
            "application/vnd.jupyter.widget-view+json": {
              "model_id": "1a430bc82bb5410e81f73ee02e5b6101",
              "version_minor": 0,
              "version_major": 2
            },
            "text/plain": [
              "HBox(children=(IntProgress(value=0, description='Epoch 89', max=54, style=ProgressStyle(description_width='ini…"
            ]
          },
          "metadata": {
            "tags": []
          }
        },
        {
          "output_type": "display_data",
          "data": {
            "application/vnd.jupyter.widget-view+json": {
              "model_id": "fb21c0a6aeae45818ee2cb7197ff2f07",
              "version_minor": 0,
              "version_major": 2
            },
            "text/plain": [
              "HBox(children=(IntProgress(value=0, description='Epoch 90', max=54, style=ProgressStyle(description_width='ini…"
            ]
          },
          "metadata": {
            "tags": []
          }
        },
        {
          "output_type": "display_data",
          "data": {
            "application/vnd.jupyter.widget-view+json": {
              "model_id": "80ebcb7d98c6407ea5a6d08dbd46b00d",
              "version_minor": 0,
              "version_major": 2
            },
            "text/plain": [
              "HBox(children=(IntProgress(value=0, description='Epoch 91', max=54, style=ProgressStyle(description_width='ini…"
            ]
          },
          "metadata": {
            "tags": []
          }
        },
        {
          "output_type": "display_data",
          "data": {
            "application/vnd.jupyter.widget-view+json": {
              "model_id": "a7f45070bd2045848a6353248a97df70",
              "version_minor": 0,
              "version_major": 2
            },
            "text/plain": [
              "HBox(children=(IntProgress(value=0, description='Epoch 92', max=54, style=ProgressStyle(description_width='ini…"
            ]
          },
          "metadata": {
            "tags": []
          }
        },
        {
          "output_type": "display_data",
          "data": {
            "application/vnd.jupyter.widget-view+json": {
              "model_id": "c73fa5daa96245648b094d8b43c631fa",
              "version_minor": 0,
              "version_major": 2
            },
            "text/plain": [
              "HBox(children=(IntProgress(value=0, description='Epoch 93', max=54, style=ProgressStyle(description_width='ini…"
            ]
          },
          "metadata": {
            "tags": []
          }
        },
        {
          "output_type": "display_data",
          "data": {
            "application/vnd.jupyter.widget-view+json": {
              "model_id": "0b9d09ecab2f4ef8a6890563b6970ea7",
              "version_minor": 0,
              "version_major": 2
            },
            "text/plain": [
              "HBox(children=(IntProgress(value=0, description='Epoch 94', max=54, style=ProgressStyle(description_width='ini…"
            ]
          },
          "metadata": {
            "tags": []
          }
        },
        {
          "output_type": "display_data",
          "data": {
            "application/vnd.jupyter.widget-view+json": {
              "model_id": "f317611acf574e589226225904daefb0",
              "version_minor": 0,
              "version_major": 2
            },
            "text/plain": [
              "HBox(children=(IntProgress(value=0, description='Epoch 95', max=54, style=ProgressStyle(description_width='ini…"
            ]
          },
          "metadata": {
            "tags": []
          }
        },
        {
          "output_type": "display_data",
          "data": {
            "application/vnd.jupyter.widget-view+json": {
              "model_id": "0cbcd23018574b5ca5eb8a10a93ee14a",
              "version_minor": 0,
              "version_major": 2
            },
            "text/plain": [
              "HBox(children=(IntProgress(value=0, description='Epoch 96', max=54, style=ProgressStyle(description_width='ini…"
            ]
          },
          "metadata": {
            "tags": []
          }
        },
        {
          "output_type": "display_data",
          "data": {
            "application/vnd.jupyter.widget-view+json": {
              "model_id": "c6657584462740458f9757c68cb7a862",
              "version_minor": 0,
              "version_major": 2
            },
            "text/plain": [
              "HBox(children=(IntProgress(value=0, description='Epoch 97', max=54, style=ProgressStyle(description_width='ini…"
            ]
          },
          "metadata": {
            "tags": []
          }
        },
        {
          "output_type": "display_data",
          "data": {
            "application/vnd.jupyter.widget-view+json": {
              "model_id": "fad5c3a8c8f4497d9337c600eb8d12f5",
              "version_minor": 0,
              "version_major": 2
            },
            "text/plain": [
              "HBox(children=(IntProgress(value=0, description='Epoch 98', max=54, style=ProgressStyle(description_width='ini…"
            ]
          },
          "metadata": {
            "tags": []
          }
        },
        {
          "output_type": "display_data",
          "data": {
            "application/vnd.jupyter.widget-view+json": {
              "model_id": "dfc99098f81549c88daee9224c593181",
              "version_minor": 0,
              "version_major": 2
            },
            "text/plain": [
              "HBox(children=(IntProgress(value=0, description='Epoch 99', max=54, style=ProgressStyle(description_width='ini…"
            ]
          },
          "metadata": {
            "tags": []
          }
        },
        {
          "output_type": "stream",
          "text": [
            "\n",
            "CPU times: user 1min 11s, sys: 2.94 s, total: 1min 14s\n",
            "Wall time: 46.8 s\n"
          ],
          "name": "stdout"
        }
      ]
    },
    {
      "cell_type": "code",
      "metadata": {
        "id": "r1t7cghbsmKX",
        "colab_type": "code",
        "colab": {}
      },
      "source": [
        "# to run full model, need to change initial params (original_dim) to use full data_DF\n",
        "#hist_full = vae.fit(np.array(skT_trainDF),\n",
        "#               shuffle=True,\n",
        "#               epochs=epochs,\n",
        "#               verbose=0,\n",
        "#               batch_size=batch_size,\n",
        "#               validation_data=(np.array(skT_testDF), None),\n",
        "#               callbacks=[WarmUpCallback(beta, kappa),\n",
        "#                          TQDMNotebookCallback(leave_inner=True, leave_outer=True)])"
      ],
      "execution_count": 0,
      "outputs": []
    },
    {
      "cell_type": "code",
      "metadata": {
        "id": "003xd8X9gHy0",
        "colab_type": "code",
        "outputId": "44b26f68-8a03-41b3-f3b2-31318240ac4f",
        "colab": {
          "base_uri": "https://localhost:8080/",
          "height": 379
        }
      },
      "source": [
        "# Visualize training performance\n",
        "history_df = pd.DataFrame(hist.history)\n",
        "hist_plot_file = 'onehidden_vae_training.pdf' #os.path.join('figures', 'onehidden_vae_training.pdf')\n",
        "ax = history_df.plot()\n",
        "ax.set_xlabel('Epochs')\n",
        "ax.set_ylabel('VAE Loss')\n",
        "fig = ax.get_figure()\n",
        "fig.savefig(hist_plot_file)"
      ],
      "execution_count": 53,
      "outputs": [
        {
          "output_type": "display_data",
          "data": {
            "image/png": "[encoded data removed]",
            "text/plain": [
              "<Figure size 576x396 with 1 Axes>"
            ]
          },
          "metadata": {
            "tags": []
          }
        }
      ]
    },
    {
      "cell_type": "markdown",
      "metadata": {
        "id": "jzyf1rhVgKq3",
        "colab_type": "text"
      },
      "source": [
        "# Compile and output trained models\n",
        "We are interested in:\n",
        "\n",
        " - The model to encode/compress the input gene expression data\n",
        "   - Can be possibly used to compress other tumors\n",
        " - The model to decode/decompress the latent space back into gene expression space\n",
        "   - This is our generative model\n",
        " - The latent space compression of all pan cancer TCGA samples\n",
        "   - Non-linear reduced dimension representation of tumors can be used as features for various tasks\n",
        "     - Supervised learning tasks predicting specific gene inactivation events\n",
        "     - Interpolating across this space to observe how gene expression changes between two cancer states\n",
        " - The weights used to compress each latent node\n",
        "   - Potentially indicate learned biology differentially activating tumors"
      ]
    },
    {
      "cell_type": "markdown",
      "metadata": {
        "id": "Yp-WdK0DggSc",
        "colab_type": "text"
      },
      "source": [
        "##### Encoder model"
      ]
    },
    {
      "cell_type": "code",
      "metadata": {
        "id": "ZA3q6rpvgh2_",
        "colab_type": "code",
        "colab": {}
      },
      "source": [
        "# Model to compress input\n",
        "encoder = Model(rnaseq_input, z_mean_encoded)"
      ],
      "execution_count": 0,
      "outputs": []
    },
    {
      "cell_type": "code",
      "metadata": {
        "id": "nzu8vYV3gkFz",
        "colab_type": "code",
        "colab": {}
      },
      "source": [
        "# Encode rnaseq into the hidden/latent representation - and save output\n",
        "#encoded_rnaseq_df = encoder.predict_on_batch(data_DF)\n",
        "encoded_rnaseq_df = encoder.predict_on_batch(mad_genes_df)\n",
        "\n",
        "#encoded_rnaseq_df = pd.DataFrame(encoded_rnaseq_df, index=data_DF.index)\n",
        "encoded_rnaseq_df = pd.DataFrame(encoded_rnaseq_df, index=mad_genes_df.index)\n",
        "\n",
        "encoded_rnaseq_df.columns.name = 'sample_id'\n",
        "encoded_rnaseq_df.columns = encoded_rnaseq_df.columns + 1\n",
        "encoded_file = 'encoded_rnaseq_onehidden_warmup_batchnorm.tsv' #os.path.join('data', 'encoded_rnaseq_onehidden_warmup_batchnorm.tsv')\n",
        "encoded_rnaseq_df.to_csv(encoded_file, sep='\\t')"
      ],
      "execution_count": 0,
      "outputs": []
    },
    {
      "cell_type": "markdown",
      "metadata": {
        "id": "oZ25zTLAgogk",
        "colab_type": "text"
      },
      "source": [
        "## Decoder (generative) model\n"
      ]
    },
    {
      "cell_type": "code",
      "metadata": {
        "id": "P1LPGO-8gqx0",
        "colab_type": "code",
        "colab": {}
      },
      "source": [
        "\n",
        "# build a generator that can sample from the learned distribution\n",
        "decoder_input = Input(shape=(latent_dim, ))  # can generate from any sampled z vector\n",
        "_x_decoded_mean = decoder_to_reconstruct(decoder_input)\n",
        "decoder = Model(decoder_input, _x_decoded_mean)"
      ],
      "execution_count": 0,
      "outputs": []
    },
    {
      "cell_type": "markdown",
      "metadata": {
        "id": "cvMvzl7ggtAj",
        "colab_type": "text"
      },
      "source": [
        "## Save the encoder/decoder models for future investigation\n"
      ]
    },
    {
      "cell_type": "code",
      "metadata": {
        "id": "4Pd-cvnkgui-",
        "colab_type": "code",
        "colab": {}
      },
      "source": [
        "!mkdir -p models\n",
        "encoder_model_file = os.path.join('models', 'encoder_onehidden_vae.hdf5')\n",
        "decoder_model_file = os.path.join('models', 'decoder_onehidden_vae.hdf5')\n",
        "\n",
        "encoder.save(encoder_model_file)\n",
        "decoder.save(decoder_model_file)"
      ],
      "execution_count": 0,
      "outputs": []
    },
    {
      "cell_type": "markdown",
      "metadata": {
        "id": "6G2sGmq9gxjF",
        "colab_type": "text"
      },
      "source": [
        "## Model Interpretation - Sanity Check\n",
        "### Observe the distribution of node activations.\n",
        "We want to ensure that the model is learning a distribution of feature activations, and not zeroing out features."
      ]
    },
    {
      "cell_type": "code",
      "metadata": {
        "id": "qVtRKNTwg21R",
        "colab_type": "code",
        "outputId": "e98f3b1a-c17e-47a8-a6ec-b0df723ef25d",
        "colab": {
          "base_uri": "https://localhost:8080/",
          "height": 420
        }
      },
      "source": [
        "# What are the most and least activated nodes\n",
        "sum_node_activity = encoded_rnaseq_df.sum(axis=0).sort_values(ascending=False)\n",
        "\n",
        "# Top 10 most active nodes\n",
        "print(sum_node_activity.head(10))\n",
        "\n",
        "# Bottom 10 least active nodes\n",
        "sum_node_activity.tail(10)"
      ],
      "execution_count": 58,
      "outputs": [
        {
          "output_type": "stream",
          "text": [
            "sample_id\n",
            "70    81.955162\n",
            "83    81.315865\n",
            "63    76.070358\n",
            "50    71.959961\n",
            "53    71.899345\n",
            "81    71.332886\n",
            "4     71.052406\n",
            "55    70.594772\n",
            "86    69.196533\n",
            "88    68.269035\n",
            "dtype: float32\n"
          ],
          "name": "stdout"
        },
        {
          "output_type": "execute_result",
          "data": {
            "text/plain": [
              "sample_id\n",
              "97     49.158356\n",
              "68     48.850334\n",
              "35     48.833267\n",
              "85     48.607578\n",
              "74     48.485241\n",
              "77     48.141960\n",
              "49     47.820267\n",
              "79     47.809254\n",
              "100    47.795940\n",
              "82     46.341671\n",
              "dtype: float32"
            ]
          },
          "metadata": {
            "tags": []
          },
          "execution_count": 58
        }
      ]
    },
    {
      "cell_type": "code",
      "metadata": {
        "id": "HJ0b1xlYg52m",
        "colab_type": "code",
        "outputId": "6e4a131f-3e67-419e-830e-130c7a1fae68",
        "colab": {
          "base_uri": "https://localhost:8080/",
          "height": 379
        }
      },
      "source": [
        "# Histogram of node activity for all 100 latent features\n",
        "sum_node_activity.hist()\n",
        "plt.xlabel('Activation Sum')\n",
        "plt.ylabel('Count');  "
      ],
      "execution_count": 59,
      "outputs": [
        {
          "output_type": "display_data",
          "data": {
            "image/png": "[encoded data removed]",
            "text/plain": [
              "<Figure size 576x396 with 1 Axes>"
            ]
          },
          "metadata": {
            "tags": []
          }
        }
      ]
    },
    {
      "cell_type": "code",
      "metadata": {
        "id": "jesAY8_kg8aI",
        "colab_type": "code",
        "outputId": "dcbbe1f4-9fe2-4938-b981-21dc4706abd9",
        "colab": {
          "base_uri": "https://localhost:8080/",
          "height": 406
        }
      },
      "source": [
        "# Example of node activation distribution for the first two latent features\n",
        "plt.figure(figsize=(6, 6))\n",
        "plt.scatter(encoded_rnaseq_df.iloc[:, 1], encoded_rnaseq_df.iloc[:, 2])\n",
        "plt.xlabel('Latent Feature 1')\n",
        "plt.xlabel('Latent Feature 2');"
      ],
      "execution_count": 60,
      "outputs": [
        {
          "output_type": "display_data",
          "data": {
            "image/png": "[encoded data removed]",
            "text/plain": [
              "<Figure size 432x432 with 1 Axes>"
            ]
          },
          "metadata": {
            "tags": []
          }
        }
      ]
    },
    {
      "cell_type": "markdown",
      "metadata": {
        "id": "yNGgoj_mg_yv",
        "colab_type": "text"
      },
      "source": [
        "### Observe reconstruction fidelity\n"
      ]
    },
    {
      "cell_type": "code",
      "metadata": {
        "id": "Z23IRCGcg_-h",
        "colab_type": "code",
        "outputId": "d6645737-60e1-46ef-9826-97474a392ccb",
        "colab": {
          "base_uri": "https://localhost:8080/",
          "height": 155
        }
      },
      "source": [
        "# How well does the model reconstruct the input RNAseq data\n",
        "input_rnaseq_reconstruct = decoder.predict(np.array(encoded_rnaseq_df))\n",
        "#input_rnaseq_reconstruct = pd.DataFrame(input_rnaseq_reconstruct, index=data_DF.index,\n",
        "                                        #columns=data_DF.columns)\n",
        "input_rnaseq_reconstruct = pd.DataFrame(input_rnaseq_reconstruct, index=mad_genes_df.index,\n",
        "                                        columns=mad_genes_df.columns)                                       # columns=dataT_normalized_DF.columns)\n",
        "input_rnaseq_reconstruct.head(2)"
      ],
      "execution_count": 73,
      "outputs": [
        {
          "output_type": "execute_result",
          "data": {
            "text/html": [
              "<div>\n",
              "<style scoped>\n",
              "    .dataframe tbody tr th:only-of-type {\n",
              "        vertical-align: middle;\n",
              "    }\n",
              "\n",
              "    .dataframe tbody tr th {\n",
              "        vertical-align: top;\n",
              "    }\n",
              "\n",
              "    .dataframe thead th {\n",
              "        text-align: right;\n",
              "    }\n",
              "</style>\n",
              "<table border=\"1\" class=\"dataframe\">\n",
              "  <thead>\n",
              "    <tr style=\"text-align: right;\">\n",
              "      <th>Orthogroup</th>\n",
              "      <th>OG0026143</th>\n",
              "      <th>OG0014142</th>\n",
              "      <th>OG0014645</th>\n",
              "      <th>OG0025874</th>\n",
              "      <th>OG0010667</th>\n",
              "      <th>OG0025586</th>\n",
              "      <th>OG0022720</th>\n",
              "      <th>OG0013874</th>\n",
              "      <th>OG0021190</th>\n",
              "      <th>OG0012010</th>\n",
              "      <th>OG0020923</th>\n",
              "      <th>OG0019275</th>\n",
              "      <th>OG0023557</th>\n",
              "      <th>OG0018684</th>\n",
              "      <th>OG0011316</th>\n",
              "      <th>OG0031940</th>\n",
              "      <th>OG0018764</th>\n",
              "      <th>OG0013113</th>\n",
              "      <th>OG0022191</th>\n",
              "      <th>OG0028471</th>\n",
              "      <th>OG0002537</th>\n",
              "      <th>OG0030076</th>\n",
              "      <th>OG0009273</th>\n",
              "      <th>OG0025725</th>\n",
              "      <th>OG0031741</th>\n",
              "      <th>OG0015232</th>\n",
              "      <th>OG0013556</th>\n",
              "      <th>OG0021686</th>\n",
              "      <th>OG0026828</th>\n",
              "      <th>OG0010452</th>\n",
              "      <th>OG0025863</th>\n",
              "      <th>OG0013120</th>\n",
              "      <th>OG0018053</th>\n",
              "      <th>OG0020648</th>\n",
              "      <th>OG0013916</th>\n",
              "      <th>OG0003244</th>\n",
              "      <th>OG0008446</th>\n",
              "      <th>OG0008569</th>\n",
              "      <th>OG0002928</th>\n",
              "      <th>OG0014313</th>\n",
              "      <th>...</th>\n",
              "      <th>OG0021212</th>\n",
              "      <th>OG0008967</th>\n",
              "      <th>OG0017857</th>\n",
              "      <th>OG0016666</th>\n",
              "      <th>OG0019957</th>\n",
              "      <th>OG0038168</th>\n",
              "      <th>OG0013052</th>\n",
              "      <th>OG0002231</th>\n",
              "      <th>OG0017327</th>\n",
              "      <th>OG0032337</th>\n",
              "      <th>OG0011400</th>\n",
              "      <th>OG0006744</th>\n",
              "      <th>OG0002820</th>\n",
              "      <th>OG0031705</th>\n",
              "      <th>OG0024298</th>\n",
              "      <th>OG0043372</th>\n",
              "      <th>OG0030603</th>\n",
              "      <th>OG0013455</th>\n",
              "      <th>OG0010245</th>\n",
              "      <th>OG0013122</th>\n",
              "      <th>OG0032290</th>\n",
              "      <th>OG0023733</th>\n",
              "      <th>OG0018037</th>\n",
              "      <th>OG0026813</th>\n",
              "      <th>OG0012943</th>\n",
              "      <th>OG0030600</th>\n",
              "      <th>OG0020255</th>\n",
              "      <th>OG0022804</th>\n",
              "      <th>OG0012110</th>\n",
              "      <th>OG0018498</th>\n",
              "      <th>OG0034291</th>\n",
              "      <th>OG0013576</th>\n",
              "      <th>OG0030374</th>\n",
              "      <th>OG0025330</th>\n",
              "      <th>OG0008316</th>\n",
              "      <th>OG0012183</th>\n",
              "      <th>OG0028580</th>\n",
              "      <th>OG0016459</th>\n",
              "      <th>OG0003419</th>\n",
              "      <th>OG0010882</th>\n",
              "    </tr>\n",
              "  </thead>\n",
              "  <tbody>\n",
              "    <tr>\n",
              "      <th>MMETSP0006</th>\n",
              "      <td>0.005429</td>\n",
              "      <td>0.571018</td>\n",
              "      <td>0.128733</td>\n",
              "      <td>0.004963</td>\n",
              "      <td>0.429263</td>\n",
              "      <td>0.011888</td>\n",
              "      <td>0.005137</td>\n",
              "      <td>0.228889</td>\n",
              "      <td>0.029578</td>\n",
              "      <td>0.338197</td>\n",
              "      <td>0.021415</td>\n",
              "      <td>0.369022</td>\n",
              "      <td>0.005405</td>\n",
              "      <td>0.320624</td>\n",
              "      <td>0.071215</td>\n",
              "      <td>0.003306</td>\n",
              "      <td>0.121802</td>\n",
              "      <td>0.029188</td>\n",
              "      <td>0.025221</td>\n",
              "      <td>0.006163</td>\n",
              "      <td>0.259468</td>\n",
              "      <td>0.002911</td>\n",
              "      <td>0.134112</td>\n",
              "      <td>0.012085</td>\n",
              "      <td>0.007894</td>\n",
              "      <td>0.010238</td>\n",
              "      <td>0.039964</td>\n",
              "      <td>0.005042</td>\n",
              "      <td>0.007467</td>\n",
              "      <td>0.637798</td>\n",
              "      <td>0.003794</td>\n",
              "      <td>0.105018</td>\n",
              "      <td>0.554816</td>\n",
              "      <td>0.004385</td>\n",
              "      <td>0.027614</td>\n",
              "      <td>0.705104</td>\n",
              "      <td>0.268504</td>\n",
              "      <td>0.099163</td>\n",
              "      <td>0.281607</td>\n",
              "      <td>0.022796</td>\n",
              "      <td>...</td>\n",
              "      <td>0.055042</td>\n",
              "      <td>0.169999</td>\n",
              "      <td>0.006569</td>\n",
              "      <td>0.011606</td>\n",
              "      <td>0.027049</td>\n",
              "      <td>0.018158</td>\n",
              "      <td>0.021769</td>\n",
              "      <td>0.184599</td>\n",
              "      <td>0.087031</td>\n",
              "      <td>0.006224</td>\n",
              "      <td>0.004663</td>\n",
              "      <td>0.136396</td>\n",
              "      <td>0.287887</td>\n",
              "      <td>0.013701</td>\n",
              "      <td>0.162394</td>\n",
              "      <td>0.087715</td>\n",
              "      <td>0.006265</td>\n",
              "      <td>0.141925</td>\n",
              "      <td>0.101555</td>\n",
              "      <td>0.037100</td>\n",
              "      <td>0.004617</td>\n",
              "      <td>0.012669</td>\n",
              "      <td>0.846293</td>\n",
              "      <td>0.011596</td>\n",
              "      <td>0.100173</td>\n",
              "      <td>0.026509</td>\n",
              "      <td>0.080715</td>\n",
              "      <td>0.003972</td>\n",
              "      <td>0.043398</td>\n",
              "      <td>0.006813</td>\n",
              "      <td>0.024086</td>\n",
              "      <td>0.026376</td>\n",
              "      <td>0.003897</td>\n",
              "      <td>0.012332</td>\n",
              "      <td>0.118479</td>\n",
              "      <td>0.019628</td>\n",
              "      <td>0.047571</td>\n",
              "      <td>0.033486</td>\n",
              "      <td>0.287626</td>\n",
              "      <td>0.021896</td>\n",
              "    </tr>\n",
              "    <tr>\n",
              "      <th>MMETSP0007</th>\n",
              "      <td>0.002233</td>\n",
              "      <td>0.111963</td>\n",
              "      <td>0.022190</td>\n",
              "      <td>0.001317</td>\n",
              "      <td>0.243452</td>\n",
              "      <td>0.006072</td>\n",
              "      <td>0.002950</td>\n",
              "      <td>0.071358</td>\n",
              "      <td>0.015063</td>\n",
              "      <td>0.045607</td>\n",
              "      <td>0.008809</td>\n",
              "      <td>0.079667</td>\n",
              "      <td>0.001683</td>\n",
              "      <td>0.114788</td>\n",
              "      <td>0.012403</td>\n",
              "      <td>0.000713</td>\n",
              "      <td>0.011828</td>\n",
              "      <td>0.009474</td>\n",
              "      <td>0.007588</td>\n",
              "      <td>0.000707</td>\n",
              "      <td>0.047734</td>\n",
              "      <td>0.000616</td>\n",
              "      <td>0.039366</td>\n",
              "      <td>0.005377</td>\n",
              "      <td>0.001711</td>\n",
              "      <td>0.001864</td>\n",
              "      <td>0.018140</td>\n",
              "      <td>0.001824</td>\n",
              "      <td>0.000987</td>\n",
              "      <td>0.296980</td>\n",
              "      <td>0.000796</td>\n",
              "      <td>0.012735</td>\n",
              "      <td>0.196907</td>\n",
              "      <td>0.001886</td>\n",
              "      <td>0.004839</td>\n",
              "      <td>0.541817</td>\n",
              "      <td>0.041175</td>\n",
              "      <td>0.014372</td>\n",
              "      <td>0.091025</td>\n",
              "      <td>0.007483</td>\n",
              "      <td>...</td>\n",
              "      <td>0.018021</td>\n",
              "      <td>0.075238</td>\n",
              "      <td>0.002313</td>\n",
              "      <td>0.005606</td>\n",
              "      <td>0.014306</td>\n",
              "      <td>0.004514</td>\n",
              "      <td>0.006783</td>\n",
              "      <td>0.070237</td>\n",
              "      <td>0.006135</td>\n",
              "      <td>0.001178</td>\n",
              "      <td>0.001609</td>\n",
              "      <td>0.031256</td>\n",
              "      <td>0.151452</td>\n",
              "      <td>0.003474</td>\n",
              "      <td>0.069038</td>\n",
              "      <td>0.011522</td>\n",
              "      <td>0.001474</td>\n",
              "      <td>0.097908</td>\n",
              "      <td>0.093057</td>\n",
              "      <td>0.020212</td>\n",
              "      <td>0.001055</td>\n",
              "      <td>0.003550</td>\n",
              "      <td>0.610031</td>\n",
              "      <td>0.002962</td>\n",
              "      <td>0.023549</td>\n",
              "      <td>0.007102</td>\n",
              "      <td>0.035906</td>\n",
              "      <td>0.000692</td>\n",
              "      <td>0.037265</td>\n",
              "      <td>0.002485</td>\n",
              "      <td>0.009243</td>\n",
              "      <td>0.004655</td>\n",
              "      <td>0.000806</td>\n",
              "      <td>0.002991</td>\n",
              "      <td>0.076888</td>\n",
              "      <td>0.009305</td>\n",
              "      <td>0.016161</td>\n",
              "      <td>0.006182</td>\n",
              "      <td>0.197547</td>\n",
              "      <td>0.005057</td>\n",
              "    </tr>\n",
              "  </tbody>\n",
              "</table>\n",
              "<p>2 rows × 8000 columns</p>\n",
              "</div>"
            ],
            "text/plain": [
              "Orthogroup  OG0026143  OG0014142  OG0014645  ...  OG0016459  OG0003419  OG0010882\n",
              "MMETSP0006   0.005429   0.571018   0.128733  ...   0.033486   0.287626   0.021896\n",
              "MMETSP0007   0.002233   0.111963   0.022190  ...   0.006182   0.197547   0.005057\n",
              "\n",
              "[2 rows x 8000 columns]"
            ]
          },
          "metadata": {
            "tags": []
          },
          "execution_count": 73
        }
      ]
    },
    {
      "cell_type": "code",
      "metadata": {
        "id": "9KpTeukPhFjA",
        "colab_type": "code",
        "outputId": "c4111842-03ed-4d7e-f77c-4aa8f2f49b96",
        "colab": {
          "base_uri": "https://localhost:8080/",
          "height": 225
        }
      },
      "source": [
        "#reconstruction_fidelity = data_DF - input_rnaseq_reconstruct\n",
        "reconstruction_fidelity = mad_genes_df - input_rnaseq_reconstruct\n",
        "\n",
        "gene_mean = reconstruction_fidelity.mean(axis=0)\n",
        "#gene_abssum = reconstruction_fidelity.abs().sum(axis=0).divide(data_DF.shape[0])\n",
        "gene_abssum = reconstruction_fidelity.abs().sum(axis=0).divide(mad_genes_df.shape[0])\n",
        "gene_summary = pd.DataFrame([gene_mean, gene_abssum], index=['gene mean', 'gene abs(sum)']).T\n",
        "gene_summary.sort_values(by='gene abs(sum)', ascending=False).head()"
      ],
      "execution_count": 74,
      "outputs": [
        {
          "output_type": "execute_result",
          "data": {
            "text/html": [
              "<div>\n",
              "<style scoped>\n",
              "    .dataframe tbody tr th:only-of-type {\n",
              "        vertical-align: middle;\n",
              "    }\n",
              "\n",
              "    .dataframe tbody tr th {\n",
              "        vertical-align: top;\n",
              "    }\n",
              "\n",
              "    .dataframe thead th {\n",
              "        text-align: right;\n",
              "    }\n",
              "</style>\n",
              "<table border=\"1\" class=\"dataframe\">\n",
              "  <thead>\n",
              "    <tr style=\"text-align: right;\">\n",
              "      <th></th>\n",
              "      <th>gene mean</th>\n",
              "      <th>gene abs(sum)</th>\n",
              "    </tr>\n",
              "    <tr>\n",
              "      <th>Orthogroup</th>\n",
              "      <th></th>\n",
              "      <th></th>\n",
              "    </tr>\n",
              "  </thead>\n",
              "  <tbody>\n",
              "    <tr>\n",
              "      <th>OG0011054</th>\n",
              "      <td>-0.046938</td>\n",
              "      <td>0.195623</td>\n",
              "    </tr>\n",
              "    <tr>\n",
              "      <th>OG0001946</th>\n",
              "      <td>-0.004829</td>\n",
              "      <td>0.186831</td>\n",
              "    </tr>\n",
              "    <tr>\n",
              "      <th>OG0008085</th>\n",
              "      <td>0.005282</td>\n",
              "      <td>0.182729</td>\n",
              "    </tr>\n",
              "    <tr>\n",
              "      <th>OG0006838</th>\n",
              "      <td>0.007808</td>\n",
              "      <td>0.179202</td>\n",
              "    </tr>\n",
              "    <tr>\n",
              "      <th>OG0009770</th>\n",
              "      <td>0.011445</td>\n",
              "      <td>0.178499</td>\n",
              "    </tr>\n",
              "  </tbody>\n",
              "</table>\n",
              "</div>"
            ],
            "text/plain": [
              "            gene mean  gene abs(sum)\n",
              "Orthogroup                          \n",
              "OG0011054   -0.046938       0.195623\n",
              "OG0001946   -0.004829       0.186831\n",
              "OG0008085    0.005282       0.182729\n",
              "OG0006838    0.007808       0.179202\n",
              "OG0009770    0.011445       0.178499"
            ]
          },
          "metadata": {
            "tags": []
          },
          "execution_count": 74
        }
      ]
    },
    {
      "cell_type": "code",
      "metadata": {
        "id": "ohwwJhiwhINd",
        "colab_type": "code",
        "outputId": "00eb3605-e3bf-43cf-f79b-ad4efa0b7066",
        "colab": {
          "base_uri": "https://localhost:8080/",
          "height": 441
        }
      },
      "source": [
        "# Mean of gene reconstruction vs. absolute reconstructed difference per sample\n",
        "g = sns.jointplot('gene mean', 'gene abs(sum)', data=gene_summary, stat_func=None);"
      ],
      "execution_count": 75,
      "outputs": [
        {
          "output_type": "display_data",
          "data": {
            "image/png": "[encoded data removed]",
            "text/plain": [
              "<Figure size 432x432 with 3 Axes>"
            ]
          },
          "metadata": {
            "tags": []
          }
        }
      ]
    },
    {
      "cell_type": "markdown",
      "metadata": {
        "id": "W3SGJAG9uwDM",
        "colab_type": "text"
      },
      "source": [
        "### Interpret the results"
      ]
    },
    {
      "cell_type": "markdown",
      "metadata": {
        "id": "x9jgp1Xwu2nO",
        "colab_type": "text"
      },
      "source": [
        "#### Extract Tybalt Weights"
      ]
    },
    {
      "cell_type": "code",
      "metadata": {
        "id": "5lSCfJSzlZmX",
        "colab_type": "code",
        "colab": {}
      },
      "source": [
        "## Now let's try to interpret:\n",
        "#https://github.com/greenelab/tybalt/blob/master/extract_tybalt_weights.ipynb"
      ],
      "execution_count": 0,
      "outputs": []
    },
    {
      "cell_type": "code",
      "metadata": {
        "id": "MllAq-wmATf2",
        "colab_type": "code",
        "colab": {}
      },
      "source": [
        "import os\n",
        "import pandas as pd\n",
        "from keras.models import load_model\n",
        "\n",
        "import matplotlib.pyplot as plt\n",
        "import seaborn as sns"
      ],
      "execution_count": 0,
      "outputs": []
    },
    {
      "cell_type": "code",
      "metadata": {
        "id": "6CSqz9AIAT8k",
        "colab_type": "code",
        "colab": {}
      },
      "source": [
        "sns.set(style='white', color_codes=True)\n",
        "sns.set_context('paper', rc={'font.size':8, 'axes.titlesize':10, 'axes.labelsize':15})"
      ],
      "execution_count": 0,
      "outputs": []
    },
    {
      "cell_type": "code",
      "metadata": {
        "id": "4YQaw5E2BOdy",
        "colab_type": "code",
        "colab": {}
      },
      "source": [
        "%matplotlib inline\n",
        "plt.style.use('seaborn-notebook')"
      ],
      "execution_count": 0,
      "outputs": []
    },
    {
      "cell_type": "markdown",
      "metadata": {
        "id": "Ow31MKJ3BW49",
        "colab_type": "text"
      },
      "source": [
        "\n",
        "Because of the complex architecture involved in encoding the data, we will use the decoded weights to describe feature encoding specific activation patterns"
      ]
    },
    {
      "cell_type": "code",
      "metadata": {
        "id": "Hc2lZNhJBO89",
        "colab_type": "code",
        "outputId": "30dd0953-aab1-4093-ddca-bcd810669191",
        "colab": {
          "base_uri": "https://localhost:8080/",
          "height": 70
        }
      },
      "source": [
        "# Load the decoder model\n",
        "decoder_model_file = os.path.join('models', 'decoder_onehidden_vae.hdf5')\n",
        "decoder = load_model(decoder_model_file)"
      ],
      "execution_count": 67,
      "outputs": [
        {
          "output_type": "stream",
          "text": [
            "/usr/local/lib/python3.6/dist-packages/keras/engine/saving.py:310: UserWarning: No training configuration found in save file: the model was *not* compiled. Compile it manually.\n",
            "  warnings.warn('No training configuration found in save file: '\n"
          ],
          "name": "stderr"
        }
      ]
    },
    {
      "cell_type": "code",
      "metadata": {
        "id": "LKj0_RlRBPED",
        "colab_type": "code",
        "outputId": "656a488d-2ad5-48f3-f237-6462192ce48c",
        "colab": {
          "base_uri": "https://localhost:8080/",
          "height": 155
        }
      },
      "source": [
        "# Load RNAseq file\n",
        "#rnaseq_file = os.path.join('data', 'pancan_scaled_zeroone_rnaseq.tsv.gz')\n",
        "#rnaseq_df = pd.read_table(rnaseq_file, index_col=0)\n",
        "#rnaseq_df = data_DF\n",
        "rnaseq_df = mad_genes_df\n",
        "rnaseq_df.head(2)"
      ],
      "execution_count": 68,
      "outputs": [
        {
          "output_type": "execute_result",
          "data": {
            "text/html": [
              "<div>\n",
              "<style scoped>\n",
              "    .dataframe tbody tr th:only-of-type {\n",
              "        vertical-align: middle;\n",
              "    }\n",
              "\n",
              "    .dataframe tbody tr th {\n",
              "        vertical-align: top;\n",
              "    }\n",
              "\n",
              "    .dataframe thead th {\n",
              "        text-align: right;\n",
              "    }\n",
              "</style>\n",
              "<table border=\"1\" class=\"dataframe\">\n",
              "  <thead>\n",
              "    <tr style=\"text-align: right;\">\n",
              "      <th>Orthogroup</th>\n",
              "      <th>OG0026143</th>\n",
              "      <th>OG0014142</th>\n",
              "      <th>OG0014645</th>\n",
              "      <th>OG0025874</th>\n",
              "      <th>OG0010667</th>\n",
              "      <th>OG0025586</th>\n",
              "      <th>OG0022720</th>\n",
              "      <th>OG0013874</th>\n",
              "      <th>OG0021190</th>\n",
              "      <th>OG0012010</th>\n",
              "      <th>OG0020923</th>\n",
              "      <th>OG0019275</th>\n",
              "      <th>OG0023557</th>\n",
              "      <th>OG0018684</th>\n",
              "      <th>OG0011316</th>\n",
              "      <th>OG0031940</th>\n",
              "      <th>OG0018764</th>\n",
              "      <th>OG0013113</th>\n",
              "      <th>OG0022191</th>\n",
              "      <th>OG0028471</th>\n",
              "      <th>OG0002537</th>\n",
              "      <th>OG0030076</th>\n",
              "      <th>OG0009273</th>\n",
              "      <th>OG0025725</th>\n",
              "      <th>OG0031741</th>\n",
              "      <th>OG0015232</th>\n",
              "      <th>OG0013556</th>\n",
              "      <th>OG0021686</th>\n",
              "      <th>OG0026828</th>\n",
              "      <th>OG0010452</th>\n",
              "      <th>OG0025863</th>\n",
              "      <th>OG0013120</th>\n",
              "      <th>OG0018053</th>\n",
              "      <th>OG0020648</th>\n",
              "      <th>OG0013916</th>\n",
              "      <th>OG0003244</th>\n",
              "      <th>OG0008446</th>\n",
              "      <th>OG0008569</th>\n",
              "      <th>OG0002928</th>\n",
              "      <th>OG0014313</th>\n",
              "      <th>...</th>\n",
              "      <th>OG0021212</th>\n",
              "      <th>OG0008967</th>\n",
              "      <th>OG0017857</th>\n",
              "      <th>OG0016666</th>\n",
              "      <th>OG0019957</th>\n",
              "      <th>OG0038168</th>\n",
              "      <th>OG0013052</th>\n",
              "      <th>OG0002231</th>\n",
              "      <th>OG0017327</th>\n",
              "      <th>OG0032337</th>\n",
              "      <th>OG0011400</th>\n",
              "      <th>OG0006744</th>\n",
              "      <th>OG0002820</th>\n",
              "      <th>OG0031705</th>\n",
              "      <th>OG0024298</th>\n",
              "      <th>OG0043372</th>\n",
              "      <th>OG0030603</th>\n",
              "      <th>OG0013455</th>\n",
              "      <th>OG0010245</th>\n",
              "      <th>OG0013122</th>\n",
              "      <th>OG0032290</th>\n",
              "      <th>OG0023733</th>\n",
              "      <th>OG0018037</th>\n",
              "      <th>OG0026813</th>\n",
              "      <th>OG0012943</th>\n",
              "      <th>OG0030600</th>\n",
              "      <th>OG0020255</th>\n",
              "      <th>OG0022804</th>\n",
              "      <th>OG0012110</th>\n",
              "      <th>OG0018498</th>\n",
              "      <th>OG0034291</th>\n",
              "      <th>OG0013576</th>\n",
              "      <th>OG0030374</th>\n",
              "      <th>OG0025330</th>\n",
              "      <th>OG0008316</th>\n",
              "      <th>OG0012183</th>\n",
              "      <th>OG0028580</th>\n",
              "      <th>OG0016459</th>\n",
              "      <th>OG0003419</th>\n",
              "      <th>OG0010882</th>\n",
              "    </tr>\n",
              "  </thead>\n",
              "  <tbody>\n",
              "    <tr>\n",
              "      <th>MMETSP0006</th>\n",
              "      <td>0.0</td>\n",
              "      <td>0.630037</td>\n",
              "      <td>0.0</td>\n",
              "      <td>0.0</td>\n",
              "      <td>0.640573</td>\n",
              "      <td>0.0</td>\n",
              "      <td>0.0</td>\n",
              "      <td>0.0</td>\n",
              "      <td>0.0</td>\n",
              "      <td>0.533444</td>\n",
              "      <td>0.350737</td>\n",
              "      <td>0.497964</td>\n",
              "      <td>0.0</td>\n",
              "      <td>0.713517</td>\n",
              "      <td>0.0</td>\n",
              "      <td>0.0</td>\n",
              "      <td>0.0</td>\n",
              "      <td>0.0</td>\n",
              "      <td>0.0</td>\n",
              "      <td>0.0</td>\n",
              "      <td>0.530032</td>\n",
              "      <td>0.0</td>\n",
              "      <td>0.304823</td>\n",
              "      <td>0.0</td>\n",
              "      <td>0.0</td>\n",
              "      <td>0.0</td>\n",
              "      <td>0.0</td>\n",
              "      <td>0.0</td>\n",
              "      <td>0.0</td>\n",
              "      <td>0.886682</td>\n",
              "      <td>0.0</td>\n",
              "      <td>0.0</td>\n",
              "      <td>0.634326</td>\n",
              "      <td>0.0</td>\n",
              "      <td>0.0</td>\n",
              "      <td>0.67188</td>\n",
              "      <td>0.389809</td>\n",
              "      <td>0.0</td>\n",
              "      <td>0.385472</td>\n",
              "      <td>0.0</td>\n",
              "      <td>...</td>\n",
              "      <td>0.0</td>\n",
              "      <td>0.440958</td>\n",
              "      <td>0.0</td>\n",
              "      <td>0.0</td>\n",
              "      <td>0.0</td>\n",
              "      <td>0.0</td>\n",
              "      <td>0.0</td>\n",
              "      <td>0.292499</td>\n",
              "      <td>0.719749</td>\n",
              "      <td>0.0</td>\n",
              "      <td>0.0</td>\n",
              "      <td>0.0</td>\n",
              "      <td>0.000000</td>\n",
              "      <td>0.0</td>\n",
              "      <td>0.0</td>\n",
              "      <td>0.0</td>\n",
              "      <td>0.0</td>\n",
              "      <td>0.0</td>\n",
              "      <td>0.0</td>\n",
              "      <td>0.0</td>\n",
              "      <td>0.0</td>\n",
              "      <td>0.0</td>\n",
              "      <td>0.761268</td>\n",
              "      <td>0.0</td>\n",
              "      <td>0.586727</td>\n",
              "      <td>0.0</td>\n",
              "      <td>0.0</td>\n",
              "      <td>0.0</td>\n",
              "      <td>0.0</td>\n",
              "      <td>0.0</td>\n",
              "      <td>0.0</td>\n",
              "      <td>0.0</td>\n",
              "      <td>0.0</td>\n",
              "      <td>0.0</td>\n",
              "      <td>0.0</td>\n",
              "      <td>0.0</td>\n",
              "      <td>0.0</td>\n",
              "      <td>0.0</td>\n",
              "      <td>0.363783</td>\n",
              "      <td>0.0</td>\n",
              "    </tr>\n",
              "    <tr>\n",
              "      <th>MMETSP0007</th>\n",
              "      <td>0.0</td>\n",
              "      <td>0.000000</td>\n",
              "      <td>0.0</td>\n",
              "      <td>0.0</td>\n",
              "      <td>1.000000</td>\n",
              "      <td>0.0</td>\n",
              "      <td>0.0</td>\n",
              "      <td>0.0</td>\n",
              "      <td>0.0</td>\n",
              "      <td>0.000000</td>\n",
              "      <td>0.000000</td>\n",
              "      <td>0.000000</td>\n",
              "      <td>0.0</td>\n",
              "      <td>0.000000</td>\n",
              "      <td>0.0</td>\n",
              "      <td>0.0</td>\n",
              "      <td>0.0</td>\n",
              "      <td>0.0</td>\n",
              "      <td>0.0</td>\n",
              "      <td>0.0</td>\n",
              "      <td>0.000000</td>\n",
              "      <td>0.0</td>\n",
              "      <td>0.000000</td>\n",
              "      <td>0.0</td>\n",
              "      <td>0.0</td>\n",
              "      <td>0.0</td>\n",
              "      <td>0.0</td>\n",
              "      <td>0.0</td>\n",
              "      <td>0.0</td>\n",
              "      <td>0.000000</td>\n",
              "      <td>0.0</td>\n",
              "      <td>0.0</td>\n",
              "      <td>1.000000</td>\n",
              "      <td>0.0</td>\n",
              "      <td>0.0</td>\n",
              "      <td>1.00000</td>\n",
              "      <td>0.000000</td>\n",
              "      <td>0.0</td>\n",
              "      <td>0.000000</td>\n",
              "      <td>0.0</td>\n",
              "      <td>...</td>\n",
              "      <td>0.0</td>\n",
              "      <td>0.000000</td>\n",
              "      <td>0.0</td>\n",
              "      <td>0.0</td>\n",
              "      <td>0.0</td>\n",
              "      <td>0.0</td>\n",
              "      <td>0.0</td>\n",
              "      <td>0.000000</td>\n",
              "      <td>0.000000</td>\n",
              "      <td>0.0</td>\n",
              "      <td>0.0</td>\n",
              "      <td>0.0</td>\n",
              "      <td>0.358254</td>\n",
              "      <td>0.0</td>\n",
              "      <td>0.0</td>\n",
              "      <td>0.0</td>\n",
              "      <td>0.0</td>\n",
              "      <td>0.0</td>\n",
              "      <td>0.0</td>\n",
              "      <td>0.0</td>\n",
              "      <td>0.0</td>\n",
              "      <td>0.0</td>\n",
              "      <td>0.451201</td>\n",
              "      <td>0.0</td>\n",
              "      <td>0.000000</td>\n",
              "      <td>0.0</td>\n",
              "      <td>0.0</td>\n",
              "      <td>0.0</td>\n",
              "      <td>0.0</td>\n",
              "      <td>0.0</td>\n",
              "      <td>0.0</td>\n",
              "      <td>0.0</td>\n",
              "      <td>0.0</td>\n",
              "      <td>0.0</td>\n",
              "      <td>0.0</td>\n",
              "      <td>0.0</td>\n",
              "      <td>0.0</td>\n",
              "      <td>0.0</td>\n",
              "      <td>0.389440</td>\n",
              "      <td>0.0</td>\n",
              "    </tr>\n",
              "  </tbody>\n",
              "</table>\n",
              "<p>2 rows × 8000 columns</p>\n",
              "</div>"
            ],
            "text/plain": [
              "Orthogroup  OG0026143  OG0014142  OG0014645  ...  OG0016459  OG0003419  OG0010882\n",
              "MMETSP0006        0.0   0.630037        0.0  ...        0.0   0.363783        0.0\n",
              "MMETSP0007        0.0   0.000000        0.0  ...        0.0   0.389440        0.0\n",
              "\n",
              "[2 rows x 8000 columns]"
            ]
          },
          "metadata": {
            "tags": []
          },
          "execution_count": 68
        }
      ]
    },
    {
      "cell_type": "code",
      "metadata": {
        "id": "ykxApTXVBPK9",
        "colab_type": "code",
        "colab": {}
      },
      "source": [
        "# For a future pathway analysis, the background genes are important\n",
        "# Also needed to set column names on weights\n",
        "!mkdir -p data\n",
        "background_file = os.path.join('data', 'background_genes.txt')\n",
        "background_genes = pd.DataFrame(rnaseq_df.columns)\n",
        "background_genes.to_csv(background_file, index=False, header=False, sep='\\t')"
      ],
      "execution_count": 0,
      "outputs": []
    },
    {
      "cell_type": "markdown",
      "metadata": {
        "id": "lqpNwcLLCoMP",
        "colab_type": "text"
      },
      "source": [
        "### Extracting example patterns learned by Tybalt"
      ]
    },
    {
      "cell_type": "markdown",
      "metadata": {
        "id": "oZiGvZncxqgJ",
        "colab_type": "text"
      },
      "source": [
        "#### Extract Tybalt weight matrix and write to file\n"
      ]
    },
    {
      "cell_type": "code",
      "metadata": {
        "id": "MTtk_GXdCgHV",
        "colab_type": "code",
        "outputId": "ee458f76-e850-4029-9abb-cb4a93b51aa9",
        "colab": {
          "base_uri": "https://localhost:8080/",
          "height": 202
        }
      },
      "source": [
        "# Extract the weights from the decoder model\n",
        "weights = []\n",
        "for layer in decoder.layers:\n",
        "    weights.append(layer.get_weights())\n",
        "    \n",
        "weight_layer_df = pd.DataFrame(weights[1][0], columns=rnaseq_df.columns, index=range(1, 101))\n",
        "weight_layer_df.index.name = 'encodings'\n",
        "print(weight_layer_df.shape)\n",
        "weight_layer_df.head(2)"
      ],
      "execution_count": 70,
      "outputs": [
        {
          "output_type": "stream",
          "text": [
            "(100, 8000)\n"
          ],
          "name": "stdout"
        },
        {
          "output_type": "execute_result",
          "data": {
            "text/html": [
              "<div>\n",
              "<style scoped>\n",
              "    .dataframe tbody tr th:only-of-type {\n",
              "        vertical-align: middle;\n",
              "    }\n",
              "\n",
              "    .dataframe tbody tr th {\n",
              "        vertical-align: top;\n",
              "    }\n",
              "\n",
              "    .dataframe thead th {\n",
              "        text-align: right;\n",
              "    }\n",
              "</style>\n",
              "<table border=\"1\" class=\"dataframe\">\n",
              "  <thead>\n",
              "    <tr style=\"text-align: right;\">\n",
              "      <th>Orthogroup</th>\n",
              "      <th>OG0026143</th>\n",
              "      <th>OG0014142</th>\n",
              "      <th>OG0014645</th>\n",
              "      <th>OG0025874</th>\n",
              "      <th>OG0010667</th>\n",
              "      <th>OG0025586</th>\n",
              "      <th>OG0022720</th>\n",
              "      <th>OG0013874</th>\n",
              "      <th>OG0021190</th>\n",
              "      <th>OG0012010</th>\n",
              "      <th>OG0020923</th>\n",
              "      <th>OG0019275</th>\n",
              "      <th>OG0023557</th>\n",
              "      <th>OG0018684</th>\n",
              "      <th>OG0011316</th>\n",
              "      <th>OG0031940</th>\n",
              "      <th>OG0018764</th>\n",
              "      <th>OG0013113</th>\n",
              "      <th>OG0022191</th>\n",
              "      <th>OG0028471</th>\n",
              "      <th>OG0002537</th>\n",
              "      <th>OG0030076</th>\n",
              "      <th>OG0009273</th>\n",
              "      <th>OG0025725</th>\n",
              "      <th>OG0031741</th>\n",
              "      <th>OG0015232</th>\n",
              "      <th>OG0013556</th>\n",
              "      <th>OG0021686</th>\n",
              "      <th>OG0026828</th>\n",
              "      <th>OG0010452</th>\n",
              "      <th>OG0025863</th>\n",
              "      <th>OG0013120</th>\n",
              "      <th>OG0018053</th>\n",
              "      <th>OG0020648</th>\n",
              "      <th>OG0013916</th>\n",
              "      <th>OG0003244</th>\n",
              "      <th>OG0008446</th>\n",
              "      <th>OG0008569</th>\n",
              "      <th>OG0002928</th>\n",
              "      <th>OG0014313</th>\n",
              "      <th>...</th>\n",
              "      <th>OG0021212</th>\n",
              "      <th>OG0008967</th>\n",
              "      <th>OG0017857</th>\n",
              "      <th>OG0016666</th>\n",
              "      <th>OG0019957</th>\n",
              "      <th>OG0038168</th>\n",
              "      <th>OG0013052</th>\n",
              "      <th>OG0002231</th>\n",
              "      <th>OG0017327</th>\n",
              "      <th>OG0032337</th>\n",
              "      <th>OG0011400</th>\n",
              "      <th>OG0006744</th>\n",
              "      <th>OG0002820</th>\n",
              "      <th>OG0031705</th>\n",
              "      <th>OG0024298</th>\n",
              "      <th>OG0043372</th>\n",
              "      <th>OG0030603</th>\n",
              "      <th>OG0013455</th>\n",
              "      <th>OG0010245</th>\n",
              "      <th>OG0013122</th>\n",
              "      <th>OG0032290</th>\n",
              "      <th>OG0023733</th>\n",
              "      <th>OG0018037</th>\n",
              "      <th>OG0026813</th>\n",
              "      <th>OG0012943</th>\n",
              "      <th>OG0030600</th>\n",
              "      <th>OG0020255</th>\n",
              "      <th>OG0022804</th>\n",
              "      <th>OG0012110</th>\n",
              "      <th>OG0018498</th>\n",
              "      <th>OG0034291</th>\n",
              "      <th>OG0013576</th>\n",
              "      <th>OG0030374</th>\n",
              "      <th>OG0025330</th>\n",
              "      <th>OG0008316</th>\n",
              "      <th>OG0012183</th>\n",
              "      <th>OG0028580</th>\n",
              "      <th>OG0016459</th>\n",
              "      <th>OG0003419</th>\n",
              "      <th>OG0010882</th>\n",
              "    </tr>\n",
              "    <tr>\n",
              "      <th>encodings</th>\n",
              "      <th></th>\n",
              "      <th></th>\n",
              "      <th></th>\n",
              "      <th></th>\n",
              "      <th></th>\n",
              "      <th></th>\n",
              "      <th></th>\n",
              "      <th></th>\n",
              "      <th></th>\n",
              "      <th></th>\n",
              "      <th></th>\n",
              "      <th></th>\n",
              "      <th></th>\n",
              "      <th></th>\n",
              "      <th></th>\n",
              "      <th></th>\n",
              "      <th></th>\n",
              "      <th></th>\n",
              "      <th></th>\n",
              "      <th></th>\n",
              "      <th></th>\n",
              "      <th></th>\n",
              "      <th></th>\n",
              "      <th></th>\n",
              "      <th></th>\n",
              "      <th></th>\n",
              "      <th></th>\n",
              "      <th></th>\n",
              "      <th></th>\n",
              "      <th></th>\n",
              "      <th></th>\n",
              "      <th></th>\n",
              "      <th></th>\n",
              "      <th></th>\n",
              "      <th></th>\n",
              "      <th></th>\n",
              "      <th></th>\n",
              "      <th></th>\n",
              "      <th></th>\n",
              "      <th></th>\n",
              "      <th></th>\n",
              "      <th></th>\n",
              "      <th></th>\n",
              "      <th></th>\n",
              "      <th></th>\n",
              "      <th></th>\n",
              "      <th></th>\n",
              "      <th></th>\n",
              "      <th></th>\n",
              "      <th></th>\n",
              "      <th></th>\n",
              "      <th></th>\n",
              "      <th></th>\n",
              "      <th></th>\n",
              "      <th></th>\n",
              "      <th></th>\n",
              "      <th></th>\n",
              "      <th></th>\n",
              "      <th></th>\n",
              "      <th></th>\n",
              "      <th></th>\n",
              "      <th></th>\n",
              "      <th></th>\n",
              "      <th></th>\n",
              "      <th></th>\n",
              "      <th></th>\n",
              "      <th></th>\n",
              "      <th></th>\n",
              "      <th></th>\n",
              "      <th></th>\n",
              "      <th></th>\n",
              "      <th></th>\n",
              "      <th></th>\n",
              "      <th></th>\n",
              "      <th></th>\n",
              "      <th></th>\n",
              "      <th></th>\n",
              "      <th></th>\n",
              "      <th></th>\n",
              "      <th></th>\n",
              "      <th></th>\n",
              "    </tr>\n",
              "  </thead>\n",
              "  <tbody>\n",
              "    <tr>\n",
              "      <th>1</th>\n",
              "      <td>-0.032892</td>\n",
              "      <td>0.111381</td>\n",
              "      <td>0.016390</td>\n",
              "      <td>0.023570</td>\n",
              "      <td>0.009940</td>\n",
              "      <td>-0.099993</td>\n",
              "      <td>-0.036612</td>\n",
              "      <td>0.046998</td>\n",
              "      <td>-0.009904</td>\n",
              "      <td>0.069173</td>\n",
              "      <td>-0.032273</td>\n",
              "      <td>-0.004207</td>\n",
              "      <td>-0.038286</td>\n",
              "      <td>0.046667</td>\n",
              "      <td>0.044044</td>\n",
              "      <td>-0.022224</td>\n",
              "      <td>-0.014099</td>\n",
              "      <td>-0.003282</td>\n",
              "      <td>-0.022521</td>\n",
              "      <td>0.071086</td>\n",
              "      <td>0.027083</td>\n",
              "      <td>-0.061695</td>\n",
              "      <td>0.037524</td>\n",
              "      <td>-0.043347</td>\n",
              "      <td>-0.078073</td>\n",
              "      <td>0.028898</td>\n",
              "      <td>-0.034891</td>\n",
              "      <td>-0.005175</td>\n",
              "      <td>0.046676</td>\n",
              "      <td>-0.011255</td>\n",
              "      <td>0.001048</td>\n",
              "      <td>0.018971</td>\n",
              "      <td>0.064282</td>\n",
              "      <td>-0.074129</td>\n",
              "      <td>0.010055</td>\n",
              "      <td>0.098511</td>\n",
              "      <td>0.060231</td>\n",
              "      <td>0.023966</td>\n",
              "      <td>0.090988</td>\n",
              "      <td>-0.019136</td>\n",
              "      <td>...</td>\n",
              "      <td>-0.053321</td>\n",
              "      <td>-0.07286</td>\n",
              "      <td>0.000631</td>\n",
              "      <td>-0.015204</td>\n",
              "      <td>-0.036109</td>\n",
              "      <td>-0.011840</td>\n",
              "      <td>0.003965</td>\n",
              "      <td>0.007190</td>\n",
              "      <td>-0.045680</td>\n",
              "      <td>-0.059327</td>\n",
              "      <td>-0.008339</td>\n",
              "      <td>0.031199</td>\n",
              "      <td>-0.026910</td>\n",
              "      <td>-0.028522</td>\n",
              "      <td>-0.025114</td>\n",
              "      <td>0.102194</td>\n",
              "      <td>-0.035236</td>\n",
              "      <td>-0.092205</td>\n",
              "      <td>-0.027950</td>\n",
              "      <td>0.028618</td>\n",
              "      <td>0.004781</td>\n",
              "      <td>-0.007184</td>\n",
              "      <td>0.053650</td>\n",
              "      <td>-0.010828</td>\n",
              "      <td>0.090145</td>\n",
              "      <td>0.001020</td>\n",
              "      <td>0.014910</td>\n",
              "      <td>-0.021805</td>\n",
              "      <td>-0.017545</td>\n",
              "      <td>0.002871</td>\n",
              "      <td>-0.039347</td>\n",
              "      <td>-0.066507</td>\n",
              "      <td>-0.067692</td>\n",
              "      <td>-0.052563</td>\n",
              "      <td>-0.075472</td>\n",
              "      <td>-0.038467</td>\n",
              "      <td>-0.059160</td>\n",
              "      <td>0.001425</td>\n",
              "      <td>-0.046177</td>\n",
              "      <td>0.046017</td>\n",
              "    </tr>\n",
              "    <tr>\n",
              "      <th>2</th>\n",
              "      <td>-0.010868</td>\n",
              "      <td>-0.033040</td>\n",
              "      <td>-0.107052</td>\n",
              "      <td>-0.045788</td>\n",
              "      <td>-0.033962</td>\n",
              "      <td>0.051586</td>\n",
              "      <td>0.023247</td>\n",
              "      <td>-0.051109</td>\n",
              "      <td>-0.085512</td>\n",
              "      <td>-0.101788</td>\n",
              "      <td>0.087226</td>\n",
              "      <td>0.038187</td>\n",
              "      <td>0.008713</td>\n",
              "      <td>-0.017832</td>\n",
              "      <td>-0.110357</td>\n",
              "      <td>-0.093914</td>\n",
              "      <td>-0.104888</td>\n",
              "      <td>-0.027006</td>\n",
              "      <td>0.026712</td>\n",
              "      <td>-0.132427</td>\n",
              "      <td>-0.015357</td>\n",
              "      <td>-0.103524</td>\n",
              "      <td>-0.044682</td>\n",
              "      <td>0.072599</td>\n",
              "      <td>-0.073412</td>\n",
              "      <td>-0.092313</td>\n",
              "      <td>-0.024977</td>\n",
              "      <td>-0.060256</td>\n",
              "      <td>-0.036908</td>\n",
              "      <td>-0.028444</td>\n",
              "      <td>-0.069166</td>\n",
              "      <td>0.002849</td>\n",
              "      <td>-0.152481</td>\n",
              "      <td>-0.001570</td>\n",
              "      <td>-0.036395</td>\n",
              "      <td>-0.046423</td>\n",
              "      <td>0.035849</td>\n",
              "      <td>-0.119098</td>\n",
              "      <td>-0.117181</td>\n",
              "      <td>-0.035440</td>\n",
              "      <td>...</td>\n",
              "      <td>0.009209</td>\n",
              "      <td>0.01511</td>\n",
              "      <td>0.116860</td>\n",
              "      <td>0.076665</td>\n",
              "      <td>-0.033852</td>\n",
              "      <td>-0.022635</td>\n",
              "      <td>-0.053722</td>\n",
              "      <td>0.078845</td>\n",
              "      <td>0.002069</td>\n",
              "      <td>-0.053160</td>\n",
              "      <td>0.045278</td>\n",
              "      <td>-0.122678</td>\n",
              "      <td>0.036793</td>\n",
              "      <td>0.009158</td>\n",
              "      <td>-0.061320</td>\n",
              "      <td>-0.086785</td>\n",
              "      <td>0.051010</td>\n",
              "      <td>-0.016900</td>\n",
              "      <td>0.047809</td>\n",
              "      <td>-0.090075</td>\n",
              "      <td>0.025364</td>\n",
              "      <td>-0.020040</td>\n",
              "      <td>-0.087704</td>\n",
              "      <td>-0.106804</td>\n",
              "      <td>-0.146299</td>\n",
              "      <td>0.025067</td>\n",
              "      <td>-0.028805</td>\n",
              "      <td>-0.061333</td>\n",
              "      <td>-0.008360</td>\n",
              "      <td>0.018424</td>\n",
              "      <td>-0.019262</td>\n",
              "      <td>-0.011462</td>\n",
              "      <td>-0.120987</td>\n",
              "      <td>-0.106412</td>\n",
              "      <td>0.000017</td>\n",
              "      <td>-0.034599</td>\n",
              "      <td>0.037397</td>\n",
              "      <td>-0.051316</td>\n",
              "      <td>-0.060606</td>\n",
              "      <td>0.020967</td>\n",
              "    </tr>\n",
              "  </tbody>\n",
              "</table>\n",
              "<p>2 rows × 8000 columns</p>\n",
              "</div>"
            ],
            "text/plain": [
              "Orthogroup  OG0026143  OG0014142  OG0014645  ...  OG0016459  OG0003419  OG0010882\n",
              "encodings                                    ...                                 \n",
              "1           -0.032892   0.111381   0.016390  ...   0.001425  -0.046177   0.046017\n",
              "2           -0.010868  -0.033040  -0.107052  ...  -0.051316  -0.060606   0.020967\n",
              "\n",
              "[2 rows x 8000 columns]"
            ]
          },
          "metadata": {
            "tags": []
          },
          "execution_count": 70
        }
      ]
    },
    {
      "cell_type": "code",
      "metadata": {
        "id": "SBu_BIGeCmN3",
        "colab_type": "code",
        "colab": {}
      },
      "source": [
        "# Write the genes to file\n",
        "!mkdir -p results\n",
        "#weight_file = os.path.join('results', 'tybalt_gene_weights.tsv')\n",
        "weight_file = os.path.join('results', 'tybalt_mad_gene_weights.tsv')\n",
        "weight_layer_df.to_csv(weight_file, sep='\\t')"
      ],
      "execution_count": 0,
      "outputs": []
    },
    {
      "cell_type": "code",
      "metadata": {
        "id": "dEYeZo0TOHld",
        "colab_type": "code",
        "colab": {}
      },
      "source": [
        "files.download(os.path.join('results', 'tybalt_mad_gene_weights.tsv')) "
      ],
      "execution_count": 0,
      "outputs": []
    },
    {
      "cell_type": "code",
      "metadata": {
        "id": "J5HMQ1c3AMSe",
        "colab_type": "code",
        "outputId": "a3c1a5a2-5024-4df7-93c2-6f76674ab03a",
        "colab": {
          "base_uri": "https://localhost:8080/",
          "height": 34
        }
      },
      "source": [
        "encoding_genes = weight_layer_df.T\n",
        "#encoding_genes.head()\n",
        "print(encoding_genes.shape)"
      ],
      "execution_count": 76,
      "outputs": [
        {
          "output_type": "stream",
          "text": [
            "(8000, 100)\n"
          ],
          "name": "stdout"
        }
      ]
    },
    {
      "cell_type": "markdown",
      "metadata": {
        "id": "G39Yvpggx09c",
        "colab_type": "text"
      },
      "source": [
        "#### Look at the most active nodes"
      ]
    },
    {
      "cell_type": "code",
      "metadata": {
        "id": "znbfeZ5-Q_8i",
        "colab_type": "code",
        "outputId": "a6ba1da4-3902-41ff-8614-24ff22dbf6e9",
        "colab": {
          "base_uri": "https://localhost:8080/",
          "height": 443
        }
      },
      "source": [
        "#### Okay let's look at the most active nodes\n",
        "sum_node_activity = encoded_rnaseq_df.sum(axis=0).sort_values(ascending=False)\n",
        "# Top 10 most active nodes\n",
        "print(sum_node_activity.head(10))\n",
        "#top_node = sum_node_activity"
      ],
      "execution_count": 80,
      "outputs": [
        {
          "output_type": "stream",
          "text": [
            "sample_id\n",
            "70    81.955162\n",
            "83    81.315865\n",
            "63    76.070358\n",
            "50    71.959961\n",
            "53    71.899345\n",
            "81    71.332886\n",
            "4     71.052406\n",
            "55    70.594772\n",
            "86    69.196533\n",
            "88    68.269035\n",
            "dtype: float32\n",
            "(8000, 1)\n"
          ],
          "name": "stdout"
        },
        {
          "output_type": "execute_result",
          "data": {
            "text/html": [
              "<div>\n",
              "<style scoped>\n",
              "    .dataframe tbody tr th:only-of-type {\n",
              "        vertical-align: middle;\n",
              "    }\n",
              "\n",
              "    .dataframe tbody tr th {\n",
              "        vertical-align: top;\n",
              "    }\n",
              "\n",
              "    .dataframe thead th {\n",
              "        text-align: right;\n",
              "    }\n",
              "</style>\n",
              "<table border=\"1\" class=\"dataframe\">\n",
              "  <thead>\n",
              "    <tr style=\"text-align: right;\">\n",
              "      <th></th>\n",
              "      <th>encoding 70</th>\n",
              "    </tr>\n",
              "    <tr>\n",
              "      <th>Orthogroup</th>\n",
              "      <th></th>\n",
              "    </tr>\n",
              "  </thead>\n",
              "  <tbody>\n",
              "    <tr>\n",
              "      <th>OG0051156</th>\n",
              "      <td>0.376828</td>\n",
              "    </tr>\n",
              "    <tr>\n",
              "      <th>OG0051193</th>\n",
              "      <td>0.366834</td>\n",
              "    </tr>\n",
              "    <tr>\n",
              "      <th>OG0047854</th>\n",
              "      <td>-0.329677</td>\n",
              "    </tr>\n",
              "    <tr>\n",
              "      <th>OG0020270</th>\n",
              "      <td>-0.328733</td>\n",
              "    </tr>\n",
              "    <tr>\n",
              "      <th>OG0047029</th>\n",
              "      <td>0.321268</td>\n",
              "    </tr>\n",
              "  </tbody>\n",
              "</table>\n",
              "</div>"
            ],
            "text/plain": [
              "            encoding 70\n",
              "Orthogroup             \n",
              "OG0051156      0.376828\n",
              "OG0051193      0.366834\n",
              "OG0047854     -0.329677\n",
              "OG0020270     -0.328733\n",
              "OG0047029      0.321268"
            ]
          },
          "metadata": {
            "tags": []
          },
          "execution_count": 80
        }
      ]
    },
    {
      "cell_type": "code",
      "metadata": {
        "id": "UaAFuk8zTANI",
        "colab_type": "code",
        "colab": {}
      },
      "source": [
        "def output_high_weight_genes(weight_df, encoding, filename, thresh=2.5):\n",
        "    \"\"\"\n",
        "    Function to process and output high weight genes given specific feature encodings\n",
        "    \"\"\"\n",
        "    \n",
        "    # Sort initial encoding by absolute activation\n",
        "    encoding_df = (\n",
        "        weight_df\n",
        "        .reindex(weight_df[encoding].abs()\n",
        "                 .sort_values(ascending=False).index)[encoding]\n",
        "    )\n",
        "    \n",
        "    hw_pos_cutoff = encoding_df.mean() + (encoding_df.std() * thresh)\n",
        "    hw_pos_df = pd.DataFrame(encoding_df[encoding_df > hw_pos_cutoff])\n",
        "    hw_pos_df = hw_pos_df.assign(direction='positive')\n",
        "    \n",
        "    hw_neg_cutoff = encoding_df.mean() - (encoding_df.std() * thresh)\n",
        "    hw_neg_df = pd.DataFrame(encoding_df[encoding_df < hw_neg_cutoff])\n",
        "    hw_neg_df = hw_neg_df.assign(direction='negative')\n",
        "\n",
        "    hw_df = pd.concat([hw_pos_df, hw_neg_df])\n",
        "    hw_df.index.name = 'genes'\n",
        "    hw_df.to_csv(filename, sep='\\t')\n",
        "    return hw_df"
      ],
      "execution_count": 0,
      "outputs": []
    },
    {
      "cell_type": "code",
      "metadata": {
        "id": "WWNLWjlxyGjg",
        "colab_type": "code",
        "colab": {
          "base_uri": "https://localhost:8080/",
          "height": 242
        },
        "outputId": "ef310ed0-db72-42d1-e1a7-9b9423c7946e"
      },
      "source": [
        "# Encoding 70\n",
        "node_70 = weight_layer_df.loc[[70], :].T\n",
        "node_70.head()\n",
        "node_70.columns = ['encoding 70']\n",
        "node_70 = (node_70.reindex(node_70['encoding 70'].abs().sort_values(ascending=False).index))\n",
        "print(node_70.shape)\n",
        "node_70.head()"
      ],
      "execution_count": 83,
      "outputs": [
        {
          "output_type": "stream",
          "text": [
            "(8000, 1)\n"
          ],
          "name": "stdout"
        },
        {
          "output_type": "execute_result",
          "data": {
            "text/html": [
              "<div>\n",
              "<style scoped>\n",
              "    .dataframe tbody tr th:only-of-type {\n",
              "        vertical-align: middle;\n",
              "    }\n",
              "\n",
              "    .dataframe tbody tr th {\n",
              "        vertical-align: top;\n",
              "    }\n",
              "\n",
              "    .dataframe thead th {\n",
              "        text-align: right;\n",
              "    }\n",
              "</style>\n",
              "<table border=\"1\" class=\"dataframe\">\n",
              "  <thead>\n",
              "    <tr style=\"text-align: right;\">\n",
              "      <th></th>\n",
              "      <th>encoding 70</th>\n",
              "    </tr>\n",
              "    <tr>\n",
              "      <th>Orthogroup</th>\n",
              "      <th></th>\n",
              "    </tr>\n",
              "  </thead>\n",
              "  <tbody>\n",
              "    <tr>\n",
              "      <th>OG0051156</th>\n",
              "      <td>0.376828</td>\n",
              "    </tr>\n",
              "    <tr>\n",
              "      <th>OG0051193</th>\n",
              "      <td>0.366834</td>\n",
              "    </tr>\n",
              "    <tr>\n",
              "      <th>OG0047854</th>\n",
              "      <td>-0.329677</td>\n",
              "    </tr>\n",
              "    <tr>\n",
              "      <th>OG0020270</th>\n",
              "      <td>-0.328733</td>\n",
              "    </tr>\n",
              "    <tr>\n",
              "      <th>OG0047029</th>\n",
              "      <td>0.321268</td>\n",
              "    </tr>\n",
              "  </tbody>\n",
              "</table>\n",
              "</div>"
            ],
            "text/plain": [
              "            encoding 70\n",
              "Orthogroup             \n",
              "OG0051156      0.376828\n",
              "OG0051193      0.366834\n",
              "OG0047854     -0.329677\n",
              "OG0020270     -0.328733\n",
              "OG0047029      0.321268"
            ]
          },
          "metadata": {
            "tags": []
          },
          "execution_count": 83
        }
      ]
    },
    {
      "cell_type": "code",
      "metadata": {
        "id": "aFr7QNdnTDVY",
        "colab_type": "code",
        "outputId": "c106366b-f610-40a4-dc62-a99a599815b5",
        "colab": {
          "base_uri": "https://localhost:8080/",
          "height": 225
        }
      },
      "source": [
        "# Encoding 70 to file\n",
        "hw_node70_file = os.path.join('results', 'high_weight_genes_node70_skcm.tsv')\n",
        "node70_df = output_high_weight_genes(node_70, 'encoding 70', hw_node70_file)\n",
        "node70_df.head(5)"
      ],
      "execution_count": 84,
      "outputs": [
        {
          "output_type": "execute_result",
          "data": {
            "text/html": [
              "<div>\n",
              "<style scoped>\n",
              "    .dataframe tbody tr th:only-of-type {\n",
              "        vertical-align: middle;\n",
              "    }\n",
              "\n",
              "    .dataframe tbody tr th {\n",
              "        vertical-align: top;\n",
              "    }\n",
              "\n",
              "    .dataframe thead th {\n",
              "        text-align: right;\n",
              "    }\n",
              "</style>\n",
              "<table border=\"1\" class=\"dataframe\">\n",
              "  <thead>\n",
              "    <tr style=\"text-align: right;\">\n",
              "      <th></th>\n",
              "      <th>encoding 70</th>\n",
              "      <th>direction</th>\n",
              "    </tr>\n",
              "    <tr>\n",
              "      <th>genes</th>\n",
              "      <th></th>\n",
              "      <th></th>\n",
              "    </tr>\n",
              "  </thead>\n",
              "  <tbody>\n",
              "    <tr>\n",
              "      <th>OG0051156</th>\n",
              "      <td>0.376828</td>\n",
              "      <td>positive</td>\n",
              "    </tr>\n",
              "    <tr>\n",
              "      <th>OG0051193</th>\n",
              "      <td>0.366834</td>\n",
              "      <td>positive</td>\n",
              "    </tr>\n",
              "    <tr>\n",
              "      <th>OG0047029</th>\n",
              "      <td>0.321268</td>\n",
              "      <td>positive</td>\n",
              "    </tr>\n",
              "    <tr>\n",
              "      <th>OG0051366</th>\n",
              "      <td>0.287070</td>\n",
              "      <td>positive</td>\n",
              "    </tr>\n",
              "    <tr>\n",
              "      <th>OG0046809</th>\n",
              "      <td>0.280716</td>\n",
              "      <td>positive</td>\n",
              "    </tr>\n",
              "  </tbody>\n",
              "</table>\n",
              "</div>"
            ],
            "text/plain": [
              "           encoding 70 direction\n",
              "genes                           \n",
              "OG0051156     0.376828  positive\n",
              "OG0051193     0.366834  positive\n",
              "OG0047029     0.321268  positive\n",
              "OG0051366     0.287070  positive\n",
              "OG0046809     0.280716  positive"
            ]
          },
          "metadata": {
            "tags": []
          },
          "execution_count": 84
        }
      ]
    },
    {
      "cell_type": "code",
      "metadata": {
        "id": "z6Ifh5xhycmg",
        "colab_type": "code",
        "colab": {}
      },
      "source": [
        "files.download(hw_node70_file) \n"
      ],
      "execution_count": 0,
      "outputs": []
    },
    {
      "cell_type": "code",
      "metadata": {
        "id": "A3U-DjwkUCDw",
        "colab_type": "code",
        "outputId": "12f673db-f9c2-4c74-fc68-be0eaeb9dab7",
        "colab": {
          "base_uri": "https://localhost:8080/",
          "height": 258
        }
      },
      "source": [
        "## output the high weight genes explaining each tail of each node for some top nodes\n",
        "node_83 = weight_layer_df.loc[[83], :].T\n",
        "node_83.columns = ['encoding 83']\n",
        "node_83 = (node_83.reindex(node_83['encoding 83'].abs().sort_values(ascending=False).index))\n",
        "print(node_83.shape)\n",
        "hw_node83_file = os.path.join('results', 'high_weight_genes_node83_skcm.tsv')\n",
        "node83_df = output_high_weight_genes(node_83, 'encoding 83', hw_node83_file)\n",
        "node83_df.head(5)\n",
        "\n",
        "node_63 = weight_layer_df.loc[[63], :].T\n",
        "node_63.columns = ['encoding 63']\n",
        "node_63 = (node_63.reindex(node_63['encoding 63'].abs().sort_values(ascending=False).index))\n",
        "print(node_63.shape)\n",
        "hw_node63_file = os.path.join('results', 'high_weight_genes_node63_skcm.tsv')\n",
        "node63_df = output_high_weight_genes(node_63, 'encoding 63', hw_node63_file)\n",
        "node63_df.head(5)\n",
        "\n",
        "#files.download(hw_node83_file) \n",
        "#files.download(hw_node63_file) "
      ],
      "execution_count": 89,
      "outputs": [
        {
          "output_type": "stream",
          "text": [
            "(8000, 1)\n",
            "(8000, 1)\n"
          ],
          "name": "stdout"
        },
        {
          "output_type": "execute_result",
          "data": {
            "text/html": [
              "<div>\n",
              "<style scoped>\n",
              "    .dataframe tbody tr th:only-of-type {\n",
              "        vertical-align: middle;\n",
              "    }\n",
              "\n",
              "    .dataframe tbody tr th {\n",
              "        vertical-align: top;\n",
              "    }\n",
              "\n",
              "    .dataframe thead th {\n",
              "        text-align: right;\n",
              "    }\n",
              "</style>\n",
              "<table border=\"1\" class=\"dataframe\">\n",
              "  <thead>\n",
              "    <tr style=\"text-align: right;\">\n",
              "      <th></th>\n",
              "      <th>encoding 63</th>\n",
              "      <th>direction</th>\n",
              "    </tr>\n",
              "    <tr>\n",
              "      <th>genes</th>\n",
              "      <th></th>\n",
              "      <th></th>\n",
              "    </tr>\n",
              "  </thead>\n",
              "  <tbody>\n",
              "    <tr>\n",
              "      <th>OG0046848</th>\n",
              "      <td>0.269559</td>\n",
              "      <td>positive</td>\n",
              "    </tr>\n",
              "    <tr>\n",
              "      <th>OG0041493</th>\n",
              "      <td>0.259700</td>\n",
              "      <td>positive</td>\n",
              "    </tr>\n",
              "    <tr>\n",
              "      <th>OG0043258</th>\n",
              "      <td>0.256350</td>\n",
              "      <td>positive</td>\n",
              "    </tr>\n",
              "    <tr>\n",
              "      <th>OG0030551</th>\n",
              "      <td>0.255434</td>\n",
              "      <td>positive</td>\n",
              "    </tr>\n",
              "    <tr>\n",
              "      <th>OG0041762</th>\n",
              "      <td>0.247326</td>\n",
              "      <td>positive</td>\n",
              "    </tr>\n",
              "  </tbody>\n",
              "</table>\n",
              "</div>"
            ],
            "text/plain": [
              "           encoding 63 direction\n",
              "genes                           \n",
              "OG0046848     0.269559  positive\n",
              "OG0041493     0.259700  positive\n",
              "OG0043258     0.256350  positive\n",
              "OG0030551     0.255434  positive\n",
              "OG0041762     0.247326  positive"
            ]
          },
          "metadata": {
            "tags": []
          },
          "execution_count": 89
        }
      ]
    },
    {
      "cell_type": "markdown",
      "metadata": {
        "id": "su366OAhMER6",
        "colab_type": "text"
      },
      "source": [
        "# Exploring High Weight Genes\n",
        "\n",
        "https://github.com/greenelab/tybalt/blob/master/high_weight_genes.ipynb"
      ]
    },
    {
      "cell_type": "markdown",
      "metadata": {
        "id": "yMIQ9icOMQFT",
        "colab_type": "text"
      },
      "source": [
        "Visualizing the distribution of high weight genes across different dimensionality reduction algorithms, including PCA, ICA, NMF, ADAGE, and Tybalt. The standard procedure for defining high weight genes is defined by greater than 2.5 standard deviations away from the mean, separately for both positive and negative tails.\n",
        "\n",
        "The module high_weight_genes facilitates high weight gene discovery using different metrics defined at custom thresholds.\n",
        "\n",
        "### Interpretation\n",
        "Methods like ICA and ADAGE learn features that have more even tailed distributions and are less skewed than methods like PCA, NMF, and Tybalt. Defining high weight genes using NMF can only be done using positive tails, whereas ADAGE and ICA learn different representations in each tail. The neural network based approaches ADAGE and Tybalt (and other VAE variants), and to a lesser extent ICA, learn different types of distributions in each node. The distributions they learn have different skew and kurtosis. These observations necesitate a dynamic procedure of assigning genes to nodes.\n",
        "\n",
        "In the following notebook we explore the distributions of high weight genes across features learned by the aformentioned algorithms.\n",
        "\n",
        "#### 1) High weight positive and negative genes defined by standard protocol\n",
        "First, we visualize the distribution of high weight genes for positive and negative tails within a single node for each algorithm. We determine that some methods (ADAGE) have largely symmetrical nodes, while others (Tybalt and VAE variants) have some nodes with many genes isolated in only one of the tails.\n",
        "\n",
        "#### 2) Diversity of individual node distributions\n",
        "Next, we plot the full distribution of the first 25 features (of 100) defined for each algorithm. From this analysis it is clear the features for each algorithm learn quite different distributions. ADAGE learn gene weights near zero with light tails, NMF learn only positive weights, and VAE variants, PCA, and ICA learn heterogeneous feature distributions.\n",
        "\n",
        "#### 3) Skewness and Kurtosis\n",
        "We observe the distribution of skewness and kurtosis for each feature across algorithms. This analysis will give us a clearer picture on feature heterogeneity and how defining high weight genes across algorithms may be artificially penalized by standard methods. We observe increased node distribution heterogeneity for VAE variants, NMF, but less heterogeneity for PCA, ICA, and ADAGE features.\n",
        "\n",
        "#### 4) Node Type Designations\n",
        "Lastly, we determine that a dynamic procedure for assigning high weight genes to nodes may be helpful in assigning biological patterns to learned features. We define node types as:\n",
        "\n",
        "  - **Type A:** Low skewness, low kurtosis\n",
        "These are the nodes closest to normal distributions\n",
        "More stringent cutoffs required to eliminate false postive genes (use > 3 standard deviations)\n",
        "  - **Type B:** Low skewness, high kurtosis\n",
        "Symmetrical distributions but many genes at the end of tails.\n",
        "Use the standard procedure for defining high weight genes (> 2.5 standard deviations)\n",
        "  - **Type C:** High skewness, low kurtosis\n",
        "Heavily biased toward postive high weight or negative high weight genes, but few activated genes\n",
        "Type C nodes can be split into two types Type C Pos and Type C Neg, designated based on if they include more positive high weight genes or negative high weight genes.\n",
        "Use standard procedure for defining high weight in long tails, but strict procedure for defining opposite tail.\n",
        "  - **Type D:** High skewness, high kurtosis\n",
        "Heavily biased toward one tail, with many activated genes\n",
        "Type D nodes can also be split into two types depending on direction of the high weight tail\n",
        "Use the opposite high weight gene procedure however to reduce false positive but still capture some signal in the opposite high weight tail.\n",
        "\n",
        "We apply the correction and visualize the adjusted distributions. A pathway coverage analysis will determine if these adjustments improve pathway discovery."
      ]
    },
    {
      "cell_type": "code",
      "metadata": {
        "id": "iLIXoaBqNHpu",
        "colab_type": "code",
        "outputId": "1d4c1df3-3c9e-4520-ebce-e2e96f399f69",
        "colab": {
          "base_uri": "https://localhost:8080/",
          "height": 692
        }
      },
      "source": [
        "! pip install git+git://github.com/greenelab/tybalt.git"
      ],
      "execution_count": 91,
      "outputs": [
        {
          "output_type": "stream",
          "text": [
            "Collecting git+git://github.com/greenelab/tybalt.git\n",
            "  Cloning git://github.com/greenelab/tybalt.git to /tmp/pip-req-build-rhsw9ecz\n",
            "  Running command git clone -q git://github.com/greenelab/tybalt.git /tmp/pip-req-build-rhsw9ecz\n",
            "Requirement already satisfied: keras in /usr/local/lib/python3.6/dist-packages (from tybalt==0.0.0) (2.2.5)\n",
            "Requirement already satisfied: tensorflow in /usr/local/lib/python3.6/dist-packages (from tybalt==0.0.0) (1.15.0)\n",
            "Requirement already satisfied: pandas in /usr/local/lib/python3.6/dist-packages (from tybalt==0.0.0) (0.25.2)\n",
            "Requirement already satisfied: scikit-learn in /usr/local/lib/python3.6/dist-packages (from tybalt==0.0.0) (0.21.3)\n",
            "Requirement already satisfied: six>=1.9.0 in /usr/local/lib/python3.6/dist-packages (from keras->tybalt==0.0.0) (1.12.0)\n",
            "Requirement already satisfied: pyyaml in /usr/local/lib/python3.6/dist-packages (from keras->tybalt==0.0.0) (3.13)\n",
            "Requirement already satisfied: numpy>=1.9.1 in /usr/local/lib/python3.6/dist-packages (from keras->tybalt==0.0.0) (1.17.3)\n",
            "Requirement already satisfied: keras-applications>=1.0.8 in /usr/local/lib/python3.6/dist-packages (from keras->tybalt==0.0.0) (1.0.8)\n",
            "Requirement already satisfied: h5py in /usr/local/lib/python3.6/dist-packages (from keras->tybalt==0.0.0) (2.8.0)\n",
            "Requirement already satisfied: keras-preprocessing>=1.1.0 in /usr/local/lib/python3.6/dist-packages (from keras->tybalt==0.0.0) (1.1.0)\n",
            "Requirement already satisfied: scipy>=0.14 in /usr/local/lib/python3.6/dist-packages (from keras->tybalt==0.0.0) (1.3.1)\n",
            "Requirement already satisfied: termcolor>=1.1.0 in /usr/local/lib/python3.6/dist-packages (from tensorflow->tybalt==0.0.0) (1.1.0)\n",
            "Requirement already satisfied: protobuf>=3.6.1 in /usr/local/lib/python3.6/dist-packages (from tensorflow->tybalt==0.0.0) (3.10.0)\n",
            "Requirement already satisfied: google-pasta>=0.1.6 in /usr/local/lib/python3.6/dist-packages (from tensorflow->tybalt==0.0.0) (0.1.7)\n",
            "Requirement already satisfied: absl-py>=0.7.0 in /usr/local/lib/python3.6/dist-packages (from tensorflow->tybalt==0.0.0) (0.8.1)\n",
            "Requirement already satisfied: tensorflow-estimator==1.15.1 in /usr/local/lib/python3.6/dist-packages (from tensorflow->tybalt==0.0.0) (1.15.1)\n",
            "Requirement already satisfied: wheel>=0.26 in /usr/local/lib/python3.6/dist-packages (from tensorflow->tybalt==0.0.0) (0.33.6)\n",
            "Requirement already satisfied: opt-einsum>=2.3.2 in /usr/local/lib/python3.6/dist-packages (from tensorflow->tybalt==0.0.0) (3.1.0)\n",
            "Requirement already satisfied: grpcio>=1.8.6 in /usr/local/lib/python3.6/dist-packages (from tensorflow->tybalt==0.0.0) (1.15.0)\n",
            "Requirement already satisfied: astor>=0.6.0 in /usr/local/lib/python3.6/dist-packages (from tensorflow->tybalt==0.0.0) (0.8.0)\n",
            "Requirement already satisfied: gast==0.2.2 in /usr/local/lib/python3.6/dist-packages (from tensorflow->tybalt==0.0.0) (0.2.2)\n",
            "Requirement already satisfied: wrapt>=1.11.1 in /usr/local/lib/python3.6/dist-packages (from tensorflow->tybalt==0.0.0) (1.11.2)\n",
            "Requirement already satisfied: tensorboard<1.16.0,>=1.15.0 in /usr/local/lib/python3.6/dist-packages (from tensorflow->tybalt==0.0.0) (1.15.0)\n",
            "Requirement already satisfied: pytz>=2017.2 in /usr/local/lib/python3.6/dist-packages (from pandas->tybalt==0.0.0) (2018.9)\n",
            "Requirement already satisfied: python-dateutil>=2.6.1 in /usr/local/lib/python3.6/dist-packages (from pandas->tybalt==0.0.0) (2.6.1)\n",
            "Requirement already satisfied: joblib>=0.11 in /usr/local/lib/python3.6/dist-packages (from scikit-learn->tybalt==0.0.0) (0.14.0)\n",
            "Requirement already satisfied: setuptools in /usr/local/lib/python3.6/dist-packages (from protobuf>=3.6.1->tensorflow->tybalt==0.0.0) (41.4.0)\n",
            "Requirement already satisfied: werkzeug>=0.11.15 in /usr/local/lib/python3.6/dist-packages (from tensorboard<1.16.0,>=1.15.0->tensorflow->tybalt==0.0.0) (0.16.0)\n",
            "Requirement already satisfied: markdown>=2.6.8 in /usr/local/lib/python3.6/dist-packages (from tensorboard<1.16.0,>=1.15.0->tensorflow->tybalt==0.0.0) (3.1.1)\n",
            "Building wheels for collected packages: tybalt\n",
            "  Building wheel for tybalt (setup.py) ... \u001b[?25l\u001b[?25hdone\n",
            "  Created wheel for tybalt: filename=tybalt-0.0.0-cp36-none-any.whl size=19053 sha256=b8e578d1f012983c793dcbe992d792d71b22e2dcb0f9ef177f9ababaa8b83053\n",
            "  Stored in directory: /tmp/pip-ephem-wheel-cache-4savr1ii/wheels/e2/3f/29/28ffc21ee6794aa0535f03ab3934adfc5d7ba1e6e715c9cb2b\n",
            "Successfully built tybalt\n",
            "Installing collected packages: tybalt\n",
            "Successfully installed tybalt-0.0.0\n"
          ],
          "name": "stdout"
        }
      ]
    },
    {
      "cell_type": "code",
      "metadata": {
        "id": "1aLSzo43MI9U",
        "colab_type": "code",
        "colab": {}
      },
      "source": [
        "import os\n",
        "import numpy as np\n",
        "import pandas as pd\n",
        "from sklearn import preprocessing\n",
        "\n",
        "import matplotlib.pyplot as plt\n",
        "import seaborn as sns\n",
        "\n",
        "from tybalt.genes import high_weight_genes"
      ],
      "execution_count": 0,
      "outputs": []
    },
    {
      "cell_type": "code",
      "metadata": {
        "id": "o5W4pQGBM2LL",
        "colab_type": "code",
        "colab": {}
      },
      "source": [
        "%matplotlib inline\n",
        "plt.style.use('seaborn-notebook')"
      ],
      "execution_count": 0,
      "outputs": []
    },
    {
      "cell_type": "code",
      "metadata": {
        "id": "Oif4V5_nNoh8",
        "colab_type": "code",
        "colab": {}
      },
      "source": [
        "sns.set(style='white', color_codes=True)\n",
        "sns.set_context('paper', rc={'font.size':14, 'axes.titlesize':20, 'axes.labelsize':16})"
      ],
      "execution_count": 0,
      "outputs": []
    },
    {
      "cell_type": "code",
      "metadata": {
        "id": "aXFVjefyNrT-",
        "colab_type": "code",
        "colab": {}
      },
      "source": [
        "# High weight gene metrics\n",
        "metric = 'stddev'\n",
        "threshold = 2.5\n",
        "\n",
        "# Color dictionary\n",
        "algorithm_color_dict = {'ADAGE': '#33a02c',\n",
        "                        'Tybalt': '#fb9a99'}"
      ],
      "execution_count": 0,
      "outputs": []
    },
    {
      "cell_type": "code",
      "metadata": {
        "id": "ymIJ0XexNuP7",
        "colab_type": "code",
        "colab": {}
      },
      "source": [
        "# Feature file locations\n",
        "#tybalt_file = os.path.join('results', 'tybalt_gene_weights.tsv')\n",
        "tybalt_file = os.path.join('results', 'tybalt_mad_gene_weights.tsv')"
      ],
      "execution_count": 0,
      "outputs": []
    },
    {
      "cell_type": "code",
      "metadata": {
        "id": "2FIyq74ONy-c",
        "colab_type": "code",
        "colab": {}
      },
      "source": [
        "# Instantiate high weight gene objects\n",
        "tybalt_weights = high_weight_genes(tybalt_file, metric=metric, thresh=threshold, algorithm='Tybalt')"
      ],
      "execution_count": 0,
      "outputs": []
    },
    {
      "cell_type": "markdown",
      "metadata": {
        "id": "VM4vsBBHN5h9",
        "colab_type": "text"
      },
      "source": [
        "### Visualize distributions\n",
        "Certain high_weight_genes methods enable quick visualizations of high weigh gene features. Here, we show:\n",
        "\n",
        " 1. Positive and negative tail number of high weight genes\n",
        " 2. Full gene activity distributions\n",
        "\n",
        "We use the standard method of extracting high weight genes as presented in Tan et al. 2017. Briefly, this method calculates the standard deviation of the gene weight distribution and then selects high weight genes based on a cutoff: abs(weight) > 2.5 stddev"
      ]
    },
    {
      "cell_type": "code",
      "metadata": {
        "id": "KbCVXsa0N0_h",
        "colab_type": "code",
        "outputId": "377dd2e1-0f85-4314-b369-9f910883610a",
        "colab": {
          "base_uri": "https://localhost:8080/",
          "height": 391
        }
      },
      "source": [
        "#### Positive/negative tails\n",
        "tybalt_weights.count_high_weight_genes(return_plot=True, title='Tybalt',\n",
        "                                       color=algorithm_color_dict['Tybalt']);"
      ],
      "execution_count": 98,
      "outputs": [
        {
          "output_type": "display_data",
          "data": {
            "image/png": "[encoded data removed]",
            "text/plain": [
              "<Figure size 576x396 with 1 Axes>"
            ]
          },
          "metadata": {
            "tags": []
          }
        }
      ]
    },
    {
      "cell_type": "markdown",
      "metadata": {
        "id": "qcK1ql_g04PH",
        "colab_type": "text"
      },
      "source": [
        "#### Full gene activities\n",
        "\n",
        "Plot full gene activities for the first 10 encodings"
      ]
    },
    {
      "cell_type": "code",
      "metadata": {
        "id": "M8dq980zQxUD",
        "colab_type": "code",
        "outputId": "06ce15e3-d7e9-4056-97fd-d38b3eb0574a",
        "colab": {
          "base_uri": "https://localhost:8080/",
          "height": 459
        }
      },
      "source": [
        "first_encodings = range(1, 10)\n",
        "tybalt_weights.plot_weight_dist(features=first_encodings, title='Tybalt',\n",
        "                                color=algorithm_color_dict['Tybalt']);"
      ],
      "execution_count": 107,
      "outputs": [
        {
          "output_type": "display_data",
          "data": {
            "image/png": "[encoded data removed]",
            "text/plain": [
              "<Figure size 1080x432 with 9 Axes>"
            ]
          },
          "metadata": {
            "tags": []
          }
        }
      ]
    },
    {
      "cell_type": "markdown",
      "metadata": {
        "id": "g27f-I-5OteK",
        "colab_type": "text"
      },
      "source": [
        "### Observe distribution of skewness and kurtosis\n",
        "\n",
        " - Skewness - measure of distribution symmetry (normal distribution = 0)\n",
        " - Kurtosis - measure of tail density (light tail is < 0, heavy tail is > 0)\n",
        "\n",
        "We also remove outliers in this visualization to focus on the areas of highest densities. The outliers are defined based on calculating z-scores for skew and kurtosis and discarding the feature if it is > 3z for either. We output the nodes of interest with their corresponding values. The distributions of the samples over these features can be explored in our Shiny App."
      ]
    },
    {
      "cell_type": "code",
      "metadata": {
        "id": "r0Sk_uaGQ27T",
        "colab_type": "code",
        "outputId": "d119b0cd-9863-4e7f-91cc-87368d8b5e29",
        "colab": {
          "base_uri": "https://localhost:8080/",
          "height": 483
        }
      },
      "source": [
        "tybalt_node_categories = tybalt_weights.get_node_categories(melted=True)\n",
        "ax, tybalt_outlier = tybalt_weights.plot_skewkurtosis(color=algorithm_color_dict['Tybalt'])\n",
        "print(tybalt_outlier)"
      ],
      "execution_count": 101,
      "outputs": [
        {
          "output_type": "stream",
          "text": [
            "Empty DataFrame\n",
            "Columns: [skew, kurtosis]\n",
            "Index: []\n"
          ],
          "name": "stdout"
        },
        {
          "output_type": "display_data",
          "data": {
            "image/png": "[encoded data removed]",
            "text/plain": [
              "<Figure size 432x432 with 3 Axes>"
            ]
          },
          "metadata": {
            "tags": []
          }
        }
      ]
    },
    {
      "cell_type": "markdown",
      "metadata": {
        "id": "D30JIh7EPC85",
        "colab_type": "text"
      },
      "source": [
        "\n",
        "### Define Node Categories based on Feature Activation Distributions\n",
        "Skew\t\n",
        "Kurtosis\t\tLow\tHigh\n",
        "Low\tType A\tType C\n",
        "High\tType B\tType D\n",
        "\n",
        "\n",
        "We also define subsets of Type C and Type D nodes because the skew could be positive (left tail) or negative (right tail).\n",
        "\n",
        "High Skewness and Kurtosis determined statistically significantly different than normal using scipy.stats.skewtest and scipy.stats.kurtosistest with a Bonferroni adjusted p value."
      ]
    },
    {
      "cell_type": "markdown",
      "metadata": {
        "id": "P1OpA5KWPWkQ",
        "colab_type": "text"
      },
      "source": [
        "#### Adjust for node type distributions and reassign high weights\n",
        "\n",
        "The adjustments are made based on skewness and kurtosis observations for each node. Specially, each node is assigned a type and the high weight gene cutoff is modified based on the node type.\n",
        "\n",
        " - **Type A** nodes have low skew and kurtosis.\n",
        "  - This means gene features are symmetrical and include few genes in tails.\n",
        "  - Increase the threshold by 0.5 to remove false positive genes from selection.\n",
        " - **Type B** nodes have low skew and high kurtosis.\n",
        "  - This means gene features are symmetrical and include many genes in tails.\n",
        "  - This is the standard distribution designed for the given input threshold.\n",
        " - **Type C** nodes have high skew and low kurtosis.\n",
        "  - This means gene features are not symmetrical and include few genes in tails.\n",
        "  - A single standard deviation cutoff is inappropriate to capture genes in both the positive and negative tails.\n",
        "  - If the distribution is right skewed (more genes in the left tail), use the standard approach to identify left tailed genes, but increase the threshold by 0.5 to remove false positive genes from right tails.\n",
        "  - If the distribution is left skewed (more genes in the right tail), use the standard approach to identify right tailed genes, but increase the threshold by 0.5 to remove false positive genes from the left tails.\n",
        " - **Type D** nodes have high skew and high kurtosis.\n",
        "  - This means gene features are not symmetrical and include many genes in tails.\n",
        "  - A single standard deviation cutoff is inappropriate to capture genes in both the positive and negative tails.\n",
        "  - If the distribution is right skewed (more genes in the left tail), decrease the threshold by 0.5 to identify left tailed genes, and use the standard threshold to identify genes from the right tails.\n",
        "  - If the distribution is left skewed (more genes in the right tail), decrease the threshold by 0.5 to identify right tailed genes, and use the standard threshold to identify genes from the left tails."
      ]
    },
    {
      "cell_type": "markdown",
      "metadata": {
        "id": "ygmMrtjLoUEv",
        "colab_type": "text"
      },
      "source": [
        "### TSNE\n",
        "\n",
        "https://github.com/greenelab/tybalt/blob/master/tsne_tybalt_features.ipynb\n"
      ]
    },
    {
      "cell_type": "code",
      "metadata": {
        "id": "oapseI_QoSWu",
        "colab_type": "code",
        "outputId": "01d32667-2f7a-4e42-e9af-49a26e6ab8d7",
        "colab": {
          "base_uri": "https://localhost:8080/",
          "height": 155
        }
      },
      "source": [
        "#encoded_file = os.path.join('data', 'encoded_rnaseq_onehidden_warmup_batchnorm.tsv')\n",
        "encoded_file = 'encoded_rnaseq_onehidden_warmup_batchnorm.tsv' #os.path.join('data', 'encoded_rnaseq_onehidden_warmup_batchnorm.tsv')\n",
        "\n",
        "encoded_df = pd.read_table(encoded_file, index_col=0)\n",
        "encoded_df.head(2)"
      ],
      "execution_count": 103,
      "outputs": [
        {
          "output_type": "execute_result",
          "data": {
            "text/html": [
              "<div>\n",
              "<style scoped>\n",
              "    .dataframe tbody tr th:only-of-type {\n",
              "        vertical-align: middle;\n",
              "    }\n",
              "\n",
              "    .dataframe tbody tr th {\n",
              "        vertical-align: top;\n",
              "    }\n",
              "\n",
              "    .dataframe thead th {\n",
              "        text-align: right;\n",
              "    }\n",
              "</style>\n",
              "<table border=\"1\" class=\"dataframe\">\n",
              "  <thead>\n",
              "    <tr style=\"text-align: right;\">\n",
              "      <th></th>\n",
              "      <th>1</th>\n",
              "      <th>2</th>\n",
              "      <th>3</th>\n",
              "      <th>4</th>\n",
              "      <th>5</th>\n",
              "      <th>6</th>\n",
              "      <th>7</th>\n",
              "      <th>8</th>\n",
              "      <th>9</th>\n",
              "      <th>10</th>\n",
              "      <th>11</th>\n",
              "      <th>12</th>\n",
              "      <th>13</th>\n",
              "      <th>14</th>\n",
              "      <th>15</th>\n",
              "      <th>16</th>\n",
              "      <th>17</th>\n",
              "      <th>18</th>\n",
              "      <th>19</th>\n",
              "      <th>20</th>\n",
              "      <th>21</th>\n",
              "      <th>22</th>\n",
              "      <th>23</th>\n",
              "      <th>24</th>\n",
              "      <th>25</th>\n",
              "      <th>26</th>\n",
              "      <th>27</th>\n",
              "      <th>28</th>\n",
              "      <th>29</th>\n",
              "      <th>30</th>\n",
              "      <th>31</th>\n",
              "      <th>32</th>\n",
              "      <th>33</th>\n",
              "      <th>34</th>\n",
              "      <th>35</th>\n",
              "      <th>36</th>\n",
              "      <th>37</th>\n",
              "      <th>38</th>\n",
              "      <th>39</th>\n",
              "      <th>40</th>\n",
              "      <th>...</th>\n",
              "      <th>61</th>\n",
              "      <th>62</th>\n",
              "      <th>63</th>\n",
              "      <th>64</th>\n",
              "      <th>65</th>\n",
              "      <th>66</th>\n",
              "      <th>67</th>\n",
              "      <th>68</th>\n",
              "      <th>69</th>\n",
              "      <th>70</th>\n",
              "      <th>71</th>\n",
              "      <th>72</th>\n",
              "      <th>73</th>\n",
              "      <th>74</th>\n",
              "      <th>75</th>\n",
              "      <th>76</th>\n",
              "      <th>77</th>\n",
              "      <th>78</th>\n",
              "      <th>79</th>\n",
              "      <th>80</th>\n",
              "      <th>81</th>\n",
              "      <th>82</th>\n",
              "      <th>83</th>\n",
              "      <th>84</th>\n",
              "      <th>85</th>\n",
              "      <th>86</th>\n",
              "      <th>87</th>\n",
              "      <th>88</th>\n",
              "      <th>89</th>\n",
              "      <th>90</th>\n",
              "      <th>91</th>\n",
              "      <th>92</th>\n",
              "      <th>93</th>\n",
              "      <th>94</th>\n",
              "      <th>95</th>\n",
              "      <th>96</th>\n",
              "      <th>97</th>\n",
              "      <th>98</th>\n",
              "      <th>99</th>\n",
              "      <th>100</th>\n",
              "    </tr>\n",
              "  </thead>\n",
              "  <tbody>\n",
              "    <tr>\n",
              "      <th>MMETSP0006</th>\n",
              "      <td>1.876448</td>\n",
              "      <td>0.000000</td>\n",
              "      <td>0.894085</td>\n",
              "      <td>0.0</td>\n",
              "      <td>0.000000</td>\n",
              "      <td>0.000000</td>\n",
              "      <td>0.0</td>\n",
              "      <td>1.842967</td>\n",
              "      <td>0.000000</td>\n",
              "      <td>0.949929</td>\n",
              "      <td>0.000000</td>\n",
              "      <td>1.103950</td>\n",
              "      <td>0.197296</td>\n",
              "      <td>1.363058</td>\n",
              "      <td>1.941934</td>\n",
              "      <td>0.178247</td>\n",
              "      <td>0.0</td>\n",
              "      <td>1.806945</td>\n",
              "      <td>1.911012</td>\n",
              "      <td>2.329956</td>\n",
              "      <td>1.419165</td>\n",
              "      <td>1.427361</td>\n",
              "      <td>0.000000</td>\n",
              "      <td>0.000000</td>\n",
              "      <td>0.0</td>\n",
              "      <td>1.333015</td>\n",
              "      <td>0.587078</td>\n",
              "      <td>0.000000</td>\n",
              "      <td>0.000000</td>\n",
              "      <td>1.050492</td>\n",
              "      <td>1.732553</td>\n",
              "      <td>1.238803</td>\n",
              "      <td>0.000000</td>\n",
              "      <td>1.802754</td>\n",
              "      <td>0.000000</td>\n",
              "      <td>2.228982</td>\n",
              "      <td>0.000000</td>\n",
              "      <td>1.679959</td>\n",
              "      <td>0.384220</td>\n",
              "      <td>1.933236</td>\n",
              "      <td>...</td>\n",
              "      <td>1.272338</td>\n",
              "      <td>0.000000</td>\n",
              "      <td>0.000000</td>\n",
              "      <td>1.792688</td>\n",
              "      <td>0.00000</td>\n",
              "      <td>0.419507</td>\n",
              "      <td>1.919660</td>\n",
              "      <td>1.008051</td>\n",
              "      <td>1.427680</td>\n",
              "      <td>0.0</td>\n",
              "      <td>1.422614</td>\n",
              "      <td>2.229233</td>\n",
              "      <td>2.323743</td>\n",
              "      <td>0.0</td>\n",
              "      <td>0.097729</td>\n",
              "      <td>1.302169</td>\n",
              "      <td>0.348179</td>\n",
              "      <td>0.068128</td>\n",
              "      <td>1.834200</td>\n",
              "      <td>0.000000</td>\n",
              "      <td>0.0</td>\n",
              "      <td>0.000000</td>\n",
              "      <td>0.409598</td>\n",
              "      <td>1.339217</td>\n",
              "      <td>0.000000</td>\n",
              "      <td>0.002742</td>\n",
              "      <td>0.732180</td>\n",
              "      <td>0.0</td>\n",
              "      <td>1.848647</td>\n",
              "      <td>2.360391</td>\n",
              "      <td>0.232767</td>\n",
              "      <td>0.000000</td>\n",
              "      <td>1.971651</td>\n",
              "      <td>0.709128</td>\n",
              "      <td>2.104425</td>\n",
              "      <td>1.936856</td>\n",
              "      <td>1.084748</td>\n",
              "      <td>0.288469</td>\n",
              "      <td>2.605636</td>\n",
              "      <td>0.000000</td>\n",
              "    </tr>\n",
              "    <tr>\n",
              "      <th>MMETSP0007</th>\n",
              "      <td>1.611497</td>\n",
              "      <td>1.601281</td>\n",
              "      <td>1.729570</td>\n",
              "      <td>0.0</td>\n",
              "      <td>1.685952</td>\n",
              "      <td>0.745061</td>\n",
              "      <td>0.0</td>\n",
              "      <td>1.490728</td>\n",
              "      <td>0.821921</td>\n",
              "      <td>1.718158</td>\n",
              "      <td>1.611425</td>\n",
              "      <td>1.850023</td>\n",
              "      <td>0.922934</td>\n",
              "      <td>1.577315</td>\n",
              "      <td>1.880125</td>\n",
              "      <td>0.000000</td>\n",
              "      <td>0.0</td>\n",
              "      <td>1.628002</td>\n",
              "      <td>1.636423</td>\n",
              "      <td>1.803375</td>\n",
              "      <td>1.812692</td>\n",
              "      <td>1.466057</td>\n",
              "      <td>0.340933</td>\n",
              "      <td>1.574398</td>\n",
              "      <td>0.0</td>\n",
              "      <td>1.319699</td>\n",
              "      <td>1.868377</td>\n",
              "      <td>0.241569</td>\n",
              "      <td>1.404316</td>\n",
              "      <td>1.688224</td>\n",
              "      <td>1.846892</td>\n",
              "      <td>2.457212</td>\n",
              "      <td>0.553136</td>\n",
              "      <td>1.545540</td>\n",
              "      <td>1.339619</td>\n",
              "      <td>2.165811</td>\n",
              "      <td>1.111624</td>\n",
              "      <td>1.998572</td>\n",
              "      <td>1.858137</td>\n",
              "      <td>1.949196</td>\n",
              "      <td>...</td>\n",
              "      <td>1.090916</td>\n",
              "      <td>1.970214</td>\n",
              "      <td>0.688201</td>\n",
              "      <td>1.632058</td>\n",
              "      <td>1.76517</td>\n",
              "      <td>0.000000</td>\n",
              "      <td>2.105552</td>\n",
              "      <td>1.565908</td>\n",
              "      <td>1.627673</td>\n",
              "      <td>0.0</td>\n",
              "      <td>1.495416</td>\n",
              "      <td>0.969223</td>\n",
              "      <td>2.277291</td>\n",
              "      <td>0.0</td>\n",
              "      <td>0.218676</td>\n",
              "      <td>1.780312</td>\n",
              "      <td>2.004975</td>\n",
              "      <td>2.764904</td>\n",
              "      <td>2.015788</td>\n",
              "      <td>1.186617</td>\n",
              "      <td>0.0</td>\n",
              "      <td>0.556212</td>\n",
              "      <td>1.257863</td>\n",
              "      <td>1.868572</td>\n",
              "      <td>0.299366</td>\n",
              "      <td>0.000000</td>\n",
              "      <td>2.734659</td>\n",
              "      <td>0.0</td>\n",
              "      <td>2.617791</td>\n",
              "      <td>2.287021</td>\n",
              "      <td>0.825425</td>\n",
              "      <td>0.150838</td>\n",
              "      <td>1.999727</td>\n",
              "      <td>1.383164</td>\n",
              "      <td>2.026740</td>\n",
              "      <td>2.213120</td>\n",
              "      <td>0.324772</td>\n",
              "      <td>0.925415</td>\n",
              "      <td>2.184832</td>\n",
              "      <td>1.443945</td>\n",
              "    </tr>\n",
              "  </tbody>\n",
              "</table>\n",
              "<p>2 rows × 100 columns</p>\n",
              "</div>"
            ],
            "text/plain": [
              "                   1         2         3  ...        98        99       100\n",
              "MMETSP0006  1.876448  0.000000  0.894085  ...  0.288469  2.605636  0.000000\n",
              "MMETSP0007  1.611497  1.601281  1.729570  ...  0.925415  2.184832  1.443945\n",
              "\n",
              "[2 rows x 100 columns]"
            ]
          },
          "metadata": {
            "tags": []
          },
          "execution_count": 103
        }
      ]
    },
    {
      "cell_type": "code",
      "metadata": {
        "id": "h4Of9xf2o3nN",
        "colab_type": "code",
        "outputId": "73563a86-38ea-4ccb-e31b-77af568be0e3",
        "colab": {
          "base_uri": "https://localhost:8080/",
          "height": 172
        }
      },
      "source": [
        "# Load Zero-One transformed (min-max scaled) RNAseq data\n",
        "#rnaseq_df = data_DF\n",
        "rnaseq_df= mad_genes_df\n",
        " #os.path.join('data', 'pancan_scaled_zeroone_rnaseq.tsv.gz')\n",
        "#rnaseq_df = pd.read_table(rnaseq_file, index_col=0)\n",
        "print(rnaseq_df.shape)\n",
        "rnaseq_df.head(2)"
      ],
      "execution_count": 104,
      "outputs": [
        {
          "output_type": "stream",
          "text": [
            "(61, 8000)\n"
          ],
          "name": "stdout"
        },
        {
          "output_type": "execute_result",
          "data": {
            "text/html": [
              "<div>\n",
              "<style scoped>\n",
              "    .dataframe tbody tr th:only-of-type {\n",
              "        vertical-align: middle;\n",
              "    }\n",
              "\n",
              "    .dataframe tbody tr th {\n",
              "        vertical-align: top;\n",
              "    }\n",
              "\n",
              "    .dataframe thead th {\n",
              "        text-align: right;\n",
              "    }\n",
              "</style>\n",
              "<table border=\"1\" class=\"dataframe\">\n",
              "  <thead>\n",
              "    <tr style=\"text-align: right;\">\n",
              "      <th>Orthogroup</th>\n",
              "      <th>OG0026143</th>\n",
              "      <th>OG0014142</th>\n",
              "      <th>OG0014645</th>\n",
              "      <th>OG0025874</th>\n",
              "      <th>OG0010667</th>\n",
              "      <th>OG0025586</th>\n",
              "      <th>OG0022720</th>\n",
              "      <th>OG0013874</th>\n",
              "      <th>OG0021190</th>\n",
              "      <th>OG0012010</th>\n",
              "      <th>OG0020923</th>\n",
              "      <th>OG0019275</th>\n",
              "      <th>OG0023557</th>\n",
              "      <th>OG0018684</th>\n",
              "      <th>OG0011316</th>\n",
              "      <th>OG0031940</th>\n",
              "      <th>OG0018764</th>\n",
              "      <th>OG0013113</th>\n",
              "      <th>OG0022191</th>\n",
              "      <th>OG0028471</th>\n",
              "      <th>OG0002537</th>\n",
              "      <th>OG0030076</th>\n",
              "      <th>OG0009273</th>\n",
              "      <th>OG0025725</th>\n",
              "      <th>OG0031741</th>\n",
              "      <th>OG0015232</th>\n",
              "      <th>OG0013556</th>\n",
              "      <th>OG0021686</th>\n",
              "      <th>OG0026828</th>\n",
              "      <th>OG0010452</th>\n",
              "      <th>OG0025863</th>\n",
              "      <th>OG0013120</th>\n",
              "      <th>OG0018053</th>\n",
              "      <th>OG0020648</th>\n",
              "      <th>OG0013916</th>\n",
              "      <th>OG0003244</th>\n",
              "      <th>OG0008446</th>\n",
              "      <th>OG0008569</th>\n",
              "      <th>OG0002928</th>\n",
              "      <th>OG0014313</th>\n",
              "      <th>...</th>\n",
              "      <th>OG0021212</th>\n",
              "      <th>OG0008967</th>\n",
              "      <th>OG0017857</th>\n",
              "      <th>OG0016666</th>\n",
              "      <th>OG0019957</th>\n",
              "      <th>OG0038168</th>\n",
              "      <th>OG0013052</th>\n",
              "      <th>OG0002231</th>\n",
              "      <th>OG0017327</th>\n",
              "      <th>OG0032337</th>\n",
              "      <th>OG0011400</th>\n",
              "      <th>OG0006744</th>\n",
              "      <th>OG0002820</th>\n",
              "      <th>OG0031705</th>\n",
              "      <th>OG0024298</th>\n",
              "      <th>OG0043372</th>\n",
              "      <th>OG0030603</th>\n",
              "      <th>OG0013455</th>\n",
              "      <th>OG0010245</th>\n",
              "      <th>OG0013122</th>\n",
              "      <th>OG0032290</th>\n",
              "      <th>OG0023733</th>\n",
              "      <th>OG0018037</th>\n",
              "      <th>OG0026813</th>\n",
              "      <th>OG0012943</th>\n",
              "      <th>OG0030600</th>\n",
              "      <th>OG0020255</th>\n",
              "      <th>OG0022804</th>\n",
              "      <th>OG0012110</th>\n",
              "      <th>OG0018498</th>\n",
              "      <th>OG0034291</th>\n",
              "      <th>OG0013576</th>\n",
              "      <th>OG0030374</th>\n",
              "      <th>OG0025330</th>\n",
              "      <th>OG0008316</th>\n",
              "      <th>OG0012183</th>\n",
              "      <th>OG0028580</th>\n",
              "      <th>OG0016459</th>\n",
              "      <th>OG0003419</th>\n",
              "      <th>OG0010882</th>\n",
              "    </tr>\n",
              "  </thead>\n",
              "  <tbody>\n",
              "    <tr>\n",
              "      <th>MMETSP0006</th>\n",
              "      <td>0.0</td>\n",
              "      <td>0.630037</td>\n",
              "      <td>0.0</td>\n",
              "      <td>0.0</td>\n",
              "      <td>0.640573</td>\n",
              "      <td>0.0</td>\n",
              "      <td>0.0</td>\n",
              "      <td>0.0</td>\n",
              "      <td>0.0</td>\n",
              "      <td>0.533444</td>\n",
              "      <td>0.350737</td>\n",
              "      <td>0.497964</td>\n",
              "      <td>0.0</td>\n",
              "      <td>0.713517</td>\n",
              "      <td>0.0</td>\n",
              "      <td>0.0</td>\n",
              "      <td>0.0</td>\n",
              "      <td>0.0</td>\n",
              "      <td>0.0</td>\n",
              "      <td>0.0</td>\n",
              "      <td>0.530032</td>\n",
              "      <td>0.0</td>\n",
              "      <td>0.304823</td>\n",
              "      <td>0.0</td>\n",
              "      <td>0.0</td>\n",
              "      <td>0.0</td>\n",
              "      <td>0.0</td>\n",
              "      <td>0.0</td>\n",
              "      <td>0.0</td>\n",
              "      <td>0.886682</td>\n",
              "      <td>0.0</td>\n",
              "      <td>0.0</td>\n",
              "      <td>0.634326</td>\n",
              "      <td>0.0</td>\n",
              "      <td>0.0</td>\n",
              "      <td>0.67188</td>\n",
              "      <td>0.389809</td>\n",
              "      <td>0.0</td>\n",
              "      <td>0.385472</td>\n",
              "      <td>0.0</td>\n",
              "      <td>...</td>\n",
              "      <td>0.0</td>\n",
              "      <td>0.440958</td>\n",
              "      <td>0.0</td>\n",
              "      <td>0.0</td>\n",
              "      <td>0.0</td>\n",
              "      <td>0.0</td>\n",
              "      <td>0.0</td>\n",
              "      <td>0.292499</td>\n",
              "      <td>0.719749</td>\n",
              "      <td>0.0</td>\n",
              "      <td>0.0</td>\n",
              "      <td>0.0</td>\n",
              "      <td>0.000000</td>\n",
              "      <td>0.0</td>\n",
              "      <td>0.0</td>\n",
              "      <td>0.0</td>\n",
              "      <td>0.0</td>\n",
              "      <td>0.0</td>\n",
              "      <td>0.0</td>\n",
              "      <td>0.0</td>\n",
              "      <td>0.0</td>\n",
              "      <td>0.0</td>\n",
              "      <td>0.761268</td>\n",
              "      <td>0.0</td>\n",
              "      <td>0.586727</td>\n",
              "      <td>0.0</td>\n",
              "      <td>0.0</td>\n",
              "      <td>0.0</td>\n",
              "      <td>0.0</td>\n",
              "      <td>0.0</td>\n",
              "      <td>0.0</td>\n",
              "      <td>0.0</td>\n",
              "      <td>0.0</td>\n",
              "      <td>0.0</td>\n",
              "      <td>0.0</td>\n",
              "      <td>0.0</td>\n",
              "      <td>0.0</td>\n",
              "      <td>0.0</td>\n",
              "      <td>0.363783</td>\n",
              "      <td>0.0</td>\n",
              "    </tr>\n",
              "    <tr>\n",
              "      <th>MMETSP0007</th>\n",
              "      <td>0.0</td>\n",
              "      <td>0.000000</td>\n",
              "      <td>0.0</td>\n",
              "      <td>0.0</td>\n",
              "      <td>1.000000</td>\n",
              "      <td>0.0</td>\n",
              "      <td>0.0</td>\n",
              "      <td>0.0</td>\n",
              "      <td>0.0</td>\n",
              "      <td>0.000000</td>\n",
              "      <td>0.000000</td>\n",
              "      <td>0.000000</td>\n",
              "      <td>0.0</td>\n",
              "      <td>0.000000</td>\n",
              "      <td>0.0</td>\n",
              "      <td>0.0</td>\n",
              "      <td>0.0</td>\n",
              "      <td>0.0</td>\n",
              "      <td>0.0</td>\n",
              "      <td>0.0</td>\n",
              "      <td>0.000000</td>\n",
              "      <td>0.0</td>\n",
              "      <td>0.000000</td>\n",
              "      <td>0.0</td>\n",
              "      <td>0.0</td>\n",
              "      <td>0.0</td>\n",
              "      <td>0.0</td>\n",
              "      <td>0.0</td>\n",
              "      <td>0.0</td>\n",
              "      <td>0.000000</td>\n",
              "      <td>0.0</td>\n",
              "      <td>0.0</td>\n",
              "      <td>1.000000</td>\n",
              "      <td>0.0</td>\n",
              "      <td>0.0</td>\n",
              "      <td>1.00000</td>\n",
              "      <td>0.000000</td>\n",
              "      <td>0.0</td>\n",
              "      <td>0.000000</td>\n",
              "      <td>0.0</td>\n",
              "      <td>...</td>\n",
              "      <td>0.0</td>\n",
              "      <td>0.000000</td>\n",
              "      <td>0.0</td>\n",
              "      <td>0.0</td>\n",
              "      <td>0.0</td>\n",
              "      <td>0.0</td>\n",
              "      <td>0.0</td>\n",
              "      <td>0.000000</td>\n",
              "      <td>0.000000</td>\n",
              "      <td>0.0</td>\n",
              "      <td>0.0</td>\n",
              "      <td>0.0</td>\n",
              "      <td>0.358254</td>\n",
              "      <td>0.0</td>\n",
              "      <td>0.0</td>\n",
              "      <td>0.0</td>\n",
              "      <td>0.0</td>\n",
              "      <td>0.0</td>\n",
              "      <td>0.0</td>\n",
              "      <td>0.0</td>\n",
              "      <td>0.0</td>\n",
              "      <td>0.0</td>\n",
              "      <td>0.451201</td>\n",
              "      <td>0.0</td>\n",
              "      <td>0.000000</td>\n",
              "      <td>0.0</td>\n",
              "      <td>0.0</td>\n",
              "      <td>0.0</td>\n",
              "      <td>0.0</td>\n",
              "      <td>0.0</td>\n",
              "      <td>0.0</td>\n",
              "      <td>0.0</td>\n",
              "      <td>0.0</td>\n",
              "      <td>0.0</td>\n",
              "      <td>0.0</td>\n",
              "      <td>0.0</td>\n",
              "      <td>0.0</td>\n",
              "      <td>0.0</td>\n",
              "      <td>0.389440</td>\n",
              "      <td>0.0</td>\n",
              "    </tr>\n",
              "  </tbody>\n",
              "</table>\n",
              "<p>2 rows × 8000 columns</p>\n",
              "</div>"
            ],
            "text/plain": [
              "Orthogroup  OG0026143  OG0014142  OG0014645  ...  OG0016459  OG0003419  OG0010882\n",
              "MMETSP0006        0.0   0.630037        0.0  ...        0.0   0.363783        0.0\n",
              "MMETSP0007        0.0   0.000000        0.0  ...        0.0   0.389440        0.0\n",
              "\n",
              "[2 rows x 8000 columns]"
            ]
          },
          "metadata": {
            "tags": []
          },
          "execution_count": 104
        }
      ]
    },
    {
      "cell_type": "code",
      "metadata": {
        "id": "wTzQdLCJo3zS",
        "colab_type": "code",
        "outputId": "70988c38-9312-444e-d84b-278388d931ab",
        "colab": {
          "base_uri": "https://localhost:8080/",
          "height": 136
        }
      },
      "source": [
        "# Perform t-SNE on VAE encoded_features\n",
        "import pandas as pd\n",
        "from sklearn import manifold\n",
        "tsne = manifold.TSNE(n_components=2, init='pca', random_state=0, perplexity=20,\n",
        "                     learning_rate=300, n_iter=400)\n",
        "tsne_out = tsne.fit_transform(encoded_df)\n",
        "tsne_out = pd.DataFrame(tsne_out, columns=['1', '2'])\n",
        "tsne_out.index = encoded_df.index\n",
        "tsne_out.index.name = 'tcga_id'\n",
        "tsne_out_file = os.path.join('results', 'tybalt_tsne_features.tsv')\n",
        "tsne_out.to_csv(tsne_out_file, sep='\\t')\n",
        "tsne_out.head(2)\n",
        "\n",
        "#sns.lmplot(x=\"1\", y=\"2\", data=tsne_out, fit_reg=False, legend=True, size=9) # hue='txga_id')\n"
      ],
      "execution_count": 105,
      "outputs": [
        {
          "output_type": "execute_result",
          "data": {
            "text/html": [
              "<div>\n",
              "<style scoped>\n",
              "    .dataframe tbody tr th:only-of-type {\n",
              "        vertical-align: middle;\n",
              "    }\n",
              "\n",
              "    .dataframe tbody tr th {\n",
              "        vertical-align: top;\n",
              "    }\n",
              "\n",
              "    .dataframe thead th {\n",
              "        text-align: right;\n",
              "    }\n",
              "</style>\n",
              "<table border=\"1\" class=\"dataframe\">\n",
              "  <thead>\n",
              "    <tr style=\"text-align: right;\">\n",
              "      <th></th>\n",
              "      <th>1</th>\n",
              "      <th>2</th>\n",
              "    </tr>\n",
              "    <tr>\n",
              "      <th>tcga_id</th>\n",
              "      <th></th>\n",
              "      <th></th>\n",
              "    </tr>\n",
              "  </thead>\n",
              "  <tbody>\n",
              "    <tr>\n",
              "      <th>MMETSP0006</th>\n",
              "      <td>-73.798187</td>\n",
              "      <td>71.180283</td>\n",
              "    </tr>\n",
              "    <tr>\n",
              "      <th>MMETSP0007</th>\n",
              "      <td>-128.354691</td>\n",
              "      <td>111.290894</td>\n",
              "    </tr>\n",
              "  </tbody>\n",
              "</table>\n",
              "</div>"
            ],
            "text/plain": [
              "                     1           2\n",
              "tcga_id                           \n",
              "MMETSP0006  -73.798187   71.180283\n",
              "MMETSP0007 -128.354691  111.290894"
            ]
          },
          "metadata": {
            "tags": []
          },
          "execution_count": 105
        }
      ]
    },
    {
      "cell_type": "code",
      "metadata": {
        "id": "OOE1SlRXpdj7",
        "colab_type": "code",
        "outputId": "b35ad545-b265-41f7-9b2c-f49cc3d7f5ed",
        "colab": {
          "base_uri": "https://localhost:8080/",
          "height": 136
        }
      },
      "source": [
        "# Perform t-SNE on zero-one RNAseq features\n",
        "tsne_rna = manifold.TSNE(n_components=2, init='pca', random_state=0, perplexity=20,\n",
        "                         learning_rate=300, n_iter=400)\n",
        "tsne_rna_out = tsne_rna.fit_transform(rnaseq_df)\n",
        "tsne_rna_out = pd.DataFrame(tsne_rna_out, columns=['1', '2'])\n",
        "tsne_rna_out.index = rnaseq_df.index\n",
        "tsne_rna_out.index.name = 'tcga_id'\n",
        "tsne_rna_out_file = os.path.join('results', 'rnaseq_tsne_features.tsv')\n",
        "tsne_rna_out.to_csv(tsne_rna_out_file, sep='\\t')\n",
        "tsne_rna_out.head(2)\n",
        "\n",
        "#sns.lmplot(x=\"1\", y=\"2\", data=tsne_rna_out, fit_reg=False, legend=True, size=9) # hue='txga_id')\n"
      ],
      "execution_count": 106,
      "outputs": [
        {
          "output_type": "execute_result",
          "data": {
            "text/html": [
              "<div>\n",
              "<style scoped>\n",
              "    .dataframe tbody tr th:only-of-type {\n",
              "        vertical-align: middle;\n",
              "    }\n",
              "\n",
              "    .dataframe tbody tr th {\n",
              "        vertical-align: top;\n",
              "    }\n",
              "\n",
              "    .dataframe thead th {\n",
              "        text-align: right;\n",
              "    }\n",
              "</style>\n",
              "<table border=\"1\" class=\"dataframe\">\n",
              "  <thead>\n",
              "    <tr style=\"text-align: right;\">\n",
              "      <th></th>\n",
              "      <th>1</th>\n",
              "      <th>2</th>\n",
              "    </tr>\n",
              "    <tr>\n",
              "      <th>tcga_id</th>\n",
              "      <th></th>\n",
              "      <th></th>\n",
              "    </tr>\n",
              "  </thead>\n",
              "  <tbody>\n",
              "    <tr>\n",
              "      <th>MMETSP0006</th>\n",
              "      <td>-90.218323</td>\n",
              "      <td>-124.422630</td>\n",
              "    </tr>\n",
              "    <tr>\n",
              "      <th>MMETSP0007</th>\n",
              "      <td>4.323671</td>\n",
              "      <td>29.967873</td>\n",
              "    </tr>\n",
              "  </tbody>\n",
              "</table>\n",
              "</div>"
            ],
            "text/plain": [
              "                    1           2\n",
              "tcga_id                          \n",
              "MMETSP0006 -90.218323 -124.422630\n",
              "MMETSP0007   4.323671   29.967873"
            ]
          },
          "metadata": {
            "tags": []
          },
          "execution_count": 106
        }
      ]
    },
    {
      "cell_type": "code",
      "metadata": {
        "id": "ds6OqKFs1fCW",
        "colab_type": "code",
        "colab": {}
      },
      "source": [
        ""
      ],
      "execution_count": 0,
      "outputs": []
    }
  ]
}